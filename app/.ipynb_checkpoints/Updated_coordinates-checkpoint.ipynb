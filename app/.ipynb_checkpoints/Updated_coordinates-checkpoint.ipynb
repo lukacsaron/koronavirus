{
 "cells": [
  {
   "cell_type": "code",
   "execution_count": 5,
   "metadata": {
    "ExecuteTime": {
     "end_time": "2020-02-21T11:14:47.053652Z",
     "start_time": "2020-02-21T11:14:47.050939Z"
    }
   },
   "outputs": [],
   "source": [
    "import pandas as pd\n",
    "import numpy as np\n",
    "from datetime import datetime, timedelta\n",
    "import math "
   ]
  },
  {
   "cell_type": "code",
   "execution_count": 6,
   "metadata": {
    "ExecuteTime": {
     "end_time": "2020-02-21T11:14:52.459673Z",
     "start_time": "2020-02-21T11:14:48.641735Z"
    }
   },
   "outputs": [],
   "source": [
    "# Import xlsx file and store each sheet in to a df list\n",
    "xl_file = pd.ExcelFile('./data.xlsx',)\n",
    "\n",
    "dfs = {sheet_name: xl_file.parse(sheet_name) \n",
    "          for sheet_name in xl_file.sheet_names}\n",
    "\n",
    "# Data from each sheet can be accessed via key\n",
    "keyList = list(dfs.keys())\n",
    "\n",
    "# Data cleansing\n",
    "for key, df in dfs.items():\n",
    "    dfs[key].loc[:,'Confirmed'].fillna(value=0, inplace=True)\n",
    "    dfs[key].loc[:,'Deaths'].fillna(value=0, inplace=True)\n",
    "    dfs[key].loc[:,'Recovered'].fillna(value=0, inplace=True)\n",
    "    dfs[key]=dfs[key].astype({'Confirmed':'int64', 'Deaths':'int64', 'Recovered':'int64'})\n",
    "    # Change as China for coordinate search\n",
    "    dfs[key]=dfs[key].replace({'Country/Region':'Mainland China'}, 'China')\n",
    "    dfs[key]=dfs[key].replace({'Province/State':'Queensland'}, 'Brisbane')\n",
    "    dfs[key]=dfs[key].replace({'Province/State':'New South Wales'}, 'Sydney')\n",
    "    dfs[key]=dfs[key].replace({'Province/State':'Victoria'}, 'Melbourne')\n",
    "    dfs[key]=dfs[key].replace({'Province/State':'South Australia'}, 'Adelaide')\n",
    "    dfs[key]=dfs[key].replace({'Province/State':'Northern Territory'}, 'Darwin')\n",
    "    dfs[key]=dfs[key].replace({'Province/State':'Western Australia'}, 'Perth')\n",
    "    # Add a zero to the date so can be convert by datetime.strptime as 0-padded date\n",
    "    dfs[key]['Last Update'] = '0' + dfs[key]['Last Update']\n",
    "    # Convert time as Australian eastern daylight time\n",
    "    dfs[key]['Date_last_updated_AEDT'] = [datetime.strptime(d, '%m/%d/%Y %H:%M') for d in dfs[key]['Last Update']]\n",
    "    dfs[key]['Date_last_updated_AEDT'] = dfs[key]['Date_last_updated_AEDT'] + timedelta(hours=16)"
   ]
  },
  {
   "cell_type": "code",
   "execution_count": 7,
   "metadata": {
    "ExecuteTime": {
     "end_time": "2020-02-21T11:16:24.491857Z",
     "start_time": "2020-02-21T11:14:54.020831Z"
    }
   },
   "outputs": [],
   "source": [
    "# Add coordinates for each area in the list for the latest table sheet\n",
    "# As there are limit for free account, we only call coordinates for the latest table sheet\n",
    "from opencage.geocoder import OpenCageGeocode\n",
    "key = 'b33700b33d0a446aa6e16c0b57fc82d1'  # get api key from:  https://opencagedata.com\n",
    "geocoder = OpenCageGeocode(key)\n",
    "\n",
    "list_lat = []   # create empty lists\n",
    "list_long = []    \n",
    "for index, row in dfs[keyList[0]].iterrows(): # iterate over rows in dataframe\n",
    "    City = row['Province/State']\n",
    "    State = row['Country/Region']\n",
    "\n",
    "    if City:\n",
    "        if City == 'Macau' or City == 'Hong Kong':\n",
    "            query = str(City)+','+'China'\n",
    "            results = geocoder.geocode(query)   \n",
    "            lat = results[0]['geometry']['lat']\n",
    "            long = results[0]['geometry']['lng']\n",
    "\n",
    "            list_lat.append(lat)\n",
    "            list_long.append(long)\n",
    "        else:\n",
    "            query = str(City)+','+str(State)\n",
    "            results = geocoder.geocode(query)   \n",
    "            lat = results[0]['geometry']['lat']\n",
    "            long = results[0]['geometry']['lng']\n",
    "\n",
    "            list_lat.append(lat)\n",
    "            list_long.append(long)\n",
    "\n",
    "    elif State == 'Italy':\n",
    "        query = 'Lombardy'+','+str(State)\n",
    "        results = geocoder.geocode(query)   \n",
    "        lat = results[0]['geometry']['lat']\n",
    "        long = results[0]['geometry']['lng']\n",
    "            \n",
    "        list_lat.append(lat)\n",
    "        list_long.append(long)\n",
    "    \n",
    "    elif State == 'South Korea':\n",
    "        query = 'Daegu'+','+str(State)\n",
    "        results = geocoder.geocode(query)   \n",
    "        lat = results[0]['geometry']['lat']\n",
    "        long = results[0]['geometry']['lng']\n",
    "\n",
    "        list_lat.append(lat)\n",
    "        list_long.append(long)\n",
    "    \n",
    "    else:\n",
    "        query = str(State)\n",
    "        results = geocoder.geocode(query)   \n",
    "        lat = results[0]['geometry']['lat']\n",
    "        long = results[0]['geometry']['lng']\n",
    "\n",
    "        list_lat.append(lat)\n",
    "        list_long.append(long)\n",
    "            \n",
    "# create new columns from lists    \n",
    "dfs[keyList[0]]['lat'] = list_lat   \n",
    "dfs[keyList[0]]['lon'] = list_long"
   ]
  },
  {
   "cell_type": "code",
   "execution_count": 8,
   "metadata": {
    "ExecuteTime": {
     "end_time": "2020-02-21T11:16:26.038952Z",
     "start_time": "2020-02-21T11:16:26.033639Z"
    }
   },
   "outputs": [],
   "source": [
    "dfs[keyList[0]].to_csv(\"{}_data.csv\".format(keyList[0]), index=False)"
   ]
  },
  {
   "cell_type": "code",
   "execution_count": null,
   "metadata": {},
   "outputs": [],
   "source": []
  }
 ],
 "metadata": {
  "kernelspec": {
   "display_name": "Python 3",
   "language": "python",
   "name": "python3"
  },
  "language_info": {
   "codemirror_mode": {
    "name": "ipython",
    "version": 3
   },
   "file_extension": ".py",
   "mimetype": "text/x-python",
   "name": "python",
   "nbconvert_exporter": "python",
   "pygments_lexer": "ipython3",
   "version": "3.6.9"
  },
  "toc": {
   "base_numbering": 1,
   "nav_menu": {},
   "number_sections": true,
   "sideBar": true,
   "skip_h1_title": false,
   "title_cell": "Table of Contents",
   "title_sidebar": "Contents",
   "toc_cell": false,
   "toc_position": {},
   "toc_section_display": true,
   "toc_window_display": false
  },
  "varInspector": {
   "cols": {
    "lenName": 16,
    "lenType": 16,
    "lenVar": 40
   },
   "kernels_config": {
    "python": {
     "delete_cmd_postfix": "",
     "delete_cmd_prefix": "del ",
     "library": "var_list.py",
     "varRefreshCmd": "print(var_dic_list())"
    },
    "r": {
     "delete_cmd_postfix": ") ",
     "delete_cmd_prefix": "rm(",
     "library": "var_list.r",
     "varRefreshCmd": "cat(var_dic_list()) "
    }
   },
   "types_to_exclude": [
    "module",
    "function",
    "builtin_function_or_method",
    "instance",
    "_Feature"
   ],
   "window_display": false
  }
 },
 "nbformat": 4,
 "nbformat_minor": 2
}
