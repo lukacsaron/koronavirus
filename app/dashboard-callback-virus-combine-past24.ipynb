{
 "cells": [
  {
   "cell_type": "code",
   "execution_count": 1,
   "metadata": {},
   "outputs": [],
   "source": [
    "import pandas as pd\n",
    "import numpy as np\n",
    "from datetime import datetime, timedelta\n",
    "import math \n",
    "\n",
    "import plotly.graph_objects as go\n",
    "from plotly.subplots import make_subplots"
   ]
  },
  {
   "cell_type": "code",
   "execution_count": 2,
   "metadata": {},
   "outputs": [
    {
     "data": {
      "text/html": [
       "<div>\n",
       "<style scoped>\n",
       "    .dataframe tbody tr th:only-of-type {\n",
       "        vertical-align: middle;\n",
       "    }\n",
       "\n",
       "    .dataframe tbody tr th {\n",
       "        vertical-align: top;\n",
       "    }\n",
       "\n",
       "    .dataframe thead th {\n",
       "        text-align: right;\n",
       "    }\n",
       "</style>\n",
       "<table border=\"1\" class=\"dataframe\">\n",
       "  <thead>\n",
       "    <tr style=\"text-align: right;\">\n",
       "      <th></th>\n",
       "      <th>Province/State</th>\n",
       "      <th>Country/Region</th>\n",
       "      <th>Last Update</th>\n",
       "      <th>Confirmed</th>\n",
       "      <th>Deaths</th>\n",
       "      <th>Recovered</th>\n",
       "      <th>City</th>\n",
       "      <th>Date_last_updated_AEDT</th>\n",
       "    </tr>\n",
       "  </thead>\n",
       "  <tbody>\n",
       "    <tr>\n",
       "      <th>0</th>\n",
       "      <td>Hubei</td>\n",
       "      <td>China</td>\n",
       "      <td>02/18/2020 18:00</td>\n",
       "      <td>61682</td>\n",
       "      <td>1921</td>\n",
       "      <td>9128</td>\n",
       "      <td>NaN</td>\n",
       "      <td>2020-02-19 10:00:00</td>\n",
       "    </tr>\n",
       "    <tr>\n",
       "      <th>1</th>\n",
       "      <td>Guangdong</td>\n",
       "      <td>China</td>\n",
       "      <td>02/18/2020 18:00</td>\n",
       "      <td>1328</td>\n",
       "      <td>4</td>\n",
       "      <td>565</td>\n",
       "      <td>NaN</td>\n",
       "      <td>2020-02-19 10:00:00</td>\n",
       "    </tr>\n",
       "    <tr>\n",
       "      <th>2</th>\n",
       "      <td>Henan</td>\n",
       "      <td>China</td>\n",
       "      <td>02/18/2020 18:00</td>\n",
       "      <td>1257</td>\n",
       "      <td>19</td>\n",
       "      <td>522</td>\n",
       "      <td>NaN</td>\n",
       "      <td>2020-02-19 10:00:00</td>\n",
       "    </tr>\n",
       "    <tr>\n",
       "      <th>3</th>\n",
       "      <td>Zhejiang</td>\n",
       "      <td>China</td>\n",
       "      <td>02/18/2020 18:00</td>\n",
       "      <td>1172</td>\n",
       "      <td>0</td>\n",
       "      <td>535</td>\n",
       "      <td>NaN</td>\n",
       "      <td>2020-02-19 10:00:00</td>\n",
       "    </tr>\n",
       "    <tr>\n",
       "      <th>4</th>\n",
       "      <td>Hunan</td>\n",
       "      <td>China</td>\n",
       "      <td>02/18/2020 18:00</td>\n",
       "      <td>1007</td>\n",
       "      <td>4</td>\n",
       "      <td>527</td>\n",
       "      <td>NaN</td>\n",
       "      <td>2020-02-19 10:00:00</td>\n",
       "    </tr>\n",
       "  </tbody>\n",
       "</table>\n",
       "</div>"
      ],
      "text/plain": [
       "  Province/State Country/Region       Last Update  Confirmed  Deaths  \\\n",
       "0          Hubei          China  02/18/2020 18:00      61682    1921   \n",
       "1      Guangdong          China  02/18/2020 18:00       1328       4   \n",
       "2          Henan          China  02/18/2020 18:00       1257      19   \n",
       "3       Zhejiang          China  02/18/2020 18:00       1172       0   \n",
       "4          Hunan          China  02/18/2020 18:00       1007       4   \n",
       "\n",
       "   Recovered City Date_last_updated_AEDT  \n",
       "0       9128  NaN    2020-02-19 10:00:00  \n",
       "1        565  NaN    2020-02-19 10:00:00  \n",
       "2        522  NaN    2020-02-19 10:00:00  \n",
       "3        535  NaN    2020-02-19 10:00:00  \n",
       "4        527  NaN    2020-02-19 10:00:00  "
      ]
     },
     "execution_count": 2,
     "metadata": {},
     "output_type": "execute_result"
    }
   ],
   "source": [
    "# Import xlsx file and store each sheet in to a df list\n",
    "xl_file = pd.ExcelFile('./data.xlsx',)\n",
    "\n",
    "dfs = {sheet_name: xl_file.parse(sheet_name) \n",
    "          for sheet_name in xl_file.sheet_names}\n",
    "\n",
    "# Data from each sheet can be accessed via key\n",
    "keyList = list(dfs.keys())\n",
    "\n",
    "# Data cleansing\n",
    "for key, df in dfs.items():\n",
    "    dfs[key].loc[:,'Confirmed'].fillna(value=0, inplace=True)\n",
    "    dfs[key].loc[:,'Deaths'].fillna(value=0, inplace=True)\n",
    "    dfs[key].loc[:,'Recovered'].fillna(value=0, inplace=True)\n",
    "    dfs[key]=dfs[key].astype({'Confirmed':'int64', 'Deaths':'int64', 'Recovered':'int64'})\n",
    "    # Change as China for coordinate search\n",
    "    dfs[key]=dfs[key].replace({'Country/Region':'Mainland China'}, 'China')\n",
    "    dfs[key]=dfs[key].replace({'Province/State':'Queensland'}, 'Brisbane')\n",
    "    dfs[key]=dfs[key].replace({'Province/State':'New South Wales'}, 'Sydney')\n",
    "    dfs[key]=dfs[key].replace({'Province/State':'Victoria'}, 'Melbourne')\n",
    "    # Add a zero to the date so can be convert by datetime.strptime as 0-padded date\n",
    "    dfs[key]['Last Update'] = '0' + dfs[key]['Last Update']\n",
    "    # Convert time as Australian eastern daylight time\n",
    "    dfs[key]['Date_last_updated_AEDT'] = [datetime.strptime(d, '%m/%d/%Y %H:%M') for d in dfs[key]['Last Update']]\n",
    "    dfs[key]['Date_last_updated_AEDT'] = dfs[key]['Date_last_updated_AEDT'] + timedelta(hours=16)\n",
    "    \n",
    "# Check \n",
    "dfs[keyList[0]].head()"
   ]
  },
  {
   "cell_type": "code",
   "execution_count": 3,
   "metadata": {},
   "outputs": [],
   "source": [
    "# Import data with coordinates (coordinates were called seperately in \"Updated_coordinates\")\n",
    "dfs[keyList[0]]=pd.read_csv('{}_data.csv'.format(keyList[0]))"
   ]
  },
  {
   "cell_type": "code",
   "execution_count": 4,
   "metadata": {},
   "outputs": [
    {
     "data": {
      "text/plain": [
       "1875"
      ]
     },
     "execution_count": 4,
     "metadata": {},
     "output_type": "execute_result"
    }
   ],
   "source": [
    "dfs[keyList[1]]['Deaths'].sum()"
   ]
  },
  {
   "cell_type": "code",
   "execution_count": 5,
   "metadata": {},
   "outputs": [],
   "source": [
    "# Save numbers into variables to use in the app\n",
    "confirmedCases=dfs[keyList[0]]['Confirmed'].sum()\n",
    "deathsCases=dfs[keyList[0]]['Deaths'].sum()\n",
    "recoveredCases=dfs[keyList[0]]['Recovered'].sum()"
   ]
  },
  {
   "cell_type": "code",
   "execution_count": 6,
   "metadata": {
    "scrolled": true
   },
   "outputs": [
    {
     "data": {
      "text/html": [
       "<div>\n",
       "<style scoped>\n",
       "    .dataframe tbody tr th:only-of-type {\n",
       "        vertical-align: middle;\n",
       "    }\n",
       "\n",
       "    .dataframe tbody tr th {\n",
       "        vertical-align: top;\n",
       "    }\n",
       "\n",
       "    .dataframe thead th {\n",
       "        text-align: right;\n",
       "    }\n",
       "</style>\n",
       "<table border=\"1\" class=\"dataframe\">\n",
       "  <thead>\n",
       "    <tr style=\"text-align: right;\">\n",
       "      <th></th>\n",
       "      <th>Date</th>\n",
       "      <th>Mainland China</th>\n",
       "      <th>Other locations</th>\n",
       "      <th>Total</th>\n",
       "    </tr>\n",
       "  </thead>\n",
       "  <tbody>\n",
       "    <tr>\n",
       "      <th>0</th>\n",
       "      <td>2020-02-19 10:00:00</td>\n",
       "      <td>74131</td>\n",
       "      <td>999</td>\n",
       "      <td>75130</td>\n",
       "    </tr>\n",
       "    <tr>\n",
       "      <th>1</th>\n",
       "      <td>2020-02-18 22:00:00</td>\n",
       "      <td>72438</td>\n",
       "      <td>986</td>\n",
       "      <td>73424</td>\n",
       "    </tr>\n",
       "    <tr>\n",
       "      <th>2</th>\n",
       "      <td>2020-02-17 22:00:00</td>\n",
       "      <td>70553</td>\n",
       "      <td>889</td>\n",
       "      <td>71442</td>\n",
       "    </tr>\n",
       "    <tr>\n",
       "      <th>3</th>\n",
       "      <td>2020-02-16 22:00:00</td>\n",
       "      <td>68507</td>\n",
       "      <td>775</td>\n",
       "      <td>69282</td>\n",
       "    </tr>\n",
       "    <tr>\n",
       "      <th>4</th>\n",
       "      <td>2020-02-15 22:00:00</td>\n",
       "      <td>66496</td>\n",
       "      <td>689</td>\n",
       "      <td>67185</td>\n",
       "    </tr>\n",
       "    <tr>\n",
       "      <th>5</th>\n",
       "      <td>2020-02-14 22:00:00</td>\n",
       "      <td>63862</td>\n",
       "      <td>591</td>\n",
       "      <td>64453</td>\n",
       "    </tr>\n",
       "    <tr>\n",
       "      <th>6</th>\n",
       "      <td>2020-02-13 22:00:00</td>\n",
       "      <td>59822</td>\n",
       "      <td>572</td>\n",
       "      <td>60394</td>\n",
       "    </tr>\n",
       "    <tr>\n",
       "      <th>7</th>\n",
       "      <td>2020-02-12 22:00:00</td>\n",
       "      <td>44685</td>\n",
       "      <td>522</td>\n",
       "      <td>45207</td>\n",
       "    </tr>\n",
       "    <tr>\n",
       "      <th>8</th>\n",
       "      <td>2020-02-11 21:30:00</td>\n",
       "      <td>42658</td>\n",
       "      <td>473</td>\n",
       "      <td>43131</td>\n",
       "    </tr>\n",
       "    <tr>\n",
       "      <th>9</th>\n",
       "      <td>2020-02-10 22:00:00</td>\n",
       "      <td>40195</td>\n",
       "      <td>452</td>\n",
       "      <td>40647</td>\n",
       "    </tr>\n",
       "    <tr>\n",
       "      <th>10</th>\n",
       "      <td>2020-02-09 22:00:00</td>\n",
       "      <td>37230</td>\n",
       "      <td>370</td>\n",
       "      <td>37600</td>\n",
       "    </tr>\n",
       "    <tr>\n",
       "      <th>11</th>\n",
       "      <td>2020-02-08 22:00:00</td>\n",
       "      <td>34609</td>\n",
       "      <td>347</td>\n",
       "      <td>34956</td>\n",
       "    </tr>\n",
       "    <tr>\n",
       "      <th>12</th>\n",
       "      <td>2020-02-07 22:00:00</td>\n",
       "      <td>31187</td>\n",
       "      <td>321</td>\n",
       "      <td>31508</td>\n",
       "    </tr>\n",
       "    <tr>\n",
       "      <th>13</th>\n",
       "      <td>2020-02-06 22:00:00</td>\n",
       "      <td>28085</td>\n",
       "      <td>263</td>\n",
       "      <td>28348</td>\n",
       "    </tr>\n",
       "    <tr>\n",
       "      <th>14</th>\n",
       "      <td>2020-02-05 22:00:00</td>\n",
       "      <td>24385</td>\n",
       "      <td>231</td>\n",
       "      <td>24616</td>\n",
       "    </tr>\n",
       "    <tr>\n",
       "      <th>15</th>\n",
       "      <td>2020-02-04 21:00:00</td>\n",
       "      <td>20483</td>\n",
       "      <td>194</td>\n",
       "      <td>20677</td>\n",
       "    </tr>\n",
       "    <tr>\n",
       "      <th>16</th>\n",
       "      <td>2020-02-03 21:00:00</td>\n",
       "      <td>17302</td>\n",
       "      <td>181</td>\n",
       "      <td>17483</td>\n",
       "    </tr>\n",
       "    <tr>\n",
       "      <th>17</th>\n",
       "      <td>2020-02-02 21:00:00</td>\n",
       "      <td>14451</td>\n",
       "      <td>177</td>\n",
       "      <td>14628</td>\n",
       "    </tr>\n",
       "    <tr>\n",
       "      <th>18</th>\n",
       "      <td>2020-02-01 11:00:00</td>\n",
       "      <td>11221</td>\n",
       "      <td>152</td>\n",
       "      <td>11373</td>\n",
       "    </tr>\n",
       "    <tr>\n",
       "      <th>19</th>\n",
       "      <td>2020-01-31 13:30:00</td>\n",
       "      <td>9658</td>\n",
       "      <td>118</td>\n",
       "      <td>9776</td>\n",
       "    </tr>\n",
       "    <tr>\n",
       "      <th>20</th>\n",
       "      <td>2020-01-30 13:00:00</td>\n",
       "      <td>7678</td>\n",
       "      <td>105</td>\n",
       "      <td>7783</td>\n",
       "    </tr>\n",
       "    <tr>\n",
       "      <th>21</th>\n",
       "      <td>2020-01-29 15:00:00</td>\n",
       "      <td>5970</td>\n",
       "      <td>87</td>\n",
       "      <td>6057</td>\n",
       "    </tr>\n",
       "    <tr>\n",
       "      <th>22</th>\n",
       "      <td>2020-01-28 12:30:00</td>\n",
       "      <td>4409</td>\n",
       "      <td>64</td>\n",
       "      <td>4473</td>\n",
       "    </tr>\n",
       "    <tr>\n",
       "      <th>23</th>\n",
       "      <td>2020-01-27 15:00:00</td>\n",
       "      <td>2737</td>\n",
       "      <td>57</td>\n",
       "      <td>2794</td>\n",
       "    </tr>\n",
       "    <tr>\n",
       "      <th>24</th>\n",
       "      <td>2020-01-26 14:00:00</td>\n",
       "      <td>1979</td>\n",
       "      <td>40</td>\n",
       "      <td>2019</td>\n",
       "    </tr>\n",
       "    <tr>\n",
       "      <th>25</th>\n",
       "      <td>2020-01-25 16:00:00</td>\n",
       "      <td>1320</td>\n",
       "      <td>34</td>\n",
       "      <td>1354</td>\n",
       "    </tr>\n",
       "    <tr>\n",
       "      <th>26</th>\n",
       "      <td>2020-01-24 16:00:00</td>\n",
       "      <td>865</td>\n",
       "      <td>16</td>\n",
       "      <td>881</td>\n",
       "    </tr>\n",
       "    <tr>\n",
       "      <th>27</th>\n",
       "      <td>2020-01-23 16:00:00</td>\n",
       "      <td>639</td>\n",
       "      <td>26</td>\n",
       "      <td>665</td>\n",
       "    </tr>\n",
       "    <tr>\n",
       "      <th>28</th>\n",
       "      <td>2020-01-22 16:00:00</td>\n",
       "      <td>549</td>\n",
       "      <td>6</td>\n",
       "      <td>555</td>\n",
       "    </tr>\n",
       "    <tr>\n",
       "      <th>29</th>\n",
       "      <td>2020-01-21 16:00:00</td>\n",
       "      <td>327</td>\n",
       "      <td>5</td>\n",
       "      <td>332</td>\n",
       "    </tr>\n",
       "  </tbody>\n",
       "</table>\n",
       "</div>"
      ],
      "text/plain": [
       "                  Date  Mainland China  Other locations  Total\n",
       "0  2020-02-19 10:00:00           74131              999  75130\n",
       "1  2020-02-18 22:00:00           72438              986  73424\n",
       "2  2020-02-17 22:00:00           70553              889  71442\n",
       "3  2020-02-16 22:00:00           68507              775  69282\n",
       "4  2020-02-15 22:00:00           66496              689  67185\n",
       "5  2020-02-14 22:00:00           63862              591  64453\n",
       "6  2020-02-13 22:00:00           59822              572  60394\n",
       "7  2020-02-12 22:00:00           44685              522  45207\n",
       "8  2020-02-11 21:30:00           42658              473  43131\n",
       "9  2020-02-10 22:00:00           40195              452  40647\n",
       "10 2020-02-09 22:00:00           37230              370  37600\n",
       "11 2020-02-08 22:00:00           34609              347  34956\n",
       "12 2020-02-07 22:00:00           31187              321  31508\n",
       "13 2020-02-06 22:00:00           28085              263  28348\n",
       "14 2020-02-05 22:00:00           24385              231  24616\n",
       "15 2020-02-04 21:00:00           20483              194  20677\n",
       "16 2020-02-03 21:00:00           17302              181  17483\n",
       "17 2020-02-02 21:00:00           14451              177  14628\n",
       "18 2020-02-01 11:00:00           11221              152  11373\n",
       "19 2020-01-31 13:30:00            9658              118   9776\n",
       "20 2020-01-30 13:00:00            7678              105   7783\n",
       "21 2020-01-29 15:00:00            5970               87   6057\n",
       "22 2020-01-28 12:30:00            4409               64   4473\n",
       "23 2020-01-27 15:00:00            2737               57   2794\n",
       "24 2020-01-26 14:00:00            1979               40   2019\n",
       "25 2020-01-25 16:00:00            1320               34   1354\n",
       "26 2020-01-24 16:00:00             865               16    881\n",
       "27 2020-01-23 16:00:00             639               26    665\n",
       "28 2020-01-22 16:00:00             549                6    555\n",
       "29 2020-01-21 16:00:00             327                5    332"
      ]
     },
     "execution_count": 6,
     "metadata": {},
     "output_type": "execute_result"
    }
   ],
   "source": [
    "# Construct new dataframe for line plot\n",
    "DateList = []\n",
    "ChinaList =[]\n",
    "OtherList = []\n",
    "\n",
    "for key, df in dfs.items():\n",
    "    dfTpm = df.groupby(['Country/Region'])['Confirmed'].agg(np.sum)\n",
    "    dfTpm = pd.DataFrame({'Code':dfTpm.index, 'Confirmed':dfTpm.values})\n",
    "    dfTpm = dfTpm.sort_values(by='Confirmed', ascending=False).reset_index(drop=True)\n",
    "    DateList.append(df['Date_last_updated_AEDT'][0])\n",
    "    ChinaList.append(dfTpm['Confirmed'][0])\n",
    "    OtherList.append(dfTpm['Confirmed'][1:].sum())\n",
    "    \n",
    "df_confirmed = pd.DataFrame({'Date':DateList,\n",
    "                             'Mainland China':ChinaList,\n",
    "                             'Other locations':OtherList})    \n",
    "\n",
    "df_confirmed['date_day']=[d.date() for d in df_confirmed['Date']]\n",
    "df_confirmed=df_confirmed.groupby(by=df_confirmed['date_day'], sort=False).transform(max).drop_duplicates(['Date'])\n",
    "df_confirmed['Total']=df_confirmed['Mainland China']+df_confirmed['Other locations']\n",
    "df_confirmed=df_confirmed.reset_index(drop=True)\n",
    "df_confirmed"
   ]
  },
  {
   "cell_type": "code",
   "execution_count": 17,
   "metadata": {},
   "outputs": [],
   "source": [
    "# Construct new dataframe for 24-hour window case difference\n",
    "DateList = []\n",
    "ChinaList =[]\n",
    "OtherList = []\n",
    "\n",
    "for key, df in dfs.items():\n",
    "    dfTpm = df.groupby(['Country/Region'])['Confirmed'].agg(np.sum)\n",
    "    dfTpm = pd.DataFrame({'Code':dfTpm.index, 'Confirmed':dfTpm.values})\n",
    "    dfTpm = dfTpm.sort_values(by='Confirmed', ascending=False).reset_index(drop=True)\n",
    "    DateList.append(df['Date_last_updated_AEDT'][0])\n",
    "    ChinaList.append(dfTpm['Confirmed'][0])\n",
    "    OtherList.append(dfTpm['Confirmed'][1:].sum())\n",
    "    \n",
    "df_confirmed_diff = pd.DataFrame({'Date':DateList,\n",
    "                                  'Mainland China':ChinaList,\n",
    "                                  'Other locations':OtherList}) \n",
    "df_confirmed_diff['Total']=df_confirmed_diff['Mainland China']+df_confirmed_diff['Other locations']\n",
    "\n",
    "# Calculate differenec in a 24-hour window\n",
    "for index, _ in df_confirmed_diff.iterrows():\n",
    "    # Calculate the time differnece in hour\n",
    "    diff=(df_confirmed_diff['Date'][0] - df_confirmed_diff['Date'][index]).total_seconds()/3600\n",
    "    # find out the latest time after 24-hour\n",
    "    if diff >= 24:\n",
    "        break\n",
    "plusConfirmedNum = df_confirmed_diff['Total'][0] - df_confirmed_diff['Total'][index]\n",
    "plusPercentNum1 = (df_confirmed_diff['Total'][0] - df_confirmed_diff['Total'][index])/df_confirmed_diff['Total'][index]"
   ]
  },
  {
   "cell_type": "code",
   "execution_count": 14,
   "metadata": {
    "scrolled": true
   },
   "outputs": [
    {
     "data": {
      "text/html": [
       "<div>\n",
       "<style scoped>\n",
       "    .dataframe tbody tr th:only-of-type {\n",
       "        vertical-align: middle;\n",
       "    }\n",
       "\n",
       "    .dataframe tbody tr th {\n",
       "        vertical-align: top;\n",
       "    }\n",
       "\n",
       "    .dataframe thead th {\n",
       "        text-align: right;\n",
       "    }\n",
       "</style>\n",
       "<table border=\"1\" class=\"dataframe\">\n",
       "  <thead>\n",
       "    <tr style=\"text-align: right;\">\n",
       "      <th></th>\n",
       "      <th>Date</th>\n",
       "      <th>Mainland China</th>\n",
       "      <th>Other locations</th>\n",
       "      <th>Total</th>\n",
       "    </tr>\n",
       "  </thead>\n",
       "  <tbody>\n",
       "    <tr>\n",
       "      <th>0</th>\n",
       "      <td>2020-02-11 16:00:00</td>\n",
       "      <td>4024</td>\n",
       "      <td>44</td>\n",
       "      <td>4068</td>\n",
       "    </tr>\n",
       "    <tr>\n",
       "      <th>1</th>\n",
       "      <td>2020-02-10 22:00:00</td>\n",
       "      <td>3470</td>\n",
       "      <td>43</td>\n",
       "      <td>3513</td>\n",
       "    </tr>\n",
       "    <tr>\n",
       "      <th>2</th>\n",
       "      <td>2020-02-09 22:00:00</td>\n",
       "      <td>2826</td>\n",
       "      <td>35</td>\n",
       "      <td>2861</td>\n",
       "    </tr>\n",
       "    <tr>\n",
       "      <th>3</th>\n",
       "      <td>2020-02-08 22:00:00</td>\n",
       "      <td>2325</td>\n",
       "      <td>31</td>\n",
       "      <td>2356</td>\n",
       "    </tr>\n",
       "    <tr>\n",
       "      <th>4</th>\n",
       "      <td>2020-02-07 22:00:00</td>\n",
       "      <td>1664</td>\n",
       "      <td>23</td>\n",
       "      <td>1687</td>\n",
       "    </tr>\n",
       "    <tr>\n",
       "      <th>5</th>\n",
       "      <td>2020-02-06 22:00:00</td>\n",
       "      <td>1298</td>\n",
       "      <td>21</td>\n",
       "      <td>1319</td>\n",
       "    </tr>\n",
       "    <tr>\n",
       "      <th>6</th>\n",
       "      <td>2020-02-05 22:00:00</td>\n",
       "      <td>961</td>\n",
       "      <td>19</td>\n",
       "      <td>980</td>\n",
       "    </tr>\n",
       "    <tr>\n",
       "      <th>7</th>\n",
       "      <td>2020-02-04 21:00:00</td>\n",
       "      <td>688</td>\n",
       "      <td>13</td>\n",
       "      <td>701</td>\n",
       "    </tr>\n",
       "    <tr>\n",
       "      <th>8</th>\n",
       "      <td>2020-02-03 21:00:00</td>\n",
       "      <td>487</td>\n",
       "      <td>12</td>\n",
       "      <td>499</td>\n",
       "    </tr>\n",
       "    <tr>\n",
       "      <th>9</th>\n",
       "      <td>2020-02-02 21:00:00</td>\n",
       "      <td>339</td>\n",
       "      <td>10</td>\n",
       "      <td>349</td>\n",
       "    </tr>\n",
       "    <tr>\n",
       "      <th>10</th>\n",
       "      <td>2020-02-01 11:00:00</td>\n",
       "      <td>242</td>\n",
       "      <td>10</td>\n",
       "      <td>252</td>\n",
       "    </tr>\n",
       "    <tr>\n",
       "      <th>11</th>\n",
       "      <td>2020-01-31 13:30:00</td>\n",
       "      <td>179</td>\n",
       "      <td>8</td>\n",
       "      <td>187</td>\n",
       "    </tr>\n",
       "    <tr>\n",
       "      <th>12</th>\n",
       "      <td>2020-01-30 13:00:00</td>\n",
       "      <td>127</td>\n",
       "      <td>6</td>\n",
       "      <td>133</td>\n",
       "    </tr>\n",
       "    <tr>\n",
       "      <th>13</th>\n",
       "      <td>2020-01-29 15:00:00</td>\n",
       "      <td>104</td>\n",
       "      <td>6</td>\n",
       "      <td>110</td>\n",
       "    </tr>\n",
       "    <tr>\n",
       "      <th>14</th>\n",
       "      <td>2020-01-28 12:30:00</td>\n",
       "      <td>60</td>\n",
       "      <td>3</td>\n",
       "      <td>63</td>\n",
       "    </tr>\n",
       "    <tr>\n",
       "      <th>15</th>\n",
       "      <td>2020-01-27 15:00:00</td>\n",
       "      <td>51</td>\n",
       "      <td>3</td>\n",
       "      <td>54</td>\n",
       "    </tr>\n",
       "    <tr>\n",
       "      <th>16</th>\n",
       "      <td>2020-01-26 14:00:00</td>\n",
       "      <td>49</td>\n",
       "      <td>0</td>\n",
       "      <td>49</td>\n",
       "    </tr>\n",
       "    <tr>\n",
       "      <th>17</th>\n",
       "      <td>2020-01-25 16:00:00</td>\n",
       "      <td>38</td>\n",
       "      <td>0</td>\n",
       "      <td>38</td>\n",
       "    </tr>\n",
       "    <tr>\n",
       "      <th>18</th>\n",
       "      <td>2020-01-24 16:00:00</td>\n",
       "      <td>34</td>\n",
       "      <td>0</td>\n",
       "      <td>34</td>\n",
       "    </tr>\n",
       "    <tr>\n",
       "      <th>19</th>\n",
       "      <td>2020-01-23 16:00:00</td>\n",
       "      <td>30</td>\n",
       "      <td>0</td>\n",
       "      <td>30</td>\n",
       "    </tr>\n",
       "    <tr>\n",
       "      <th>20</th>\n",
       "      <td>2020-01-22 16:00:00</td>\n",
       "      <td>0</td>\n",
       "      <td>0</td>\n",
       "      <td>0</td>\n",
       "    </tr>\n",
       "    <tr>\n",
       "      <th>21</th>\n",
       "      <td>2020-01-21 16:00:00</td>\n",
       "      <td>0</td>\n",
       "      <td>0</td>\n",
       "      <td>0</td>\n",
       "    </tr>\n",
       "  </tbody>\n",
       "</table>\n",
       "</div>"
      ],
      "text/plain": [
       "                  Date  Mainland China  Other locations  Total\n",
       "0  2020-02-11 16:00:00            4024               44   4068\n",
       "1  2020-02-10 22:00:00            3470               43   3513\n",
       "2  2020-02-09 22:00:00            2826               35   2861\n",
       "3  2020-02-08 22:00:00            2325               31   2356\n",
       "4  2020-02-07 22:00:00            1664               23   1687\n",
       "5  2020-02-06 22:00:00            1298               21   1319\n",
       "6  2020-02-05 22:00:00             961               19    980\n",
       "7  2020-02-04 21:00:00             688               13    701\n",
       "8  2020-02-03 21:00:00             487               12    499\n",
       "9  2020-02-02 21:00:00             339               10    349\n",
       "10 2020-02-01 11:00:00             242               10    252\n",
       "11 2020-01-31 13:30:00             179                8    187\n",
       "12 2020-01-30 13:00:00             127                6    133\n",
       "13 2020-01-29 15:00:00             104                6    110\n",
       "14 2020-01-28 12:30:00              60                3     63\n",
       "15 2020-01-27 15:00:00              51                3     54\n",
       "16 2020-01-26 14:00:00              49                0     49\n",
       "17 2020-01-25 16:00:00              38                0     38\n",
       "18 2020-01-24 16:00:00              34                0     34\n",
       "19 2020-01-23 16:00:00              30                0     30\n",
       "20 2020-01-22 16:00:00               0                0      0\n",
       "21 2020-01-21 16:00:00               0                0      0"
      ]
     },
     "execution_count": 14,
     "metadata": {},
     "output_type": "execute_result"
    }
   ],
   "source": [
    "# Construct new dataframe for line plot\n",
    "DateList = []\n",
    "ChinaList =[]\n",
    "OtherList = []\n",
    "\n",
    "for key, df in dfs.items():\n",
    "    dfTpm = df.groupby(['Country/Region'])['Recovered'].agg(np.sum)\n",
    "    dfTpm = pd.DataFrame({'Code':dfTpm.index, 'Recovered':dfTpm.values})\n",
    "    dfTpm = dfTpm.sort_values(by='Recovered', ascending=False).reset_index(drop=True)\n",
    "    DateList.append(df['Date_last_updated_AEDT'][0])\n",
    "    ChinaList.append(dfTpm['Recovered'][0])\n",
    "    OtherList.append(dfTpm['Recovered'][1:].sum())\n",
    "    \n",
    "df_recovered = pd.DataFrame({'Date':DateList,\n",
    "                             'Mainland China':ChinaList,\n",
    "                             'Other locations':OtherList}) \n",
    "\n",
    "df_recovered['date_day']=[d.date() for d in df_recovered['Date']]\n",
    "df_recovered=df_recovered.groupby(by=df_recovered['date_day'], sort=False).transform(max).drop_duplicates(['Date'])\n",
    "df_recovered['Total']=df_recovered['Mainland China']+df_recovered['Other locations']\n",
    "df_recovered=df_recovered.reset_index(drop=True)\n",
    "df_recovered"
   ]
  },
  {
   "cell_type": "code",
   "execution_count": 36,
   "metadata": {},
   "outputs": [],
   "source": [
    "# Construct new dataframe for 24-hour window case difference\n",
    "DateList = []\n",
    "ChinaList =[]\n",
    "OtherList = []\n",
    "\n",
    "for key, df in dfs.items():\n",
    "    dfTpm = df.groupby(['Country/Region'])['Recovered'].agg(np.sum)\n",
    "    dfTpm = pd.DataFrame({'Code':dfTpm.index, 'Recovered':dfTpm.values})\n",
    "    dfTpm = dfTpm.sort_values(by='Recovered', ascending=False).reset_index(drop=True)\n",
    "    DateList.append(df['Date_last_updated_AEDT'][0])\n",
    "    ChinaList.append(dfTpm['Recovered'][0])\n",
    "    OtherList.append(dfTpm['Recovered'][1:].sum())\n",
    "    \n",
    "df_recovered_diff = pd.DataFrame({'Date':DateList,\n",
    "                                  'Mainland China':ChinaList,\n",
    "                                  'Other locations':OtherList}) \n",
    "df_recovered_diff['Total']=df_recovered_diff['Mainland China']+df_confirmed_diff['Other locations']\n",
    "\n",
    "# Calculate differenec in a 24-hour window\n",
    "for index, _ in df_recovered_diff.iterrows():\n",
    "    # Calculate the time differnece in hour\n",
    "    diff=(df_recovered_diff['Date'][0] - df_recovered_diff['Date'][index]).total_seconds()/3600\n",
    "    # find out the latest time after 24-hour\n",
    "    if diff >= 24:\n",
    "        break\n",
    "plusRecoveredNum = df_recovered_diff['Total'][0] - df_recovered_diff['Total'][index]\n",
    "plusPercentNum2 = (df_recovered_diff['Total'][0] - df_recovered_diff['Total'][index])/df_recovered_diff['Total'][index]"
   ]
  },
  {
   "cell_type": "code",
   "execution_count": 37,
   "metadata": {},
   "outputs": [
    {
     "data": {
      "text/plain": [
       "0.20943396226415095"
      ]
     },
     "execution_count": 37,
     "metadata": {},
     "output_type": "execute_result"
    }
   ],
   "source": [
    "plusPercentNum2"
   ]
  },
  {
   "cell_type": "code",
   "execution_count": 17,
   "metadata": {
    "scrolled": true
   },
   "outputs": [
    {
     "data": {
      "text/html": [
       "<div>\n",
       "<style scoped>\n",
       "    .dataframe tbody tr th:only-of-type {\n",
       "        vertical-align: middle;\n",
       "    }\n",
       "\n",
       "    .dataframe tbody tr th {\n",
       "        vertical-align: top;\n",
       "    }\n",
       "\n",
       "    .dataframe thead th {\n",
       "        text-align: right;\n",
       "    }\n",
       "</style>\n",
       "<table border=\"1\" class=\"dataframe\">\n",
       "  <thead>\n",
       "    <tr style=\"text-align: right;\">\n",
       "      <th></th>\n",
       "      <th>Date</th>\n",
       "      <th>Mainland China</th>\n",
       "      <th>Other locations</th>\n",
       "      <th>Total</th>\n",
       "    </tr>\n",
       "  </thead>\n",
       "  <tbody>\n",
       "    <tr>\n",
       "      <th>0</th>\n",
       "      <td>2020-02-11 16:00:00</td>\n",
       "      <td>1016</td>\n",
       "      <td>2</td>\n",
       "      <td>1018</td>\n",
       "    </tr>\n",
       "    <tr>\n",
       "      <th>1</th>\n",
       "      <td>2020-02-10 22:00:00</td>\n",
       "      <td>908</td>\n",
       "      <td>2</td>\n",
       "      <td>910</td>\n",
       "    </tr>\n",
       "    <tr>\n",
       "      <th>2</th>\n",
       "      <td>2020-02-09 22:00:00</td>\n",
       "      <td>812</td>\n",
       "      <td>2</td>\n",
       "      <td>814</td>\n",
       "    </tr>\n",
       "    <tr>\n",
       "      <th>3</th>\n",
       "      <td>2020-02-08 22:00:00</td>\n",
       "      <td>723</td>\n",
       "      <td>2</td>\n",
       "      <td>725</td>\n",
       "    </tr>\n",
       "    <tr>\n",
       "      <th>4</th>\n",
       "      <td>2020-02-07 22:00:00</td>\n",
       "      <td>636</td>\n",
       "      <td>2</td>\n",
       "      <td>638</td>\n",
       "    </tr>\n",
       "    <tr>\n",
       "      <th>5</th>\n",
       "      <td>2020-02-06 22:00:00</td>\n",
       "      <td>563</td>\n",
       "      <td>2</td>\n",
       "      <td>565</td>\n",
       "    </tr>\n",
       "    <tr>\n",
       "      <th>6</th>\n",
       "      <td>2020-02-05 22:00:00</td>\n",
       "      <td>492</td>\n",
       "      <td>2</td>\n",
       "      <td>494</td>\n",
       "    </tr>\n",
       "    <tr>\n",
       "      <th>7</th>\n",
       "      <td>2020-02-04 21:00:00</td>\n",
       "      <td>425</td>\n",
       "      <td>2</td>\n",
       "      <td>427</td>\n",
       "    </tr>\n",
       "    <tr>\n",
       "      <th>8</th>\n",
       "      <td>2020-02-03 21:00:00</td>\n",
       "      <td>361</td>\n",
       "      <td>1</td>\n",
       "      <td>362</td>\n",
       "    </tr>\n",
       "    <tr>\n",
       "      <th>9</th>\n",
       "      <td>2020-02-02 21:00:00</td>\n",
       "      <td>304</td>\n",
       "      <td>1</td>\n",
       "      <td>305</td>\n",
       "    </tr>\n",
       "    <tr>\n",
       "      <th>10</th>\n",
       "      <td>2020-02-01 11:00:00</td>\n",
       "      <td>259</td>\n",
       "      <td>0</td>\n",
       "      <td>259</td>\n",
       "    </tr>\n",
       "    <tr>\n",
       "      <th>11</th>\n",
       "      <td>2020-01-31 13:30:00</td>\n",
       "      <td>213</td>\n",
       "      <td>0</td>\n",
       "      <td>213</td>\n",
       "    </tr>\n",
       "    <tr>\n",
       "      <th>12</th>\n",
       "      <td>2020-01-30 13:00:00</td>\n",
       "      <td>170</td>\n",
       "      <td>0</td>\n",
       "      <td>170</td>\n",
       "    </tr>\n",
       "    <tr>\n",
       "      <th>13</th>\n",
       "      <td>2020-01-29 15:00:00</td>\n",
       "      <td>132</td>\n",
       "      <td>0</td>\n",
       "      <td>132</td>\n",
       "    </tr>\n",
       "    <tr>\n",
       "      <th>14</th>\n",
       "      <td>2020-01-28 12:30:00</td>\n",
       "      <td>107</td>\n",
       "      <td>0</td>\n",
       "      <td>107</td>\n",
       "    </tr>\n",
       "    <tr>\n",
       "      <th>15</th>\n",
       "      <td>2020-01-27 15:00:00</td>\n",
       "      <td>80</td>\n",
       "      <td>0</td>\n",
       "      <td>80</td>\n",
       "    </tr>\n",
       "    <tr>\n",
       "      <th>16</th>\n",
       "      <td>2020-01-26 14:00:00</td>\n",
       "      <td>56</td>\n",
       "      <td>0</td>\n",
       "      <td>56</td>\n",
       "    </tr>\n",
       "    <tr>\n",
       "      <th>17</th>\n",
       "      <td>2020-01-25 16:00:00</td>\n",
       "      <td>41</td>\n",
       "      <td>0</td>\n",
       "      <td>41</td>\n",
       "    </tr>\n",
       "    <tr>\n",
       "      <th>18</th>\n",
       "      <td>2020-01-24 16:00:00</td>\n",
       "      <td>26</td>\n",
       "      <td>0</td>\n",
       "      <td>26</td>\n",
       "    </tr>\n",
       "    <tr>\n",
       "      <th>19</th>\n",
       "      <td>2020-01-23 16:00:00</td>\n",
       "      <td>18</td>\n",
       "      <td>0</td>\n",
       "      <td>18</td>\n",
       "    </tr>\n",
       "    <tr>\n",
       "      <th>20</th>\n",
       "      <td>2020-01-22 16:00:00</td>\n",
       "      <td>17</td>\n",
       "      <td>0</td>\n",
       "      <td>17</td>\n",
       "    </tr>\n",
       "    <tr>\n",
       "      <th>21</th>\n",
       "      <td>2020-01-21 16:00:00</td>\n",
       "      <td>6</td>\n",
       "      <td>0</td>\n",
       "      <td>6</td>\n",
       "    </tr>\n",
       "  </tbody>\n",
       "</table>\n",
       "</div>"
      ],
      "text/plain": [
       "                  Date  Mainland China  Other locations  Total\n",
       "0  2020-02-11 16:00:00            1016                2   1018\n",
       "1  2020-02-10 22:00:00             908                2    910\n",
       "2  2020-02-09 22:00:00             812                2    814\n",
       "3  2020-02-08 22:00:00             723                2    725\n",
       "4  2020-02-07 22:00:00             636                2    638\n",
       "5  2020-02-06 22:00:00             563                2    565\n",
       "6  2020-02-05 22:00:00             492                2    494\n",
       "7  2020-02-04 21:00:00             425                2    427\n",
       "8  2020-02-03 21:00:00             361                1    362\n",
       "9  2020-02-02 21:00:00             304                1    305\n",
       "10 2020-02-01 11:00:00             259                0    259\n",
       "11 2020-01-31 13:30:00             213                0    213\n",
       "12 2020-01-30 13:00:00             170                0    170\n",
       "13 2020-01-29 15:00:00             132                0    132\n",
       "14 2020-01-28 12:30:00             107                0    107\n",
       "15 2020-01-27 15:00:00              80                0     80\n",
       "16 2020-01-26 14:00:00              56                0     56\n",
       "17 2020-01-25 16:00:00              41                0     41\n",
       "18 2020-01-24 16:00:00              26                0     26\n",
       "19 2020-01-23 16:00:00              18                0     18\n",
       "20 2020-01-22 16:00:00              17                0     17\n",
       "21 2020-01-21 16:00:00               6                0      6"
      ]
     },
     "execution_count": 17,
     "metadata": {},
     "output_type": "execute_result"
    }
   ],
   "source": [
    "# Construct new dataframe for line plot\n",
    "DateList = []\n",
    "ChinaList =[]\n",
    "OtherList = []\n",
    "\n",
    "for key, df in dfs.items():\n",
    "    dfTpm = df.groupby(['Country/Region'])['Deaths'].agg(np.sum)\n",
    "    dfTpm = pd.DataFrame({'Code':dfTpm.index, 'Deaths':dfTpm.values})\n",
    "    dfTpm = dfTpm.sort_values(by='Deaths', ascending=False).reset_index(drop=True)\n",
    "    DateList.append(df['Date_last_updated_AEDT'][0])\n",
    "    ChinaList.append(dfTpm['Deaths'][0])\n",
    "    OtherList.append(dfTpm['Deaths'][1:].sum())\n",
    "    \n",
    "df_deaths = pd.DataFrame({'Date':DateList,\n",
    "                          'Mainland China':ChinaList,\n",
    "                          'Other locations':OtherList})  \n",
    "\n",
    "df_deaths['date_day']=[d.date() for d in df_deaths['Date']]\n",
    "df_deaths=df_deaths.groupby(by='date_day', sort=False).transform(max).drop_duplicates(['Date'])\n",
    "df_deaths['Total']=df_deaths['Mainland China']+df_deaths['Other locations']\n",
    "df_deaths=df_deaths.reset_index(drop=True)\n",
    "df_deaths"
   ]
  },
  {
   "cell_type": "code",
   "execution_count": 34,
   "metadata": {},
   "outputs": [],
   "source": [
    "# Construct new dataframe for 24-hour window case difference\n",
    "DateList = []\n",
    "ChinaList =[]\n",
    "OtherList = []\n",
    "\n",
    "for key, df in dfs.items():\n",
    "    dfTpm = df.groupby(['Country/Region'])['Deaths'].agg(np.sum)\n",
    "    dfTpm = pd.DataFrame({'Code':dfTpm.index, 'Deaths':dfTpm.values})\n",
    "    dfTpm = dfTpm.sort_values(by='Deaths', ascending=False).reset_index(drop=True)\n",
    "    DateList.append(df['Date_last_updated_AEDT'][0])\n",
    "    ChinaList.append(dfTpm['Deaths'][0])\n",
    "    OtherList.append(dfTpm['Deaths'][1:].sum())\n",
    "    \n",
    "df_deaths_diff = pd.DataFrame({'Date':DateList,\n",
    "                                  'Mainland China':ChinaList,\n",
    "                                  'Other locations':OtherList}) \n",
    "df_deaths_diff['Total']=df_deaths_diff['Mainland China']+df_deaths_diff['Other locations']\n",
    "\n",
    "# Calculate differenec in a 24-hour window\n",
    "for index, _ in df_deaths_diff.iterrows():\n",
    "    # Calculate the time differnece in hour\n",
    "    diff=(df_deaths_diff['Date'][0] - df_deaths_diff['Date'][index]).total_seconds()/3600\n",
    "    # find out the latest time after 24-hour\n",
    "    if diff >= 24:\n",
    "        break\n",
    "plusDeathNum = df_deaths_diff['Total'][0] - df_deaths_diff['Total'][index]\n",
    "plusPercentNum3 = (df_deaths_diff['Total'][0] - df_deaths_diff['Total'][index])/df_deaths_diff['Total'][index]"
   ]
  },
  {
   "cell_type": "code",
   "execution_count": 35,
   "metadata": {},
   "outputs": [
    {
     "data": {
      "text/plain": [
       "0.11868131868131868"
      ]
     },
     "execution_count": 35,
     "metadata": {},
     "output_type": "execute_result"
    }
   ],
   "source": [
    "plusPercentNum3"
   ]
  },
  {
   "cell_type": "code",
   "execution_count": 20,
   "metadata": {},
   "outputs": [
    {
     "data": {
      "text/html": [
       "<div>\n",
       "<style scoped>\n",
       "    .dataframe tbody tr th:only-of-type {\n",
       "        vertical-align: middle;\n",
       "    }\n",
       "\n",
       "    .dataframe tbody tr th {\n",
       "        vertical-align: top;\n",
       "    }\n",
       "\n",
       "    .dataframe thead th {\n",
       "        text-align: right;\n",
       "    }\n",
       "</style>\n",
       "<table border=\"1\" class=\"dataframe\">\n",
       "  <thead>\n",
       "    <tr style=\"text-align: right;\">\n",
       "      <th></th>\n",
       "      <th>Country/Region</th>\n",
       "      <th>Confirmed</th>\n",
       "      <th>Recovered</th>\n",
       "      <th>Deaths</th>\n",
       "    </tr>\n",
       "  </thead>\n",
       "  <tbody>\n",
       "    <tr>\n",
       "      <th>0</th>\n",
       "      <td>China</td>\n",
       "      <td>42644</td>\n",
       "      <td>4024</td>\n",
       "      <td>1016</td>\n",
       "    </tr>\n",
       "    <tr>\n",
       "      <th>1</th>\n",
       "      <td>Japan</td>\n",
       "      <td>161</td>\n",
       "      <td>4</td>\n",
       "      <td>0</td>\n",
       "    </tr>\n",
       "    <tr>\n",
       "      <th>2</th>\n",
       "      <td>Singapore</td>\n",
       "      <td>45</td>\n",
       "      <td>7</td>\n",
       "      <td>0</td>\n",
       "    </tr>\n",
       "    <tr>\n",
       "      <th>3</th>\n",
       "      <td>Hong Kong</td>\n",
       "      <td>42</td>\n",
       "      <td>0</td>\n",
       "      <td>1</td>\n",
       "    </tr>\n",
       "    <tr>\n",
       "      <th>4</th>\n",
       "      <td>Thailand</td>\n",
       "      <td>32</td>\n",
       "      <td>10</td>\n",
       "      <td>0</td>\n",
       "    </tr>\n",
       "  </tbody>\n",
       "</table>\n",
       "</div>"
      ],
      "text/plain": [
       "  Country/Region  Confirmed  Recovered  Deaths\n",
       "0          China      42644       4024    1016\n",
       "1          Japan        161          4       0\n",
       "2      Singapore         45          7       0\n",
       "3      Hong Kong         42          0       1\n",
       "4       Thailand         32         10       0"
      ]
     },
     "execution_count": 20,
     "metadata": {},
     "output_type": "execute_result"
    }
   ],
   "source": [
    "# Generate sum values for Country/Region level\n",
    "dfCase = dfs[keyList[0]].groupby(by='Country/Region', sort=False).sum().reset_index()\n",
    "dfCase = dfCase.sort_values(by=['Confirmed'], ascending=False).reset_index(drop=True)\n",
    "# As lat and lon also underwent sum(), which is not desired, remove from this table.\n",
    "dfCase = dfCase.drop(columns=['lat','lon'])\n",
    "dfCase.head()"
   ]
  },
  {
   "cell_type": "code",
   "execution_count": 21,
   "metadata": {
    "scrolled": true
   },
   "outputs": [
    {
     "data": {
      "text/html": [
       "<div>\n",
       "<style scoped>\n",
       "    .dataframe tbody tr th:only-of-type {\n",
       "        vertical-align: middle;\n",
       "    }\n",
       "\n",
       "    .dataframe tbody tr th {\n",
       "        vertical-align: top;\n",
       "    }\n",
       "\n",
       "    .dataframe thead th {\n",
       "        text-align: right;\n",
       "    }\n",
       "</style>\n",
       "<table border=\"1\" class=\"dataframe\">\n",
       "  <thead>\n",
       "    <tr style=\"text-align: right;\">\n",
       "      <th></th>\n",
       "      <th>Country/Region</th>\n",
       "      <th>lat</th>\n",
       "      <th>lon</th>\n",
       "    </tr>\n",
       "  </thead>\n",
       "  <tbody>\n",
       "    <tr>\n",
       "      <th>0</th>\n",
       "      <td>China</td>\n",
       "      <td>31.151725</td>\n",
       "      <td>112.878322</td>\n",
       "    </tr>\n",
       "    <tr>\n",
       "      <th>1</th>\n",
       "      <td>Japan</td>\n",
       "      <td>35.444991</td>\n",
       "      <td>139.636768</td>\n",
       "    </tr>\n",
       "    <tr>\n",
       "      <th>2</th>\n",
       "      <td>Singapore</td>\n",
       "      <td>1.340863</td>\n",
       "      <td>103.830392</td>\n",
       "    </tr>\n",
       "    <tr>\n",
       "      <th>3</th>\n",
       "      <td>Hong Kong</td>\n",
       "      <td>22.279328</td>\n",
       "      <td>114.162813</td>\n",
       "    </tr>\n",
       "    <tr>\n",
       "      <th>4</th>\n",
       "      <td>Thailand</td>\n",
       "      <td>18.754459</td>\n",
       "      <td>100.624804</td>\n",
       "    </tr>\n",
       "  </tbody>\n",
       "</table>\n",
       "</div>"
      ],
      "text/plain": [
       "  Country/Region        lat         lon\n",
       "0          China  31.151725  112.878322\n",
       "1          Japan  35.444991  139.636768\n",
       "2      Singapore   1.340863  103.830392\n",
       "3      Hong Kong  22.279328  114.162813\n",
       "4       Thailand  18.754459  100.624804"
      ]
     },
     "execution_count": 21,
     "metadata": {},
     "output_type": "execute_result"
    }
   ],
   "source": [
    "# Grep lat and lon by the first instance to represent its Country/Region\n",
    "dfGPS = dfs[keyList[0]].groupby(by=['Country/Region'], sort=False).first().reset_index()\n",
    "dfGPS = dfGPS[['Country/Region','lat','lon']]\n",
    "dfGPS.head()"
   ]
  },
  {
   "cell_type": "code",
   "execution_count": 22,
   "metadata": {
    "scrolled": true
   },
   "outputs": [
    {
     "data": {
      "text/html": [
       "<div>\n",
       "<style scoped>\n",
       "    .dataframe tbody tr th:only-of-type {\n",
       "        vertical-align: middle;\n",
       "    }\n",
       "\n",
       "    .dataframe tbody tr th {\n",
       "        vertical-align: top;\n",
       "    }\n",
       "\n",
       "    .dataframe thead th {\n",
       "        text-align: right;\n",
       "    }\n",
       "</style>\n",
       "<table border=\"1\" class=\"dataframe\">\n",
       "  <thead>\n",
       "    <tr style=\"text-align: right;\">\n",
       "      <th></th>\n",
       "      <th>Country/Region</th>\n",
       "      <th>Confirmed</th>\n",
       "      <th>Recovered</th>\n",
       "      <th>Deaths</th>\n",
       "      <th>lat</th>\n",
       "      <th>lon</th>\n",
       "    </tr>\n",
       "  </thead>\n",
       "  <tbody>\n",
       "    <tr>\n",
       "      <th>0</th>\n",
       "      <td>Mainland China</td>\n",
       "      <td>42644</td>\n",
       "      <td>4024</td>\n",
       "      <td>1016</td>\n",
       "      <td>31.151725</td>\n",
       "      <td>112.878322</td>\n",
       "    </tr>\n",
       "    <tr>\n",
       "      <th>1</th>\n",
       "      <td>Japan</td>\n",
       "      <td>161</td>\n",
       "      <td>4</td>\n",
       "      <td>0</td>\n",
       "      <td>35.444991</td>\n",
       "      <td>139.636768</td>\n",
       "    </tr>\n",
       "    <tr>\n",
       "      <th>2</th>\n",
       "      <td>Singapore</td>\n",
       "      <td>45</td>\n",
       "      <td>7</td>\n",
       "      <td>0</td>\n",
       "      <td>1.340863</td>\n",
       "      <td>103.830392</td>\n",
       "    </tr>\n",
       "    <tr>\n",
       "      <th>3</th>\n",
       "      <td>Hong Kong</td>\n",
       "      <td>42</td>\n",
       "      <td>0</td>\n",
       "      <td>1</td>\n",
       "      <td>22.279328</td>\n",
       "      <td>114.162813</td>\n",
       "    </tr>\n",
       "    <tr>\n",
       "      <th>4</th>\n",
       "      <td>Thailand</td>\n",
       "      <td>32</td>\n",
       "      <td>10</td>\n",
       "      <td>0</td>\n",
       "      <td>18.754459</td>\n",
       "      <td>100.624804</td>\n",
       "    </tr>\n",
       "  </tbody>\n",
       "</table>\n",
       "</div>"
      ],
      "text/plain": [
       "   Country/Region  Confirmed  Recovered  Deaths        lat         lon\n",
       "0  Mainland China      42644       4024    1016  31.151725  112.878322\n",
       "1           Japan        161          4       0  35.444991  139.636768\n",
       "2       Singapore         45          7       0   1.340863  103.830392\n",
       "3       Hong Kong         42          0       1  22.279328  114.162813\n",
       "4        Thailand         32         10       0  18.754459  100.624804"
      ]
     },
     "execution_count": 22,
     "metadata": {},
     "output_type": "execute_result"
    }
   ],
   "source": [
    "# Merge two dataframes\n",
    "dfSum = pd.merge(dfCase, dfGPS, how='inner', on='Country/Region')\n",
    "dfSum = dfSum.replace({'Country/Region':'China'}, 'Mainland China')\n",
    "dfSum = dfSum[['Country/Region','Confirmed','Recovered','Deaths','lat','lon']]\n",
    "dfSum.head()"
   ]
  },
  {
   "cell_type": "code",
   "execution_count": 20,
   "metadata": {},
   "outputs": [],
   "source": [
    "# Save numbers into variables to use in the app\n",
    "latestDate=datetime.strftime(df_confirmed['Date'][0], '%b %d, %Y %H:%M AEDT')\n",
    "secondLastDate=datetime.strftime(df_confirmed['Date'][1], '%b %d')\n",
    "daysOutbreak=(df_confirmed['Date'][0] - datetime.strptime('12/31/2019', '%m/%d/%Y')).days"
   ]
  },
  {
   "cell_type": "code",
   "execution_count": 21,
   "metadata": {},
   "outputs": [
    {
     "data": {
      "text/plain": [
       "'Feb 19, 2020 10:00 AEDT'"
      ]
     },
     "execution_count": 21,
     "metadata": {},
     "output_type": "execute_result"
    }
   ],
   "source": [
    "latestDate"
   ]
  },
  {
   "cell_type": "code",
   "execution_count": 30,
   "metadata": {},
   "outputs": [
    {
     "data": {
      "application/vnd.plotly.v1+json": {
       "config": {
        "plotlyServerURL": "https://plot.ly"
       },
       "data": [
        {
         "hovertemplate": "<b>%{text}</b><br></br>%{hovertext}<extra></extra>",
         "hovertext": [
          "Mainland China confirmed<br>42,644 cases<br>",
          "Mainland China confirmed<br>40,195 cases<br>",
          "Mainland China confirmed<br>37,230 cases<br>",
          "Mainland China confirmed<br>34,609 cases<br>",
          "Mainland China confirmed<br>31,187 cases<br>",
          "Mainland China confirmed<br>28,085 cases<br>",
          "Mainland China confirmed<br>24,385 cases<br>",
          "Mainland China confirmed<br>20,483 cases<br>",
          "Mainland China confirmed<br>17,302 cases<br>",
          "Mainland China confirmed<br>14,451 cases<br>",
          "Mainland China confirmed<br>11,221 cases<br>",
          "Mainland China confirmed<br>9,658 cases<br>",
          "Mainland China confirmed<br>7,678 cases<br>",
          "Mainland China confirmed<br>5,970 cases<br>",
          "Mainland China confirmed<br>4,409 cases<br>",
          "Mainland China confirmed<br>2,737 cases<br>",
          "Mainland China confirmed<br>1,979 cases<br>",
          "Mainland China confirmed<br>1,320 cases<br>",
          "Mainland China confirmed<br>865 cases<br>",
          "Mainland China confirmed<br>639 cases<br>",
          "Mainland China confirmed<br>549 cases<br>",
          "Mainland China confirmed<br>327 cases<br>"
         ],
         "line": {
          "color": "#921113",
          "shape": "spline",
          "width": 3
         },
         "marker": {
          "color": "#f4f4f2",
          "line": {
           "color": "#921113",
           "width": 1
          },
          "size": 8
         },
         "mode": "lines+markers",
         "name": "Mainland China",
         "text": [
          "Feb 11 2020 AEDT",
          "Feb 10 2020 AEDT",
          "Feb 09 2020 AEDT",
          "Feb 08 2020 AEDT",
          "Feb 07 2020 AEDT",
          "Feb 06 2020 AEDT",
          "Feb 05 2020 AEDT",
          "Feb 04 2020 AEDT",
          "Feb 03 2020 AEDT",
          "Feb 02 2020 AEDT",
          "Feb 01 2020 AEDT",
          "Jan 31 2020 AEDT",
          "Jan 30 2020 AEDT",
          "Jan 29 2020 AEDT",
          "Jan 28 2020 AEDT",
          "Jan 27 2020 AEDT",
          "Jan 26 2020 AEDT",
          "Jan 25 2020 AEDT",
          "Jan 24 2020 AEDT",
          "Jan 23 2020 AEDT",
          "Jan 22 2020 AEDT",
          "Jan 21 2020 AEDT"
         ],
         "type": "scatter",
         "x": [
          "2020-02-11T16:00:00",
          "2020-02-10T22:00:00",
          "2020-02-09T22:00:00",
          "2020-02-08T22:00:00",
          "2020-02-07T22:00:00",
          "2020-02-06T22:00:00",
          "2020-02-05T22:00:00",
          "2020-02-04T21:00:00",
          "2020-02-03T21:00:00",
          "2020-02-02T21:00:00",
          "2020-02-01T11:00:00",
          "2020-01-31T13:30:00",
          "2020-01-30T13:00:00",
          "2020-01-29T15:00:00",
          "2020-01-28T12:30:00",
          "2020-01-27T15:00:00",
          "2020-01-26T14:00:00",
          "2020-01-25T16:00:00",
          "2020-01-24T16:00:00",
          "2020-01-23T16:00:00",
          "2020-01-22T16:00:00",
          "2020-01-21T16:00:00"
         ],
         "y": [
          42644,
          40195,
          37230,
          34609,
          31187,
          28085,
          24385,
          20483,
          17302,
          14451,
          11221,
          9658,
          7678,
          5970,
          4409,
          2737,
          1979,
          1320,
          865,
          639,
          549,
          327
         ]
        },
        {
         "hovertemplate": "<b>%{text}</b><br></br>%{hovertext}<extra></extra>",
         "hovertext": [
          "Other locations confirmed<br>463 cases<br>",
          "Other locations confirmed<br>452 cases<br>",
          "Other locations confirmed<br>370 cases<br>",
          "Other locations confirmed<br>347 cases<br>",
          "Other locations confirmed<br>321 cases<br>",
          "Other locations confirmed<br>263 cases<br>",
          "Other locations confirmed<br>231 cases<br>",
          "Other locations confirmed<br>194 cases<br>",
          "Other locations confirmed<br>181 cases<br>",
          "Other locations confirmed<br>177 cases<br>",
          "Other locations confirmed<br>152 cases<br>",
          "Other locations confirmed<br>118 cases<br>",
          "Other locations confirmed<br>105 cases<br>",
          "Other locations confirmed<br>87 cases<br>",
          "Other locations confirmed<br>64 cases<br>",
          "Other locations confirmed<br>57 cases<br>",
          "Other locations confirmed<br>40 cases<br>",
          "Other locations confirmed<br>34 cases<br>",
          "Other locations confirmed<br>16 cases<br>",
          "Other locations confirmed<br>26 cases<br>",
          "Other locations confirmed<br>6 cases<br>",
          "Other locations confirmed<br>5 cases<br>"
         ],
         "line": {
          "color": "#eb5254",
          "shape": "spline",
          "width": 3
         },
         "marker": {
          "color": "#f4f4f2",
          "line": {
           "color": "#eb5254",
           "width": 1
          },
          "size": 8
         },
         "mode": "lines+markers",
         "name": "Other Region",
         "text": [
          "Feb 11 2020 AEDT",
          "Feb 10 2020 AEDT",
          "Feb 09 2020 AEDT",
          "Feb 08 2020 AEDT",
          "Feb 07 2020 AEDT",
          "Feb 06 2020 AEDT",
          "Feb 05 2020 AEDT",
          "Feb 04 2020 AEDT",
          "Feb 03 2020 AEDT",
          "Feb 02 2020 AEDT",
          "Feb 01 2020 AEDT",
          "Jan 31 2020 AEDT",
          "Jan 30 2020 AEDT",
          "Jan 29 2020 AEDT",
          "Jan 28 2020 AEDT",
          "Jan 27 2020 AEDT",
          "Jan 26 2020 AEDT",
          "Jan 25 2020 AEDT",
          "Jan 24 2020 AEDT",
          "Jan 23 2020 AEDT",
          "Jan 22 2020 AEDT",
          "Jan 21 2020 AEDT"
         ],
         "type": "scatter",
         "x": [
          "2020-02-11T16:00:00",
          "2020-02-10T22:00:00",
          "2020-02-09T22:00:00",
          "2020-02-08T22:00:00",
          "2020-02-07T22:00:00",
          "2020-02-06T22:00:00",
          "2020-02-05T22:00:00",
          "2020-02-04T21:00:00",
          "2020-02-03T21:00:00",
          "2020-02-02T21:00:00",
          "2020-02-01T11:00:00",
          "2020-01-31T13:30:00",
          "2020-01-30T13:00:00",
          "2020-01-29T15:00:00",
          "2020-01-28T12:30:00",
          "2020-01-27T15:00:00",
          "2020-01-26T14:00:00",
          "2020-01-25T16:00:00",
          "2020-01-24T16:00:00",
          "2020-01-23T16:00:00",
          "2020-01-22T16:00:00",
          "2020-01-21T16:00:00"
         ],
         "y": [
          463,
          452,
          370,
          347,
          321,
          263,
          231,
          194,
          181,
          177,
          152,
          118,
          105,
          87,
          64,
          57,
          40,
          34,
          16,
          26,
          6,
          5
         ]
        }
       ],
       "layout": {
        "font": {
         "color": "#292929"
        },
        "hovermode": "x",
        "legend": {
         "orientation": "h"
        },
        "margin": {
         "b": 10,
         "l": 10,
         "pad": 0,
         "r": 10,
         "t": 5
        },
        "paper_bgcolor": "#cbd2d3",
        "plot_bgcolor": "#f4f4f2",
        "template": {
         "data": {
          "bar": [
           {
            "error_x": {
             "color": "#2a3f5f"
            },
            "error_y": {
             "color": "#2a3f5f"
            },
            "marker": {
             "line": {
              "color": "#E5ECF6",
              "width": 0.5
             }
            },
            "type": "bar"
           }
          ],
          "barpolar": [
           {
            "marker": {
             "line": {
              "color": "#E5ECF6",
              "width": 0.5
             }
            },
            "type": "barpolar"
           }
          ],
          "carpet": [
           {
            "aaxis": {
             "endlinecolor": "#2a3f5f",
             "gridcolor": "white",
             "linecolor": "white",
             "minorgridcolor": "white",
             "startlinecolor": "#2a3f5f"
            },
            "baxis": {
             "endlinecolor": "#2a3f5f",
             "gridcolor": "white",
             "linecolor": "white",
             "minorgridcolor": "white",
             "startlinecolor": "#2a3f5f"
            },
            "type": "carpet"
           }
          ],
          "choropleth": [
           {
            "colorbar": {
             "outlinewidth": 0,
             "ticks": ""
            },
            "type": "choropleth"
           }
          ],
          "contour": [
           {
            "colorbar": {
             "outlinewidth": 0,
             "ticks": ""
            },
            "colorscale": [
             [
              0,
              "#0d0887"
             ],
             [
              0.1111111111111111,
              "#46039f"
             ],
             [
              0.2222222222222222,
              "#7201a8"
             ],
             [
              0.3333333333333333,
              "#9c179e"
             ],
             [
              0.4444444444444444,
              "#bd3786"
             ],
             [
              0.5555555555555556,
              "#d8576b"
             ],
             [
              0.6666666666666666,
              "#ed7953"
             ],
             [
              0.7777777777777778,
              "#fb9f3a"
             ],
             [
              0.8888888888888888,
              "#fdca26"
             ],
             [
              1,
              "#f0f921"
             ]
            ],
            "type": "contour"
           }
          ],
          "contourcarpet": [
           {
            "colorbar": {
             "outlinewidth": 0,
             "ticks": ""
            },
            "type": "contourcarpet"
           }
          ],
          "heatmap": [
           {
            "colorbar": {
             "outlinewidth": 0,
             "ticks": ""
            },
            "colorscale": [
             [
              0,
              "#0d0887"
             ],
             [
              0.1111111111111111,
              "#46039f"
             ],
             [
              0.2222222222222222,
              "#7201a8"
             ],
             [
              0.3333333333333333,
              "#9c179e"
             ],
             [
              0.4444444444444444,
              "#bd3786"
             ],
             [
              0.5555555555555556,
              "#d8576b"
             ],
             [
              0.6666666666666666,
              "#ed7953"
             ],
             [
              0.7777777777777778,
              "#fb9f3a"
             ],
             [
              0.8888888888888888,
              "#fdca26"
             ],
             [
              1,
              "#f0f921"
             ]
            ],
            "type": "heatmap"
           }
          ],
          "heatmapgl": [
           {
            "colorbar": {
             "outlinewidth": 0,
             "ticks": ""
            },
            "colorscale": [
             [
              0,
              "#0d0887"
             ],
             [
              0.1111111111111111,
              "#46039f"
             ],
             [
              0.2222222222222222,
              "#7201a8"
             ],
             [
              0.3333333333333333,
              "#9c179e"
             ],
             [
              0.4444444444444444,
              "#bd3786"
             ],
             [
              0.5555555555555556,
              "#d8576b"
             ],
             [
              0.6666666666666666,
              "#ed7953"
             ],
             [
              0.7777777777777778,
              "#fb9f3a"
             ],
             [
              0.8888888888888888,
              "#fdca26"
             ],
             [
              1,
              "#f0f921"
             ]
            ],
            "type": "heatmapgl"
           }
          ],
          "histogram": [
           {
            "marker": {
             "colorbar": {
              "outlinewidth": 0,
              "ticks": ""
             }
            },
            "type": "histogram"
           }
          ],
          "histogram2d": [
           {
            "colorbar": {
             "outlinewidth": 0,
             "ticks": ""
            },
            "colorscale": [
             [
              0,
              "#0d0887"
             ],
             [
              0.1111111111111111,
              "#46039f"
             ],
             [
              0.2222222222222222,
              "#7201a8"
             ],
             [
              0.3333333333333333,
              "#9c179e"
             ],
             [
              0.4444444444444444,
              "#bd3786"
             ],
             [
              0.5555555555555556,
              "#d8576b"
             ],
             [
              0.6666666666666666,
              "#ed7953"
             ],
             [
              0.7777777777777778,
              "#fb9f3a"
             ],
             [
              0.8888888888888888,
              "#fdca26"
             ],
             [
              1,
              "#f0f921"
             ]
            ],
            "type": "histogram2d"
           }
          ],
          "histogram2dcontour": [
           {
            "colorbar": {
             "outlinewidth": 0,
             "ticks": ""
            },
            "colorscale": [
             [
              0,
              "#0d0887"
             ],
             [
              0.1111111111111111,
              "#46039f"
             ],
             [
              0.2222222222222222,
              "#7201a8"
             ],
             [
              0.3333333333333333,
              "#9c179e"
             ],
             [
              0.4444444444444444,
              "#bd3786"
             ],
             [
              0.5555555555555556,
              "#d8576b"
             ],
             [
              0.6666666666666666,
              "#ed7953"
             ],
             [
              0.7777777777777778,
              "#fb9f3a"
             ],
             [
              0.8888888888888888,
              "#fdca26"
             ],
             [
              1,
              "#f0f921"
             ]
            ],
            "type": "histogram2dcontour"
           }
          ],
          "mesh3d": [
           {
            "colorbar": {
             "outlinewidth": 0,
             "ticks": ""
            },
            "type": "mesh3d"
           }
          ],
          "parcoords": [
           {
            "line": {
             "colorbar": {
              "outlinewidth": 0,
              "ticks": ""
             }
            },
            "type": "parcoords"
           }
          ],
          "pie": [
           {
            "automargin": true,
            "type": "pie"
           }
          ],
          "scatter": [
           {
            "marker": {
             "colorbar": {
              "outlinewidth": 0,
              "ticks": ""
             }
            },
            "type": "scatter"
           }
          ],
          "scatter3d": [
           {
            "line": {
             "colorbar": {
              "outlinewidth": 0,
              "ticks": ""
             }
            },
            "marker": {
             "colorbar": {
              "outlinewidth": 0,
              "ticks": ""
             }
            },
            "type": "scatter3d"
           }
          ],
          "scattercarpet": [
           {
            "marker": {
             "colorbar": {
              "outlinewidth": 0,
              "ticks": ""
             }
            },
            "type": "scattercarpet"
           }
          ],
          "scattergeo": [
           {
            "marker": {
             "colorbar": {
              "outlinewidth": 0,
              "ticks": ""
             }
            },
            "type": "scattergeo"
           }
          ],
          "scattergl": [
           {
            "marker": {
             "colorbar": {
              "outlinewidth": 0,
              "ticks": ""
             }
            },
            "type": "scattergl"
           }
          ],
          "scattermapbox": [
           {
            "marker": {
             "colorbar": {
              "outlinewidth": 0,
              "ticks": ""
             }
            },
            "type": "scattermapbox"
           }
          ],
          "scatterpolar": [
           {
            "marker": {
             "colorbar": {
              "outlinewidth": 0,
              "ticks": ""
             }
            },
            "type": "scatterpolar"
           }
          ],
          "scatterpolargl": [
           {
            "marker": {
             "colorbar": {
              "outlinewidth": 0,
              "ticks": ""
             }
            },
            "type": "scatterpolargl"
           }
          ],
          "scatterternary": [
           {
            "marker": {
             "colorbar": {
              "outlinewidth": 0,
              "ticks": ""
             }
            },
            "type": "scatterternary"
           }
          ],
          "surface": [
           {
            "colorbar": {
             "outlinewidth": 0,
             "ticks": ""
            },
            "colorscale": [
             [
              0,
              "#0d0887"
             ],
             [
              0.1111111111111111,
              "#46039f"
             ],
             [
              0.2222222222222222,
              "#7201a8"
             ],
             [
              0.3333333333333333,
              "#9c179e"
             ],
             [
              0.4444444444444444,
              "#bd3786"
             ],
             [
              0.5555555555555556,
              "#d8576b"
             ],
             [
              0.6666666666666666,
              "#ed7953"
             ],
             [
              0.7777777777777778,
              "#fb9f3a"
             ],
             [
              0.8888888888888888,
              "#fdca26"
             ],
             [
              1,
              "#f0f921"
             ]
            ],
            "type": "surface"
           }
          ],
          "table": [
           {
            "cells": {
             "fill": {
              "color": "#EBF0F8"
             },
             "line": {
              "color": "white"
             }
            },
            "header": {
             "fill": {
              "color": "#C8D4E3"
             },
             "line": {
              "color": "white"
             }
            },
            "type": "table"
           }
          ]
         },
         "layout": {
          "annotationdefaults": {
           "arrowcolor": "#2a3f5f",
           "arrowhead": 0,
           "arrowwidth": 1
          },
          "coloraxis": {
           "colorbar": {
            "outlinewidth": 0,
            "ticks": ""
           }
          },
          "colorscale": {
           "diverging": [
            [
             0,
             "#8e0152"
            ],
            [
             0.1,
             "#c51b7d"
            ],
            [
             0.2,
             "#de77ae"
            ],
            [
             0.3,
             "#f1b6da"
            ],
            [
             0.4,
             "#fde0ef"
            ],
            [
             0.5,
             "#f7f7f7"
            ],
            [
             0.6,
             "#e6f5d0"
            ],
            [
             0.7,
             "#b8e186"
            ],
            [
             0.8,
             "#7fbc41"
            ],
            [
             0.9,
             "#4d9221"
            ],
            [
             1,
             "#276419"
            ]
           ],
           "sequential": [
            [
             0,
             "#0d0887"
            ],
            [
             0.1111111111111111,
             "#46039f"
            ],
            [
             0.2222222222222222,
             "#7201a8"
            ],
            [
             0.3333333333333333,
             "#9c179e"
            ],
            [
             0.4444444444444444,
             "#bd3786"
            ],
            [
             0.5555555555555556,
             "#d8576b"
            ],
            [
             0.6666666666666666,
             "#ed7953"
            ],
            [
             0.7777777777777778,
             "#fb9f3a"
            ],
            [
             0.8888888888888888,
             "#fdca26"
            ],
            [
             1,
             "#f0f921"
            ]
           ],
           "sequentialminus": [
            [
             0,
             "#0d0887"
            ],
            [
             0.1111111111111111,
             "#46039f"
            ],
            [
             0.2222222222222222,
             "#7201a8"
            ],
            [
             0.3333333333333333,
             "#9c179e"
            ],
            [
             0.4444444444444444,
             "#bd3786"
            ],
            [
             0.5555555555555556,
             "#d8576b"
            ],
            [
             0.6666666666666666,
             "#ed7953"
            ],
            [
             0.7777777777777778,
             "#fb9f3a"
            ],
            [
             0.8888888888888888,
             "#fdca26"
            ],
            [
             1,
             "#f0f921"
            ]
           ]
          },
          "colorway": [
           "#636efa",
           "#EF553B",
           "#00cc96",
           "#ab63fa",
           "#FFA15A",
           "#19d3f3",
           "#FF6692",
           "#B6E880",
           "#FF97FF",
           "#FECB52"
          ],
          "font": {
           "color": "#2a3f5f"
          },
          "geo": {
           "bgcolor": "white",
           "lakecolor": "white",
           "landcolor": "#E5ECF6",
           "showlakes": true,
           "showland": true,
           "subunitcolor": "white"
          },
          "hoverlabel": {
           "align": "left"
          },
          "hovermode": "closest",
          "mapbox": {
           "style": "light"
          },
          "paper_bgcolor": "white",
          "plot_bgcolor": "#E5ECF6",
          "polar": {
           "angularaxis": {
            "gridcolor": "white",
            "linecolor": "white",
            "ticks": ""
           },
           "bgcolor": "#E5ECF6",
           "radialaxis": {
            "gridcolor": "white",
            "linecolor": "white",
            "ticks": ""
           }
          },
          "scene": {
           "xaxis": {
            "backgroundcolor": "#E5ECF6",
            "gridcolor": "white",
            "gridwidth": 2,
            "linecolor": "white",
            "showbackground": true,
            "ticks": "",
            "zerolinecolor": "white"
           },
           "yaxis": {
            "backgroundcolor": "#E5ECF6",
            "gridcolor": "white",
            "gridwidth": 2,
            "linecolor": "white",
            "showbackground": true,
            "ticks": "",
            "zerolinecolor": "white"
           },
           "zaxis": {
            "backgroundcolor": "#E5ECF6",
            "gridcolor": "white",
            "gridwidth": 2,
            "linecolor": "white",
            "showbackground": true,
            "ticks": "",
            "zerolinecolor": "white"
           }
          },
          "shapedefaults": {
           "line": {
            "color": "#2a3f5f"
           }
          },
          "ternary": {
           "aaxis": {
            "gridcolor": "white",
            "linecolor": "white",
            "ticks": ""
           },
           "baxis": {
            "gridcolor": "white",
            "linecolor": "white",
            "ticks": ""
           },
           "bgcolor": "#E5ECF6",
           "caxis": {
            "gridcolor": "white",
            "linecolor": "white",
            "ticks": ""
           }
          },
          "title": {
           "x": 0.05
          },
          "xaxis": {
           "automargin": true,
           "gridcolor": "white",
           "linecolor": "white",
           "ticks": "",
           "title": {
            "standoff": 15
           },
           "zerolinecolor": "white",
           "zerolinewidth": 2
          },
          "yaxis": {
           "automargin": true,
           "gridcolor": "white",
           "linecolor": "white",
           "ticks": "",
           "title": {
            "standoff": 15
           },
           "zerolinecolor": "white",
           "zerolinewidth": 2
          }
         }
        },
        "xaxis": {
         "gridcolor": "rgba(203, 210, 211,.3)",
         "gridwidth": 0.1,
         "linecolor": "#272e3e",
         "showline": true,
         "tickformat": "%b %d",
         "zeroline": false
        },
        "yaxis": {
         "gridcolor": "rgba(203, 210, 211,.3)",
         "gridwidth": 0.1,
         "linecolor": "#272e3e",
         "showline": true,
         "tickmode": "array",
         "ticktext": [
          "0k",
          "5k",
          "10k",
          "15k",
          "20k",
          "25k",
          "30k",
          "35k",
          "40k"
         ],
         "tickvals": [
          0,
          5000,
          10000,
          15000,
          20000,
          25000,
          30000,
          35000,
          40000
         ],
         "zeroline": false
        }
       }
      },
      "text/html": [
       "<div>\n",
       "        \n",
       "        \n",
       "            <div id=\"441b8b6c-8e64-4899-97bd-ab98db63b52c\" class=\"plotly-graph-div\" style=\"height:525px; width:100%;\"></div>\n",
       "            <script type=\"text/javascript\">\n",
       "                require([\"plotly\"], function(Plotly) {\n",
       "                    window.PLOTLYENV=window.PLOTLYENV || {};\n",
       "                    \n",
       "                if (document.getElementById(\"441b8b6c-8e64-4899-97bd-ab98db63b52c\")) {\n",
       "                    Plotly.newPlot(\n",
       "                        '441b8b6c-8e64-4899-97bd-ab98db63b52c',\n",
       "                        [{\"hovertemplate\": \"<b>%{text}</b><br></br>%{hovertext}<extra></extra>\", \"hovertext\": [\"Mainland China confirmed<br>42,644 cases<br>\", \"Mainland China confirmed<br>40,195 cases<br>\", \"Mainland China confirmed<br>37,230 cases<br>\", \"Mainland China confirmed<br>34,609 cases<br>\", \"Mainland China confirmed<br>31,187 cases<br>\", \"Mainland China confirmed<br>28,085 cases<br>\", \"Mainland China confirmed<br>24,385 cases<br>\", \"Mainland China confirmed<br>20,483 cases<br>\", \"Mainland China confirmed<br>17,302 cases<br>\", \"Mainland China confirmed<br>14,451 cases<br>\", \"Mainland China confirmed<br>11,221 cases<br>\", \"Mainland China confirmed<br>9,658 cases<br>\", \"Mainland China confirmed<br>7,678 cases<br>\", \"Mainland China confirmed<br>5,970 cases<br>\", \"Mainland China confirmed<br>4,409 cases<br>\", \"Mainland China confirmed<br>2,737 cases<br>\", \"Mainland China confirmed<br>1,979 cases<br>\", \"Mainland China confirmed<br>1,320 cases<br>\", \"Mainland China confirmed<br>865 cases<br>\", \"Mainland China confirmed<br>639 cases<br>\", \"Mainland China confirmed<br>549 cases<br>\", \"Mainland China confirmed<br>327 cases<br>\"], \"line\": {\"color\": \"#921113\", \"shape\": \"spline\", \"width\": 3}, \"marker\": {\"color\": \"#f4f4f2\", \"line\": {\"color\": \"#921113\", \"width\": 1}, \"size\": 8}, \"mode\": \"lines+markers\", \"name\": \"Mainland China\", \"text\": [\"Feb 11 2020 AEDT\", \"Feb 10 2020 AEDT\", \"Feb 09 2020 AEDT\", \"Feb 08 2020 AEDT\", \"Feb 07 2020 AEDT\", \"Feb 06 2020 AEDT\", \"Feb 05 2020 AEDT\", \"Feb 04 2020 AEDT\", \"Feb 03 2020 AEDT\", \"Feb 02 2020 AEDT\", \"Feb 01 2020 AEDT\", \"Jan 31 2020 AEDT\", \"Jan 30 2020 AEDT\", \"Jan 29 2020 AEDT\", \"Jan 28 2020 AEDT\", \"Jan 27 2020 AEDT\", \"Jan 26 2020 AEDT\", \"Jan 25 2020 AEDT\", \"Jan 24 2020 AEDT\", \"Jan 23 2020 AEDT\", \"Jan 22 2020 AEDT\", \"Jan 21 2020 AEDT\"], \"type\": \"scatter\", \"x\": [\"2020-02-11T16:00:00\", \"2020-02-10T22:00:00\", \"2020-02-09T22:00:00\", \"2020-02-08T22:00:00\", \"2020-02-07T22:00:00\", \"2020-02-06T22:00:00\", \"2020-02-05T22:00:00\", \"2020-02-04T21:00:00\", \"2020-02-03T21:00:00\", \"2020-02-02T21:00:00\", \"2020-02-01T11:00:00\", \"2020-01-31T13:30:00\", \"2020-01-30T13:00:00\", \"2020-01-29T15:00:00\", \"2020-01-28T12:30:00\", \"2020-01-27T15:00:00\", \"2020-01-26T14:00:00\", \"2020-01-25T16:00:00\", \"2020-01-24T16:00:00\", \"2020-01-23T16:00:00\", \"2020-01-22T16:00:00\", \"2020-01-21T16:00:00\"], \"y\": [42644, 40195, 37230, 34609, 31187, 28085, 24385, 20483, 17302, 14451, 11221, 9658, 7678, 5970, 4409, 2737, 1979, 1320, 865, 639, 549, 327]}, {\"hovertemplate\": \"<b>%{text}</b><br></br>%{hovertext}<extra></extra>\", \"hovertext\": [\"Other locations confirmed<br>463 cases<br>\", \"Other locations confirmed<br>452 cases<br>\", \"Other locations confirmed<br>370 cases<br>\", \"Other locations confirmed<br>347 cases<br>\", \"Other locations confirmed<br>321 cases<br>\", \"Other locations confirmed<br>263 cases<br>\", \"Other locations confirmed<br>231 cases<br>\", \"Other locations confirmed<br>194 cases<br>\", \"Other locations confirmed<br>181 cases<br>\", \"Other locations confirmed<br>177 cases<br>\", \"Other locations confirmed<br>152 cases<br>\", \"Other locations confirmed<br>118 cases<br>\", \"Other locations confirmed<br>105 cases<br>\", \"Other locations confirmed<br>87 cases<br>\", \"Other locations confirmed<br>64 cases<br>\", \"Other locations confirmed<br>57 cases<br>\", \"Other locations confirmed<br>40 cases<br>\", \"Other locations confirmed<br>34 cases<br>\", \"Other locations confirmed<br>16 cases<br>\", \"Other locations confirmed<br>26 cases<br>\", \"Other locations confirmed<br>6 cases<br>\", \"Other locations confirmed<br>5 cases<br>\"], \"line\": {\"color\": \"#eb5254\", \"shape\": \"spline\", \"width\": 3}, \"marker\": {\"color\": \"#f4f4f2\", \"line\": {\"color\": \"#eb5254\", \"width\": 1}, \"size\": 8}, \"mode\": \"lines+markers\", \"name\": \"Other Region\", \"text\": [\"Feb 11 2020 AEDT\", \"Feb 10 2020 AEDT\", \"Feb 09 2020 AEDT\", \"Feb 08 2020 AEDT\", \"Feb 07 2020 AEDT\", \"Feb 06 2020 AEDT\", \"Feb 05 2020 AEDT\", \"Feb 04 2020 AEDT\", \"Feb 03 2020 AEDT\", \"Feb 02 2020 AEDT\", \"Feb 01 2020 AEDT\", \"Jan 31 2020 AEDT\", \"Jan 30 2020 AEDT\", \"Jan 29 2020 AEDT\", \"Jan 28 2020 AEDT\", \"Jan 27 2020 AEDT\", \"Jan 26 2020 AEDT\", \"Jan 25 2020 AEDT\", \"Jan 24 2020 AEDT\", \"Jan 23 2020 AEDT\", \"Jan 22 2020 AEDT\", \"Jan 21 2020 AEDT\"], \"type\": \"scatter\", \"x\": [\"2020-02-11T16:00:00\", \"2020-02-10T22:00:00\", \"2020-02-09T22:00:00\", \"2020-02-08T22:00:00\", \"2020-02-07T22:00:00\", \"2020-02-06T22:00:00\", \"2020-02-05T22:00:00\", \"2020-02-04T21:00:00\", \"2020-02-03T21:00:00\", \"2020-02-02T21:00:00\", \"2020-02-01T11:00:00\", \"2020-01-31T13:30:00\", \"2020-01-30T13:00:00\", \"2020-01-29T15:00:00\", \"2020-01-28T12:30:00\", \"2020-01-27T15:00:00\", \"2020-01-26T14:00:00\", \"2020-01-25T16:00:00\", \"2020-01-24T16:00:00\", \"2020-01-23T16:00:00\", \"2020-01-22T16:00:00\", \"2020-01-21T16:00:00\"], \"y\": [463, 452, 370, 347, 321, 263, 231, 194, 181, 177, 152, 118, 105, 87, 64, 57, 40, 34, 16, 26, 6, 5]}],\n",
       "                        {\"font\": {\"color\": \"#292929\"}, \"hovermode\": \"x\", \"legend\": {\"orientation\": \"h\"}, \"margin\": {\"b\": 10, \"l\": 10, \"pad\": 0, \"r\": 10, \"t\": 5}, \"paper_bgcolor\": \"#cbd2d3\", \"plot_bgcolor\": \"#f4f4f2\", \"template\": {\"data\": {\"bar\": [{\"error_x\": {\"color\": \"#2a3f5f\"}, \"error_y\": {\"color\": \"#2a3f5f\"}, \"marker\": {\"line\": {\"color\": \"#E5ECF6\", \"width\": 0.5}}, \"type\": \"bar\"}], \"barpolar\": [{\"marker\": {\"line\": {\"color\": \"#E5ECF6\", \"width\": 0.5}}, \"type\": \"barpolar\"}], \"carpet\": [{\"aaxis\": {\"endlinecolor\": \"#2a3f5f\", \"gridcolor\": \"white\", \"linecolor\": \"white\", \"minorgridcolor\": \"white\", \"startlinecolor\": \"#2a3f5f\"}, \"baxis\": {\"endlinecolor\": \"#2a3f5f\", \"gridcolor\": \"white\", \"linecolor\": \"white\", \"minorgridcolor\": \"white\", \"startlinecolor\": \"#2a3f5f\"}, \"type\": \"carpet\"}], \"choropleth\": [{\"colorbar\": {\"outlinewidth\": 0, \"ticks\": \"\"}, \"type\": \"choropleth\"}], \"contour\": [{\"colorbar\": {\"outlinewidth\": 0, \"ticks\": \"\"}, \"colorscale\": [[0.0, \"#0d0887\"], [0.1111111111111111, \"#46039f\"], [0.2222222222222222, \"#7201a8\"], [0.3333333333333333, \"#9c179e\"], [0.4444444444444444, \"#bd3786\"], [0.5555555555555556, \"#d8576b\"], [0.6666666666666666, \"#ed7953\"], [0.7777777777777778, \"#fb9f3a\"], [0.8888888888888888, \"#fdca26\"], [1.0, \"#f0f921\"]], \"type\": \"contour\"}], \"contourcarpet\": [{\"colorbar\": {\"outlinewidth\": 0, \"ticks\": \"\"}, \"type\": \"contourcarpet\"}], \"heatmap\": [{\"colorbar\": {\"outlinewidth\": 0, \"ticks\": \"\"}, \"colorscale\": [[0.0, \"#0d0887\"], [0.1111111111111111, \"#46039f\"], [0.2222222222222222, \"#7201a8\"], [0.3333333333333333, \"#9c179e\"], [0.4444444444444444, \"#bd3786\"], [0.5555555555555556, \"#d8576b\"], [0.6666666666666666, \"#ed7953\"], [0.7777777777777778, \"#fb9f3a\"], [0.8888888888888888, \"#fdca26\"], [1.0, \"#f0f921\"]], \"type\": \"heatmap\"}], \"heatmapgl\": [{\"colorbar\": {\"outlinewidth\": 0, \"ticks\": \"\"}, \"colorscale\": [[0.0, \"#0d0887\"], [0.1111111111111111, \"#46039f\"], [0.2222222222222222, \"#7201a8\"], [0.3333333333333333, \"#9c179e\"], [0.4444444444444444, \"#bd3786\"], [0.5555555555555556, \"#d8576b\"], [0.6666666666666666, \"#ed7953\"], [0.7777777777777778, \"#fb9f3a\"], [0.8888888888888888, \"#fdca26\"], [1.0, \"#f0f921\"]], \"type\": \"heatmapgl\"}], \"histogram\": [{\"marker\": {\"colorbar\": {\"outlinewidth\": 0, \"ticks\": \"\"}}, \"type\": \"histogram\"}], \"histogram2d\": [{\"colorbar\": {\"outlinewidth\": 0, \"ticks\": \"\"}, \"colorscale\": [[0.0, \"#0d0887\"], [0.1111111111111111, \"#46039f\"], [0.2222222222222222, \"#7201a8\"], [0.3333333333333333, \"#9c179e\"], [0.4444444444444444, \"#bd3786\"], [0.5555555555555556, \"#d8576b\"], [0.6666666666666666, \"#ed7953\"], [0.7777777777777778, \"#fb9f3a\"], [0.8888888888888888, \"#fdca26\"], [1.0, \"#f0f921\"]], \"type\": \"histogram2d\"}], \"histogram2dcontour\": [{\"colorbar\": {\"outlinewidth\": 0, \"ticks\": \"\"}, \"colorscale\": [[0.0, \"#0d0887\"], [0.1111111111111111, \"#46039f\"], [0.2222222222222222, \"#7201a8\"], [0.3333333333333333, \"#9c179e\"], [0.4444444444444444, \"#bd3786\"], [0.5555555555555556, \"#d8576b\"], [0.6666666666666666, \"#ed7953\"], [0.7777777777777778, \"#fb9f3a\"], [0.8888888888888888, \"#fdca26\"], [1.0, \"#f0f921\"]], \"type\": \"histogram2dcontour\"}], \"mesh3d\": [{\"colorbar\": {\"outlinewidth\": 0, \"ticks\": \"\"}, \"type\": \"mesh3d\"}], \"parcoords\": [{\"line\": {\"colorbar\": {\"outlinewidth\": 0, \"ticks\": \"\"}}, \"type\": \"parcoords\"}], \"pie\": [{\"automargin\": true, \"type\": \"pie\"}], \"scatter\": [{\"marker\": {\"colorbar\": {\"outlinewidth\": 0, \"ticks\": \"\"}}, \"type\": \"scatter\"}], \"scatter3d\": [{\"line\": {\"colorbar\": {\"outlinewidth\": 0, \"ticks\": \"\"}}, \"marker\": {\"colorbar\": {\"outlinewidth\": 0, \"ticks\": \"\"}}, \"type\": \"scatter3d\"}], \"scattercarpet\": [{\"marker\": {\"colorbar\": {\"outlinewidth\": 0, \"ticks\": \"\"}}, \"type\": \"scattercarpet\"}], \"scattergeo\": [{\"marker\": {\"colorbar\": {\"outlinewidth\": 0, \"ticks\": \"\"}}, \"type\": \"scattergeo\"}], \"scattergl\": [{\"marker\": {\"colorbar\": {\"outlinewidth\": 0, \"ticks\": \"\"}}, \"type\": \"scattergl\"}], \"scattermapbox\": [{\"marker\": {\"colorbar\": {\"outlinewidth\": 0, \"ticks\": \"\"}}, \"type\": \"scattermapbox\"}], \"scatterpolar\": [{\"marker\": {\"colorbar\": {\"outlinewidth\": 0, \"ticks\": \"\"}}, \"type\": \"scatterpolar\"}], \"scatterpolargl\": [{\"marker\": {\"colorbar\": {\"outlinewidth\": 0, \"ticks\": \"\"}}, \"type\": \"scatterpolargl\"}], \"scatterternary\": [{\"marker\": {\"colorbar\": {\"outlinewidth\": 0, \"ticks\": \"\"}}, \"type\": \"scatterternary\"}], \"surface\": [{\"colorbar\": {\"outlinewidth\": 0, \"ticks\": \"\"}, \"colorscale\": [[0.0, \"#0d0887\"], [0.1111111111111111, \"#46039f\"], [0.2222222222222222, \"#7201a8\"], [0.3333333333333333, \"#9c179e\"], [0.4444444444444444, \"#bd3786\"], [0.5555555555555556, \"#d8576b\"], [0.6666666666666666, \"#ed7953\"], [0.7777777777777778, \"#fb9f3a\"], [0.8888888888888888, \"#fdca26\"], [1.0, \"#f0f921\"]], \"type\": \"surface\"}], \"table\": [{\"cells\": {\"fill\": {\"color\": \"#EBF0F8\"}, \"line\": {\"color\": \"white\"}}, \"header\": {\"fill\": {\"color\": \"#C8D4E3\"}, \"line\": {\"color\": \"white\"}}, \"type\": \"table\"}]}, \"layout\": {\"annotationdefaults\": {\"arrowcolor\": \"#2a3f5f\", \"arrowhead\": 0, \"arrowwidth\": 1}, \"coloraxis\": {\"colorbar\": {\"outlinewidth\": 0, \"ticks\": \"\"}}, \"colorscale\": {\"diverging\": [[0, \"#8e0152\"], [0.1, \"#c51b7d\"], [0.2, \"#de77ae\"], [0.3, \"#f1b6da\"], [0.4, \"#fde0ef\"], [0.5, \"#f7f7f7\"], [0.6, \"#e6f5d0\"], [0.7, \"#b8e186\"], [0.8, \"#7fbc41\"], [0.9, \"#4d9221\"], [1, \"#276419\"]], \"sequential\": [[0.0, \"#0d0887\"], [0.1111111111111111, \"#46039f\"], [0.2222222222222222, \"#7201a8\"], [0.3333333333333333, \"#9c179e\"], [0.4444444444444444, \"#bd3786\"], [0.5555555555555556, \"#d8576b\"], [0.6666666666666666, \"#ed7953\"], [0.7777777777777778, \"#fb9f3a\"], [0.8888888888888888, \"#fdca26\"], [1.0, \"#f0f921\"]], \"sequentialminus\": [[0.0, \"#0d0887\"], [0.1111111111111111, \"#46039f\"], [0.2222222222222222, \"#7201a8\"], [0.3333333333333333, \"#9c179e\"], [0.4444444444444444, \"#bd3786\"], [0.5555555555555556, \"#d8576b\"], [0.6666666666666666, \"#ed7953\"], [0.7777777777777778, \"#fb9f3a\"], [0.8888888888888888, \"#fdca26\"], [1.0, \"#f0f921\"]]}, \"colorway\": [\"#636efa\", \"#EF553B\", \"#00cc96\", \"#ab63fa\", \"#FFA15A\", \"#19d3f3\", \"#FF6692\", \"#B6E880\", \"#FF97FF\", \"#FECB52\"], \"font\": {\"color\": \"#2a3f5f\"}, \"geo\": {\"bgcolor\": \"white\", \"lakecolor\": \"white\", \"landcolor\": \"#E5ECF6\", \"showlakes\": true, \"showland\": true, \"subunitcolor\": \"white\"}, \"hoverlabel\": {\"align\": \"left\"}, \"hovermode\": \"closest\", \"mapbox\": {\"style\": \"light\"}, \"paper_bgcolor\": \"white\", \"plot_bgcolor\": \"#E5ECF6\", \"polar\": {\"angularaxis\": {\"gridcolor\": \"white\", \"linecolor\": \"white\", \"ticks\": \"\"}, \"bgcolor\": \"#E5ECF6\", \"radialaxis\": {\"gridcolor\": \"white\", \"linecolor\": \"white\", \"ticks\": \"\"}}, \"scene\": {\"xaxis\": {\"backgroundcolor\": \"#E5ECF6\", \"gridcolor\": \"white\", \"gridwidth\": 2, \"linecolor\": \"white\", \"showbackground\": true, \"ticks\": \"\", \"zerolinecolor\": \"white\"}, \"yaxis\": {\"backgroundcolor\": \"#E5ECF6\", \"gridcolor\": \"white\", \"gridwidth\": 2, \"linecolor\": \"white\", \"showbackground\": true, \"ticks\": \"\", \"zerolinecolor\": \"white\"}, \"zaxis\": {\"backgroundcolor\": \"#E5ECF6\", \"gridcolor\": \"white\", \"gridwidth\": 2, \"linecolor\": \"white\", \"showbackground\": true, \"ticks\": \"\", \"zerolinecolor\": \"white\"}}, \"shapedefaults\": {\"line\": {\"color\": \"#2a3f5f\"}}, \"ternary\": {\"aaxis\": {\"gridcolor\": \"white\", \"linecolor\": \"white\", \"ticks\": \"\"}, \"baxis\": {\"gridcolor\": \"white\", \"linecolor\": \"white\", \"ticks\": \"\"}, \"bgcolor\": \"#E5ECF6\", \"caxis\": {\"gridcolor\": \"white\", \"linecolor\": \"white\", \"ticks\": \"\"}}, \"title\": {\"x\": 0.05}, \"xaxis\": {\"automargin\": true, \"gridcolor\": \"white\", \"linecolor\": \"white\", \"ticks\": \"\", \"title\": {\"standoff\": 15}, \"zerolinecolor\": \"white\", \"zerolinewidth\": 2}, \"yaxis\": {\"automargin\": true, \"gridcolor\": \"white\", \"linecolor\": \"white\", \"ticks\": \"\", \"title\": {\"standoff\": 15}, \"zerolinecolor\": \"white\", \"zerolinewidth\": 2}}}, \"xaxis\": {\"gridcolor\": \"rgba(203, 210, 211,.3)\", \"gridwidth\": 0.1, \"linecolor\": \"#272e3e\", \"showline\": true, \"tickformat\": \"%b %d\", \"zeroline\": false}, \"yaxis\": {\"gridcolor\": \"rgba(203, 210, 211,.3)\", \"gridwidth\": 0.1, \"linecolor\": \"#272e3e\", \"showline\": true, \"tickmode\": \"array\", \"ticktext\": [\"0k\", \"5k\", \"10k\", \"15k\", \"20k\", \"25k\", \"30k\", \"35k\", \"40k\"], \"tickvals\": [0, 5000, 10000, 15000, 20000, 25000, 30000, 35000, 40000], \"zeroline\": false}},\n",
       "                        {\"responsive\": true}\n",
       "                    ).then(function(){\n",
       "                            \n",
       "var gd = document.getElementById('441b8b6c-8e64-4899-97bd-ab98db63b52c');\n",
       "var x = new MutationObserver(function (mutations, observer) {{\n",
       "        var display = window.getComputedStyle(gd).display;\n",
       "        if (!display || display === 'none') {{\n",
       "            console.log([gd, 'removed!']);\n",
       "            Plotly.purge(gd);\n",
       "            observer.disconnect();\n",
       "        }}\n",
       "}});\n",
       "\n",
       "// Listen for the removal of the full notebook cells\n",
       "var notebookContainer = gd.closest('#notebook-container');\n",
       "if (notebookContainer) {{\n",
       "    x.observe(notebookContainer, {childList: true});\n",
       "}}\n",
       "\n",
       "// Listen for the clearing of the current output cell\n",
       "var outputEl = gd.closest('.output');\n",
       "if (outputEl) {{\n",
       "    x.observe(outputEl, {childList: true});\n",
       "}}\n",
       "\n",
       "                        })\n",
       "                };\n",
       "                });\n",
       "            </script>\n",
       "        </div>"
      ]
     },
     "metadata": {},
     "output_type": "display_data"
    }
   ],
   "source": [
    "# Line plot for confirmed cases\n",
    "# Set up tick scale based on confirmed case number\n",
    "tickList = list(np.arange(0, df_confirmed['Mainland China'].max()+1000, 5000))\n",
    "\n",
    "# Create empty figure canvas\n",
    "fig_confirmed = go.Figure()\n",
    "# Add trace to the figure\n",
    "fig_confirmed.add_trace(go.Scatter(x=df_confirmed['Date'], y=df_confirmed['Mainland China'],\n",
    "                                   mode='lines+markers',\n",
    "                                   line_shape='spline',\n",
    "                                   name='Mainland China',\n",
    "                                   line=dict(color='#921113', width=3),\n",
    "                                   marker=dict(size=8, color='#f4f4f2',\n",
    "                                               line=dict(width=1,color='#921113')),\n",
    "                                   text=[datetime.strftime(d, '%b %d %Y AEDT') for d in df_confirmed['Date']],\n",
    "                                   hovertext=['Mainland China confirmed<br>{:,d} cases<br>'.format(i) for i in df_confirmed['Mainland China']],\n",
    "                                   hovertemplate='<b>%{text}</b><br></br>'+\n",
    "                                                 '%{hovertext}'+\n",
    "                                                 '<extra></extra>'))\n",
    "fig_confirmed.add_trace(go.Scatter(x=df_confirmed['Date'], y=df_confirmed['Other locations'],\n",
    "                                   mode='lines+markers',\n",
    "                                   line_shape='spline',\n",
    "                                   name='Other Region',\n",
    "                                   line=dict(color='#eb5254', width=3),\n",
    "                                   marker=dict(size=8, color='#f4f4f2',\n",
    "                                               line=dict(width=1,color='#eb5254')),\n",
    "                                   text=[datetime.strftime(d, '%b %d %Y AEDT') for d in df_confirmed['Date']],\n",
    "                                   hovertext=['Other locations confirmed<br>{:,d} cases<br>'.format(i) for i in df_confirmed['Other locations']],\n",
    "                                   hovertemplate='<b>%{text}</b><br></br>'+\n",
    "                                                 '%{hovertext}'+\n",
    "                                                 '<extra></extra>'))\n",
    "# Customise layout\n",
    "fig_confirmed.update_layout(\n",
    "    #title=dict(\n",
    "    #    text=\"<b>Confirmed Cases Timeline<b>\",\n",
    "    #    y=0.96, x=0.5, xanchor='center', yanchor='top',\n",
    "    #    font=dict(size=20, color=\"#292929\", family=\"Playfair Display\")\n",
    "    #),\n",
    "    margin=go.layout.Margin(\n",
    "        l=10,\n",
    "        r=10,\n",
    "        b=10,\n",
    "        t=5,\n",
    "        pad=0\n",
    "    ),\n",
    "    yaxis=dict(\n",
    "        showline=True, linecolor='#272e3e',\n",
    "        zeroline=False,\n",
    "        gridcolor='rgba(203, 210, 211,.3)',\n",
    "        gridwidth = .1,\n",
    "        tickmode='array',\n",
    "        # Set tick range based on the maximum number\n",
    "        tickvals=tickList,\n",
    "        # Set tick label accordingly\n",
    "        ticktext=[\"{:.0f}k\".format(i/1000) for i in tickList]\n",
    "    ),\n",
    "#    yaxis_title=\"Total Confirmed Case Number\",\n",
    "    xaxis=dict(\n",
    "        showline=True, linecolor='#272e3e',\n",
    "        gridcolor='rgba(203, 210, 211,.3)',\n",
    "        gridwidth = .1,\n",
    "        zeroline=False\n",
    "    ),\n",
    "    xaxis_tickformat='%b %d',\n",
    "    hovermode = 'x',\n",
    "    legend_orientation=\"h\",\n",
    "#    legend=dict(x=.35, y=-.05),\n",
    "    plot_bgcolor='#f4f4f2',\n",
    "    paper_bgcolor='#cbd2d3',\n",
    "    font=dict(color='#292929')\n",
    ")\n",
    "\n",
    "fig_confirmed.show()"
   ]
  },
  {
   "cell_type": "code",
   "execution_count": 29,
   "metadata": {},
   "outputs": [
    {
     "data": {
      "application/vnd.plotly.v1+json": {
       "config": {
        "plotlyServerURL": "https://plot.ly"
       },
       "data": [
        {
         "hovertemplate": "<b>%{text}</b><br></br>%{hovertext}<extra></extra>",
         "hovertext": [
          "Total recovered<br>4,068 cases<br>",
          "Total recovered<br>3,513 cases<br>",
          "Total recovered<br>2,861 cases<br>",
          "Total recovered<br>2,356 cases<br>",
          "Total recovered<br>1,687 cases<br>",
          "Total recovered<br>1,319 cases<br>",
          "Total recovered<br>980 cases<br>",
          "Total recovered<br>701 cases<br>",
          "Total recovered<br>499 cases<br>",
          "Total recovered<br>349 cases<br>",
          "Total recovered<br>252 cases<br>",
          "Total recovered<br>187 cases<br>",
          "Total recovered<br>133 cases<br>",
          "Total recovered<br>110 cases<br>",
          "Total recovered<br>63 cases<br>",
          "Total recovered<br>54 cases<br>",
          "Total recovered<br>49 cases<br>",
          "Total recovered<br>38 cases<br>",
          "Total recovered<br>34 cases<br>",
          "Total recovered<br>30 cases<br>",
          "Total recovered<br>0 cases<br>",
          "Total recovered<br>0 cases<br>"
         ],
         "line": {
          "color": "#168038",
          "shape": "spline",
          "width": 3
         },
         "marker": {
          "color": "#f4f4f2",
          "line": {
           "color": "#168038",
           "width": 1
          },
          "size": 8
         },
         "mode": "lines+markers",
         "name": "Total Recovered Cases",
         "text": [
          "Feb 11 2020 AEDT",
          "Feb 10 2020 AEDT",
          "Feb 09 2020 AEDT",
          "Feb 08 2020 AEDT",
          "Feb 07 2020 AEDT",
          "Feb 06 2020 AEDT",
          "Feb 05 2020 AEDT",
          "Feb 04 2020 AEDT",
          "Feb 03 2020 AEDT",
          "Feb 02 2020 AEDT",
          "Feb 01 2020 AEDT",
          "Jan 31 2020 AEDT",
          "Jan 30 2020 AEDT",
          "Jan 29 2020 AEDT",
          "Jan 28 2020 AEDT",
          "Jan 27 2020 AEDT",
          "Jan 26 2020 AEDT",
          "Jan 25 2020 AEDT",
          "Jan 24 2020 AEDT",
          "Jan 23 2020 AEDT",
          "Jan 22 2020 AEDT",
          "Jan 21 2020 AEDT"
         ],
         "type": "scatter",
         "x": [
          "2020-02-11T16:00:00",
          "2020-02-10T22:00:00",
          "2020-02-09T22:00:00",
          "2020-02-08T22:00:00",
          "2020-02-07T22:00:00",
          "2020-02-06T22:00:00",
          "2020-02-05T22:00:00",
          "2020-02-04T21:00:00",
          "2020-02-03T21:00:00",
          "2020-02-02T21:00:00",
          "2020-02-01T11:00:00",
          "2020-01-31T13:30:00",
          "2020-01-30T13:00:00",
          "2020-01-29T15:00:00",
          "2020-01-28T12:30:00",
          "2020-01-27T15:00:00",
          "2020-01-26T14:00:00",
          "2020-01-25T16:00:00",
          "2020-01-24T16:00:00",
          "2020-01-23T16:00:00",
          "2020-01-22T16:00:00",
          "2020-01-21T16:00:00"
         ],
         "y": [
          4068,
          3513,
          2861,
          2356,
          1687,
          1319,
          980,
          701,
          499,
          349,
          252,
          187,
          133,
          110,
          63,
          54,
          49,
          38,
          34,
          30,
          0,
          0
         ]
        },
        {
         "hovertemplate": "<b>%{text}</b><br></br>%{hovertext}<extra></extra>",
         "hovertext": [
          "Total death<br>1,018 cases<br>",
          "Total death<br>910 cases<br>",
          "Total death<br>814 cases<br>",
          "Total death<br>725 cases<br>",
          "Total death<br>638 cases<br>",
          "Total death<br>565 cases<br>",
          "Total death<br>494 cases<br>",
          "Total death<br>427 cases<br>",
          "Total death<br>362 cases<br>",
          "Total death<br>305 cases<br>",
          "Total death<br>259 cases<br>",
          "Total death<br>213 cases<br>",
          "Total death<br>170 cases<br>",
          "Total death<br>132 cases<br>",
          "Total death<br>107 cases<br>",
          "Total death<br>80 cases<br>",
          "Total death<br>56 cases<br>",
          "Total death<br>41 cases<br>",
          "Total death<br>26 cases<br>",
          "Total death<br>18 cases<br>",
          "Total death<br>17 cases<br>",
          "Total death<br>6 cases<br>"
         ],
         "line": {
          "color": "#626262",
          "shape": "spline",
          "width": 3
         },
         "marker": {
          "color": "#f4f4f2",
          "line": {
           "color": "#626262",
           "width": 1
          },
          "size": 8
         },
         "mode": "lines+markers",
         "name": "Total Death Cases",
         "text": [
          "Feb 11 2020 AEDT",
          "Feb 10 2020 AEDT",
          "Feb 09 2020 AEDT",
          "Feb 08 2020 AEDT",
          "Feb 07 2020 AEDT",
          "Feb 06 2020 AEDT",
          "Feb 05 2020 AEDT",
          "Feb 04 2020 AEDT",
          "Feb 03 2020 AEDT",
          "Feb 02 2020 AEDT",
          "Feb 01 2020 AEDT",
          "Jan 31 2020 AEDT",
          "Jan 30 2020 AEDT",
          "Jan 29 2020 AEDT",
          "Jan 28 2020 AEDT",
          "Jan 27 2020 AEDT",
          "Jan 26 2020 AEDT",
          "Jan 25 2020 AEDT",
          "Jan 24 2020 AEDT",
          "Jan 23 2020 AEDT",
          "Jan 22 2020 AEDT",
          "Jan 21 2020 AEDT"
         ],
         "type": "scatter",
         "x": [
          "2020-02-11T16:00:00",
          "2020-02-10T22:00:00",
          "2020-02-09T22:00:00",
          "2020-02-08T22:00:00",
          "2020-02-07T22:00:00",
          "2020-02-06T22:00:00",
          "2020-02-05T22:00:00",
          "2020-02-04T21:00:00",
          "2020-02-03T21:00:00",
          "2020-02-02T21:00:00",
          "2020-02-01T11:00:00",
          "2020-01-31T13:30:00",
          "2020-01-30T13:00:00",
          "2020-01-29T15:00:00",
          "2020-01-28T12:30:00",
          "2020-01-27T15:00:00",
          "2020-01-26T14:00:00",
          "2020-01-25T16:00:00",
          "2020-01-24T16:00:00",
          "2020-01-23T16:00:00",
          "2020-01-22T16:00:00",
          "2020-01-21T16:00:00"
         ],
         "y": [
          1018,
          910,
          814,
          725,
          638,
          565,
          494,
          427,
          362,
          305,
          259,
          213,
          170,
          132,
          107,
          80,
          56,
          41,
          26,
          18,
          17,
          6
         ]
        }
       ],
       "layout": {
        "font": {
         "color": "#292929"
        },
        "hovermode": "x",
        "legend": {
         "orientation": "h"
        },
        "margin": {
         "b": 10,
         "l": 10,
         "pad": 0,
         "r": 10,
         "t": 5
        },
        "paper_bgcolor": "#cbd2d3",
        "plot_bgcolor": "#f4f4f2",
        "template": {
         "data": {
          "bar": [
           {
            "error_x": {
             "color": "#2a3f5f"
            },
            "error_y": {
             "color": "#2a3f5f"
            },
            "marker": {
             "line": {
              "color": "#E5ECF6",
              "width": 0.5
             }
            },
            "type": "bar"
           }
          ],
          "barpolar": [
           {
            "marker": {
             "line": {
              "color": "#E5ECF6",
              "width": 0.5
             }
            },
            "type": "barpolar"
           }
          ],
          "carpet": [
           {
            "aaxis": {
             "endlinecolor": "#2a3f5f",
             "gridcolor": "white",
             "linecolor": "white",
             "minorgridcolor": "white",
             "startlinecolor": "#2a3f5f"
            },
            "baxis": {
             "endlinecolor": "#2a3f5f",
             "gridcolor": "white",
             "linecolor": "white",
             "minorgridcolor": "white",
             "startlinecolor": "#2a3f5f"
            },
            "type": "carpet"
           }
          ],
          "choropleth": [
           {
            "colorbar": {
             "outlinewidth": 0,
             "ticks": ""
            },
            "type": "choropleth"
           }
          ],
          "contour": [
           {
            "colorbar": {
             "outlinewidth": 0,
             "ticks": ""
            },
            "colorscale": [
             [
              0,
              "#0d0887"
             ],
             [
              0.1111111111111111,
              "#46039f"
             ],
             [
              0.2222222222222222,
              "#7201a8"
             ],
             [
              0.3333333333333333,
              "#9c179e"
             ],
             [
              0.4444444444444444,
              "#bd3786"
             ],
             [
              0.5555555555555556,
              "#d8576b"
             ],
             [
              0.6666666666666666,
              "#ed7953"
             ],
             [
              0.7777777777777778,
              "#fb9f3a"
             ],
             [
              0.8888888888888888,
              "#fdca26"
             ],
             [
              1,
              "#f0f921"
             ]
            ],
            "type": "contour"
           }
          ],
          "contourcarpet": [
           {
            "colorbar": {
             "outlinewidth": 0,
             "ticks": ""
            },
            "type": "contourcarpet"
           }
          ],
          "heatmap": [
           {
            "colorbar": {
             "outlinewidth": 0,
             "ticks": ""
            },
            "colorscale": [
             [
              0,
              "#0d0887"
             ],
             [
              0.1111111111111111,
              "#46039f"
             ],
             [
              0.2222222222222222,
              "#7201a8"
             ],
             [
              0.3333333333333333,
              "#9c179e"
             ],
             [
              0.4444444444444444,
              "#bd3786"
             ],
             [
              0.5555555555555556,
              "#d8576b"
             ],
             [
              0.6666666666666666,
              "#ed7953"
             ],
             [
              0.7777777777777778,
              "#fb9f3a"
             ],
             [
              0.8888888888888888,
              "#fdca26"
             ],
             [
              1,
              "#f0f921"
             ]
            ],
            "type": "heatmap"
           }
          ],
          "heatmapgl": [
           {
            "colorbar": {
             "outlinewidth": 0,
             "ticks": ""
            },
            "colorscale": [
             [
              0,
              "#0d0887"
             ],
             [
              0.1111111111111111,
              "#46039f"
             ],
             [
              0.2222222222222222,
              "#7201a8"
             ],
             [
              0.3333333333333333,
              "#9c179e"
             ],
             [
              0.4444444444444444,
              "#bd3786"
             ],
             [
              0.5555555555555556,
              "#d8576b"
             ],
             [
              0.6666666666666666,
              "#ed7953"
             ],
             [
              0.7777777777777778,
              "#fb9f3a"
             ],
             [
              0.8888888888888888,
              "#fdca26"
             ],
             [
              1,
              "#f0f921"
             ]
            ],
            "type": "heatmapgl"
           }
          ],
          "histogram": [
           {
            "marker": {
             "colorbar": {
              "outlinewidth": 0,
              "ticks": ""
             }
            },
            "type": "histogram"
           }
          ],
          "histogram2d": [
           {
            "colorbar": {
             "outlinewidth": 0,
             "ticks": ""
            },
            "colorscale": [
             [
              0,
              "#0d0887"
             ],
             [
              0.1111111111111111,
              "#46039f"
             ],
             [
              0.2222222222222222,
              "#7201a8"
             ],
             [
              0.3333333333333333,
              "#9c179e"
             ],
             [
              0.4444444444444444,
              "#bd3786"
             ],
             [
              0.5555555555555556,
              "#d8576b"
             ],
             [
              0.6666666666666666,
              "#ed7953"
             ],
             [
              0.7777777777777778,
              "#fb9f3a"
             ],
             [
              0.8888888888888888,
              "#fdca26"
             ],
             [
              1,
              "#f0f921"
             ]
            ],
            "type": "histogram2d"
           }
          ],
          "histogram2dcontour": [
           {
            "colorbar": {
             "outlinewidth": 0,
             "ticks": ""
            },
            "colorscale": [
             [
              0,
              "#0d0887"
             ],
             [
              0.1111111111111111,
              "#46039f"
             ],
             [
              0.2222222222222222,
              "#7201a8"
             ],
             [
              0.3333333333333333,
              "#9c179e"
             ],
             [
              0.4444444444444444,
              "#bd3786"
             ],
             [
              0.5555555555555556,
              "#d8576b"
             ],
             [
              0.6666666666666666,
              "#ed7953"
             ],
             [
              0.7777777777777778,
              "#fb9f3a"
             ],
             [
              0.8888888888888888,
              "#fdca26"
             ],
             [
              1,
              "#f0f921"
             ]
            ],
            "type": "histogram2dcontour"
           }
          ],
          "mesh3d": [
           {
            "colorbar": {
             "outlinewidth": 0,
             "ticks": ""
            },
            "type": "mesh3d"
           }
          ],
          "parcoords": [
           {
            "line": {
             "colorbar": {
              "outlinewidth": 0,
              "ticks": ""
             }
            },
            "type": "parcoords"
           }
          ],
          "pie": [
           {
            "automargin": true,
            "type": "pie"
           }
          ],
          "scatter": [
           {
            "marker": {
             "colorbar": {
              "outlinewidth": 0,
              "ticks": ""
             }
            },
            "type": "scatter"
           }
          ],
          "scatter3d": [
           {
            "line": {
             "colorbar": {
              "outlinewidth": 0,
              "ticks": ""
             }
            },
            "marker": {
             "colorbar": {
              "outlinewidth": 0,
              "ticks": ""
             }
            },
            "type": "scatter3d"
           }
          ],
          "scattercarpet": [
           {
            "marker": {
             "colorbar": {
              "outlinewidth": 0,
              "ticks": ""
             }
            },
            "type": "scattercarpet"
           }
          ],
          "scattergeo": [
           {
            "marker": {
             "colorbar": {
              "outlinewidth": 0,
              "ticks": ""
             }
            },
            "type": "scattergeo"
           }
          ],
          "scattergl": [
           {
            "marker": {
             "colorbar": {
              "outlinewidth": 0,
              "ticks": ""
             }
            },
            "type": "scattergl"
           }
          ],
          "scattermapbox": [
           {
            "marker": {
             "colorbar": {
              "outlinewidth": 0,
              "ticks": ""
             }
            },
            "type": "scattermapbox"
           }
          ],
          "scatterpolar": [
           {
            "marker": {
             "colorbar": {
              "outlinewidth": 0,
              "ticks": ""
             }
            },
            "type": "scatterpolar"
           }
          ],
          "scatterpolargl": [
           {
            "marker": {
             "colorbar": {
              "outlinewidth": 0,
              "ticks": ""
             }
            },
            "type": "scatterpolargl"
           }
          ],
          "scatterternary": [
           {
            "marker": {
             "colorbar": {
              "outlinewidth": 0,
              "ticks": ""
             }
            },
            "type": "scatterternary"
           }
          ],
          "surface": [
           {
            "colorbar": {
             "outlinewidth": 0,
             "ticks": ""
            },
            "colorscale": [
             [
              0,
              "#0d0887"
             ],
             [
              0.1111111111111111,
              "#46039f"
             ],
             [
              0.2222222222222222,
              "#7201a8"
             ],
             [
              0.3333333333333333,
              "#9c179e"
             ],
             [
              0.4444444444444444,
              "#bd3786"
             ],
             [
              0.5555555555555556,
              "#d8576b"
             ],
             [
              0.6666666666666666,
              "#ed7953"
             ],
             [
              0.7777777777777778,
              "#fb9f3a"
             ],
             [
              0.8888888888888888,
              "#fdca26"
             ],
             [
              1,
              "#f0f921"
             ]
            ],
            "type": "surface"
           }
          ],
          "table": [
           {
            "cells": {
             "fill": {
              "color": "#EBF0F8"
             },
             "line": {
              "color": "white"
             }
            },
            "header": {
             "fill": {
              "color": "#C8D4E3"
             },
             "line": {
              "color": "white"
             }
            },
            "type": "table"
           }
          ]
         },
         "layout": {
          "annotationdefaults": {
           "arrowcolor": "#2a3f5f",
           "arrowhead": 0,
           "arrowwidth": 1
          },
          "coloraxis": {
           "colorbar": {
            "outlinewidth": 0,
            "ticks": ""
           }
          },
          "colorscale": {
           "diverging": [
            [
             0,
             "#8e0152"
            ],
            [
             0.1,
             "#c51b7d"
            ],
            [
             0.2,
             "#de77ae"
            ],
            [
             0.3,
             "#f1b6da"
            ],
            [
             0.4,
             "#fde0ef"
            ],
            [
             0.5,
             "#f7f7f7"
            ],
            [
             0.6,
             "#e6f5d0"
            ],
            [
             0.7,
             "#b8e186"
            ],
            [
             0.8,
             "#7fbc41"
            ],
            [
             0.9,
             "#4d9221"
            ],
            [
             1,
             "#276419"
            ]
           ],
           "sequential": [
            [
             0,
             "#0d0887"
            ],
            [
             0.1111111111111111,
             "#46039f"
            ],
            [
             0.2222222222222222,
             "#7201a8"
            ],
            [
             0.3333333333333333,
             "#9c179e"
            ],
            [
             0.4444444444444444,
             "#bd3786"
            ],
            [
             0.5555555555555556,
             "#d8576b"
            ],
            [
             0.6666666666666666,
             "#ed7953"
            ],
            [
             0.7777777777777778,
             "#fb9f3a"
            ],
            [
             0.8888888888888888,
             "#fdca26"
            ],
            [
             1,
             "#f0f921"
            ]
           ],
           "sequentialminus": [
            [
             0,
             "#0d0887"
            ],
            [
             0.1111111111111111,
             "#46039f"
            ],
            [
             0.2222222222222222,
             "#7201a8"
            ],
            [
             0.3333333333333333,
             "#9c179e"
            ],
            [
             0.4444444444444444,
             "#bd3786"
            ],
            [
             0.5555555555555556,
             "#d8576b"
            ],
            [
             0.6666666666666666,
             "#ed7953"
            ],
            [
             0.7777777777777778,
             "#fb9f3a"
            ],
            [
             0.8888888888888888,
             "#fdca26"
            ],
            [
             1,
             "#f0f921"
            ]
           ]
          },
          "colorway": [
           "#636efa",
           "#EF553B",
           "#00cc96",
           "#ab63fa",
           "#FFA15A",
           "#19d3f3",
           "#FF6692",
           "#B6E880",
           "#FF97FF",
           "#FECB52"
          ],
          "font": {
           "color": "#2a3f5f"
          },
          "geo": {
           "bgcolor": "white",
           "lakecolor": "white",
           "landcolor": "#E5ECF6",
           "showlakes": true,
           "showland": true,
           "subunitcolor": "white"
          },
          "hoverlabel": {
           "align": "left"
          },
          "hovermode": "closest",
          "mapbox": {
           "style": "light"
          },
          "paper_bgcolor": "white",
          "plot_bgcolor": "#E5ECF6",
          "polar": {
           "angularaxis": {
            "gridcolor": "white",
            "linecolor": "white",
            "ticks": ""
           },
           "bgcolor": "#E5ECF6",
           "radialaxis": {
            "gridcolor": "white",
            "linecolor": "white",
            "ticks": ""
           }
          },
          "scene": {
           "xaxis": {
            "backgroundcolor": "#E5ECF6",
            "gridcolor": "white",
            "gridwidth": 2,
            "linecolor": "white",
            "showbackground": true,
            "ticks": "",
            "zerolinecolor": "white"
           },
           "yaxis": {
            "backgroundcolor": "#E5ECF6",
            "gridcolor": "white",
            "gridwidth": 2,
            "linecolor": "white",
            "showbackground": true,
            "ticks": "",
            "zerolinecolor": "white"
           },
           "zaxis": {
            "backgroundcolor": "#E5ECF6",
            "gridcolor": "white",
            "gridwidth": 2,
            "linecolor": "white",
            "showbackground": true,
            "ticks": "",
            "zerolinecolor": "white"
           }
          },
          "shapedefaults": {
           "line": {
            "color": "#2a3f5f"
           }
          },
          "ternary": {
           "aaxis": {
            "gridcolor": "white",
            "linecolor": "white",
            "ticks": ""
           },
           "baxis": {
            "gridcolor": "white",
            "linecolor": "white",
            "ticks": ""
           },
           "bgcolor": "#E5ECF6",
           "caxis": {
            "gridcolor": "white",
            "linecolor": "white",
            "ticks": ""
           }
          },
          "title": {
           "x": 0.05
          },
          "xaxis": {
           "automargin": true,
           "gridcolor": "white",
           "linecolor": "white",
           "ticks": "",
           "title": {
            "standoff": 15
           },
           "zerolinecolor": "white",
           "zerolinewidth": 2
          },
          "yaxis": {
           "automargin": true,
           "gridcolor": "white",
           "linecolor": "white",
           "ticks": "",
           "title": {
            "standoff": 15
           },
           "zerolinecolor": "white",
           "zerolinewidth": 2
          }
         }
        },
        "xaxis": {
         "gridcolor": "rgba(203, 210, 211,.3)",
         "gridwidth": 0.1,
         "linecolor": "#272e3e",
         "showline": true,
         "tickformat": "%b %d",
         "zeroline": false
        },
        "yaxis": {
         "gridcolor": "rgba(203, 210, 211,.3)",
         "gridwidth": 0.1,
         "linecolor": "#272e3e",
         "showline": true,
         "tickmode": "array",
         "ticktext": [
          "0",
          "500",
          "1000",
          "1500",
          "2000",
          "2500",
          "3000",
          "3500",
          "4000"
         ],
         "tickvals": [
          0,
          500,
          1000,
          1500,
          2000,
          2500,
          3000,
          3500,
          4000
         ],
         "zeroline": false
        }
       }
      },
      "text/html": [
       "<div>\n",
       "        \n",
       "        \n",
       "            <div id=\"78c22989-0409-48d5-b08a-7004c52626f1\" class=\"plotly-graph-div\" style=\"height:525px; width:100%;\"></div>\n",
       "            <script type=\"text/javascript\">\n",
       "                require([\"plotly\"], function(Plotly) {\n",
       "                    window.PLOTLYENV=window.PLOTLYENV || {};\n",
       "                    \n",
       "                if (document.getElementById(\"78c22989-0409-48d5-b08a-7004c52626f1\")) {\n",
       "                    Plotly.newPlot(\n",
       "                        '78c22989-0409-48d5-b08a-7004c52626f1',\n",
       "                        [{\"hovertemplate\": \"<b>%{text}</b><br></br>%{hovertext}<extra></extra>\", \"hovertext\": [\"Total recovered<br>4,068 cases<br>\", \"Total recovered<br>3,513 cases<br>\", \"Total recovered<br>2,861 cases<br>\", \"Total recovered<br>2,356 cases<br>\", \"Total recovered<br>1,687 cases<br>\", \"Total recovered<br>1,319 cases<br>\", \"Total recovered<br>980 cases<br>\", \"Total recovered<br>701 cases<br>\", \"Total recovered<br>499 cases<br>\", \"Total recovered<br>349 cases<br>\", \"Total recovered<br>252 cases<br>\", \"Total recovered<br>187 cases<br>\", \"Total recovered<br>133 cases<br>\", \"Total recovered<br>110 cases<br>\", \"Total recovered<br>63 cases<br>\", \"Total recovered<br>54 cases<br>\", \"Total recovered<br>49 cases<br>\", \"Total recovered<br>38 cases<br>\", \"Total recovered<br>34 cases<br>\", \"Total recovered<br>30 cases<br>\", \"Total recovered<br>0 cases<br>\", \"Total recovered<br>0 cases<br>\"], \"line\": {\"color\": \"#168038\", \"shape\": \"spline\", \"width\": 3}, \"marker\": {\"color\": \"#f4f4f2\", \"line\": {\"color\": \"#168038\", \"width\": 1}, \"size\": 8}, \"mode\": \"lines+markers\", \"name\": \"Total Recovered Cases\", \"text\": [\"Feb 11 2020 AEDT\", \"Feb 10 2020 AEDT\", \"Feb 09 2020 AEDT\", \"Feb 08 2020 AEDT\", \"Feb 07 2020 AEDT\", \"Feb 06 2020 AEDT\", \"Feb 05 2020 AEDT\", \"Feb 04 2020 AEDT\", \"Feb 03 2020 AEDT\", \"Feb 02 2020 AEDT\", \"Feb 01 2020 AEDT\", \"Jan 31 2020 AEDT\", \"Jan 30 2020 AEDT\", \"Jan 29 2020 AEDT\", \"Jan 28 2020 AEDT\", \"Jan 27 2020 AEDT\", \"Jan 26 2020 AEDT\", \"Jan 25 2020 AEDT\", \"Jan 24 2020 AEDT\", \"Jan 23 2020 AEDT\", \"Jan 22 2020 AEDT\", \"Jan 21 2020 AEDT\"], \"type\": \"scatter\", \"x\": [\"2020-02-11T16:00:00\", \"2020-02-10T22:00:00\", \"2020-02-09T22:00:00\", \"2020-02-08T22:00:00\", \"2020-02-07T22:00:00\", \"2020-02-06T22:00:00\", \"2020-02-05T22:00:00\", \"2020-02-04T21:00:00\", \"2020-02-03T21:00:00\", \"2020-02-02T21:00:00\", \"2020-02-01T11:00:00\", \"2020-01-31T13:30:00\", \"2020-01-30T13:00:00\", \"2020-01-29T15:00:00\", \"2020-01-28T12:30:00\", \"2020-01-27T15:00:00\", \"2020-01-26T14:00:00\", \"2020-01-25T16:00:00\", \"2020-01-24T16:00:00\", \"2020-01-23T16:00:00\", \"2020-01-22T16:00:00\", \"2020-01-21T16:00:00\"], \"y\": [4068, 3513, 2861, 2356, 1687, 1319, 980, 701, 499, 349, 252, 187, 133, 110, 63, 54, 49, 38, 34, 30, 0, 0]}, {\"hovertemplate\": \"<b>%{text}</b><br></br>%{hovertext}<extra></extra>\", \"hovertext\": [\"Total death<br>1,018 cases<br>\", \"Total death<br>910 cases<br>\", \"Total death<br>814 cases<br>\", \"Total death<br>725 cases<br>\", \"Total death<br>638 cases<br>\", \"Total death<br>565 cases<br>\", \"Total death<br>494 cases<br>\", \"Total death<br>427 cases<br>\", \"Total death<br>362 cases<br>\", \"Total death<br>305 cases<br>\", \"Total death<br>259 cases<br>\", \"Total death<br>213 cases<br>\", \"Total death<br>170 cases<br>\", \"Total death<br>132 cases<br>\", \"Total death<br>107 cases<br>\", \"Total death<br>80 cases<br>\", \"Total death<br>56 cases<br>\", \"Total death<br>41 cases<br>\", \"Total death<br>26 cases<br>\", \"Total death<br>18 cases<br>\", \"Total death<br>17 cases<br>\", \"Total death<br>6 cases<br>\"], \"line\": {\"color\": \"#626262\", \"shape\": \"spline\", \"width\": 3}, \"marker\": {\"color\": \"#f4f4f2\", \"line\": {\"color\": \"#626262\", \"width\": 1}, \"size\": 8}, \"mode\": \"lines+markers\", \"name\": \"Total Death Cases\", \"text\": [\"Feb 11 2020 AEDT\", \"Feb 10 2020 AEDT\", \"Feb 09 2020 AEDT\", \"Feb 08 2020 AEDT\", \"Feb 07 2020 AEDT\", \"Feb 06 2020 AEDT\", \"Feb 05 2020 AEDT\", \"Feb 04 2020 AEDT\", \"Feb 03 2020 AEDT\", \"Feb 02 2020 AEDT\", \"Feb 01 2020 AEDT\", \"Jan 31 2020 AEDT\", \"Jan 30 2020 AEDT\", \"Jan 29 2020 AEDT\", \"Jan 28 2020 AEDT\", \"Jan 27 2020 AEDT\", \"Jan 26 2020 AEDT\", \"Jan 25 2020 AEDT\", \"Jan 24 2020 AEDT\", \"Jan 23 2020 AEDT\", \"Jan 22 2020 AEDT\", \"Jan 21 2020 AEDT\"], \"type\": \"scatter\", \"x\": [\"2020-02-11T16:00:00\", \"2020-02-10T22:00:00\", \"2020-02-09T22:00:00\", \"2020-02-08T22:00:00\", \"2020-02-07T22:00:00\", \"2020-02-06T22:00:00\", \"2020-02-05T22:00:00\", \"2020-02-04T21:00:00\", \"2020-02-03T21:00:00\", \"2020-02-02T21:00:00\", \"2020-02-01T11:00:00\", \"2020-01-31T13:30:00\", \"2020-01-30T13:00:00\", \"2020-01-29T15:00:00\", \"2020-01-28T12:30:00\", \"2020-01-27T15:00:00\", \"2020-01-26T14:00:00\", \"2020-01-25T16:00:00\", \"2020-01-24T16:00:00\", \"2020-01-23T16:00:00\", \"2020-01-22T16:00:00\", \"2020-01-21T16:00:00\"], \"y\": [1018, 910, 814, 725, 638, 565, 494, 427, 362, 305, 259, 213, 170, 132, 107, 80, 56, 41, 26, 18, 17, 6]}],\n",
       "                        {\"font\": {\"color\": \"#292929\"}, \"hovermode\": \"x\", \"legend\": {\"orientation\": \"h\"}, \"margin\": {\"b\": 10, \"l\": 10, \"pad\": 0, \"r\": 10, \"t\": 5}, \"paper_bgcolor\": \"#cbd2d3\", \"plot_bgcolor\": \"#f4f4f2\", \"template\": {\"data\": {\"bar\": [{\"error_x\": {\"color\": \"#2a3f5f\"}, \"error_y\": {\"color\": \"#2a3f5f\"}, \"marker\": {\"line\": {\"color\": \"#E5ECF6\", \"width\": 0.5}}, \"type\": \"bar\"}], \"barpolar\": [{\"marker\": {\"line\": {\"color\": \"#E5ECF6\", \"width\": 0.5}}, \"type\": \"barpolar\"}], \"carpet\": [{\"aaxis\": {\"endlinecolor\": \"#2a3f5f\", \"gridcolor\": \"white\", \"linecolor\": \"white\", \"minorgridcolor\": \"white\", \"startlinecolor\": \"#2a3f5f\"}, \"baxis\": {\"endlinecolor\": \"#2a3f5f\", \"gridcolor\": \"white\", \"linecolor\": \"white\", \"minorgridcolor\": \"white\", \"startlinecolor\": \"#2a3f5f\"}, \"type\": \"carpet\"}], \"choropleth\": [{\"colorbar\": {\"outlinewidth\": 0, \"ticks\": \"\"}, \"type\": \"choropleth\"}], \"contour\": [{\"colorbar\": {\"outlinewidth\": 0, \"ticks\": \"\"}, \"colorscale\": [[0.0, \"#0d0887\"], [0.1111111111111111, \"#46039f\"], [0.2222222222222222, \"#7201a8\"], [0.3333333333333333, \"#9c179e\"], [0.4444444444444444, \"#bd3786\"], [0.5555555555555556, \"#d8576b\"], [0.6666666666666666, \"#ed7953\"], [0.7777777777777778, \"#fb9f3a\"], [0.8888888888888888, \"#fdca26\"], [1.0, \"#f0f921\"]], \"type\": \"contour\"}], \"contourcarpet\": [{\"colorbar\": {\"outlinewidth\": 0, \"ticks\": \"\"}, \"type\": \"contourcarpet\"}], \"heatmap\": [{\"colorbar\": {\"outlinewidth\": 0, \"ticks\": \"\"}, \"colorscale\": [[0.0, \"#0d0887\"], [0.1111111111111111, \"#46039f\"], [0.2222222222222222, \"#7201a8\"], [0.3333333333333333, \"#9c179e\"], [0.4444444444444444, \"#bd3786\"], [0.5555555555555556, \"#d8576b\"], [0.6666666666666666, \"#ed7953\"], [0.7777777777777778, \"#fb9f3a\"], [0.8888888888888888, \"#fdca26\"], [1.0, \"#f0f921\"]], \"type\": \"heatmap\"}], \"heatmapgl\": [{\"colorbar\": {\"outlinewidth\": 0, \"ticks\": \"\"}, \"colorscale\": [[0.0, \"#0d0887\"], [0.1111111111111111, \"#46039f\"], [0.2222222222222222, \"#7201a8\"], [0.3333333333333333, \"#9c179e\"], [0.4444444444444444, \"#bd3786\"], [0.5555555555555556, \"#d8576b\"], [0.6666666666666666, \"#ed7953\"], [0.7777777777777778, \"#fb9f3a\"], [0.8888888888888888, \"#fdca26\"], [1.0, \"#f0f921\"]], \"type\": \"heatmapgl\"}], \"histogram\": [{\"marker\": {\"colorbar\": {\"outlinewidth\": 0, \"ticks\": \"\"}}, \"type\": \"histogram\"}], \"histogram2d\": [{\"colorbar\": {\"outlinewidth\": 0, \"ticks\": \"\"}, \"colorscale\": [[0.0, \"#0d0887\"], [0.1111111111111111, \"#46039f\"], [0.2222222222222222, \"#7201a8\"], [0.3333333333333333, \"#9c179e\"], [0.4444444444444444, \"#bd3786\"], [0.5555555555555556, \"#d8576b\"], [0.6666666666666666, \"#ed7953\"], [0.7777777777777778, \"#fb9f3a\"], [0.8888888888888888, \"#fdca26\"], [1.0, \"#f0f921\"]], \"type\": \"histogram2d\"}], \"histogram2dcontour\": [{\"colorbar\": {\"outlinewidth\": 0, \"ticks\": \"\"}, \"colorscale\": [[0.0, \"#0d0887\"], [0.1111111111111111, \"#46039f\"], [0.2222222222222222, \"#7201a8\"], [0.3333333333333333, \"#9c179e\"], [0.4444444444444444, \"#bd3786\"], [0.5555555555555556, \"#d8576b\"], [0.6666666666666666, \"#ed7953\"], [0.7777777777777778, \"#fb9f3a\"], [0.8888888888888888, \"#fdca26\"], [1.0, \"#f0f921\"]], \"type\": \"histogram2dcontour\"}], \"mesh3d\": [{\"colorbar\": {\"outlinewidth\": 0, \"ticks\": \"\"}, \"type\": \"mesh3d\"}], \"parcoords\": [{\"line\": {\"colorbar\": {\"outlinewidth\": 0, \"ticks\": \"\"}}, \"type\": \"parcoords\"}], \"pie\": [{\"automargin\": true, \"type\": \"pie\"}], \"scatter\": [{\"marker\": {\"colorbar\": {\"outlinewidth\": 0, \"ticks\": \"\"}}, \"type\": \"scatter\"}], \"scatter3d\": [{\"line\": {\"colorbar\": {\"outlinewidth\": 0, \"ticks\": \"\"}}, \"marker\": {\"colorbar\": {\"outlinewidth\": 0, \"ticks\": \"\"}}, \"type\": \"scatter3d\"}], \"scattercarpet\": [{\"marker\": {\"colorbar\": {\"outlinewidth\": 0, \"ticks\": \"\"}}, \"type\": \"scattercarpet\"}], \"scattergeo\": [{\"marker\": {\"colorbar\": {\"outlinewidth\": 0, \"ticks\": \"\"}}, \"type\": \"scattergeo\"}], \"scattergl\": [{\"marker\": {\"colorbar\": {\"outlinewidth\": 0, \"ticks\": \"\"}}, \"type\": \"scattergl\"}], \"scattermapbox\": [{\"marker\": {\"colorbar\": {\"outlinewidth\": 0, \"ticks\": \"\"}}, \"type\": \"scattermapbox\"}], \"scatterpolar\": [{\"marker\": {\"colorbar\": {\"outlinewidth\": 0, \"ticks\": \"\"}}, \"type\": \"scatterpolar\"}], \"scatterpolargl\": [{\"marker\": {\"colorbar\": {\"outlinewidth\": 0, \"ticks\": \"\"}}, \"type\": \"scatterpolargl\"}], \"scatterternary\": [{\"marker\": {\"colorbar\": {\"outlinewidth\": 0, \"ticks\": \"\"}}, \"type\": \"scatterternary\"}], \"surface\": [{\"colorbar\": {\"outlinewidth\": 0, \"ticks\": \"\"}, \"colorscale\": [[0.0, \"#0d0887\"], [0.1111111111111111, \"#46039f\"], [0.2222222222222222, \"#7201a8\"], [0.3333333333333333, \"#9c179e\"], [0.4444444444444444, \"#bd3786\"], [0.5555555555555556, \"#d8576b\"], [0.6666666666666666, \"#ed7953\"], [0.7777777777777778, \"#fb9f3a\"], [0.8888888888888888, \"#fdca26\"], [1.0, \"#f0f921\"]], \"type\": \"surface\"}], \"table\": [{\"cells\": {\"fill\": {\"color\": \"#EBF0F8\"}, \"line\": {\"color\": \"white\"}}, \"header\": {\"fill\": {\"color\": \"#C8D4E3\"}, \"line\": {\"color\": \"white\"}}, \"type\": \"table\"}]}, \"layout\": {\"annotationdefaults\": {\"arrowcolor\": \"#2a3f5f\", \"arrowhead\": 0, \"arrowwidth\": 1}, \"coloraxis\": {\"colorbar\": {\"outlinewidth\": 0, \"ticks\": \"\"}}, \"colorscale\": {\"diverging\": [[0, \"#8e0152\"], [0.1, \"#c51b7d\"], [0.2, \"#de77ae\"], [0.3, \"#f1b6da\"], [0.4, \"#fde0ef\"], [0.5, \"#f7f7f7\"], [0.6, \"#e6f5d0\"], [0.7, \"#b8e186\"], [0.8, \"#7fbc41\"], [0.9, \"#4d9221\"], [1, \"#276419\"]], \"sequential\": [[0.0, \"#0d0887\"], [0.1111111111111111, \"#46039f\"], [0.2222222222222222, \"#7201a8\"], [0.3333333333333333, \"#9c179e\"], [0.4444444444444444, \"#bd3786\"], [0.5555555555555556, \"#d8576b\"], [0.6666666666666666, \"#ed7953\"], [0.7777777777777778, \"#fb9f3a\"], [0.8888888888888888, \"#fdca26\"], [1.0, \"#f0f921\"]], \"sequentialminus\": [[0.0, \"#0d0887\"], [0.1111111111111111, \"#46039f\"], [0.2222222222222222, \"#7201a8\"], [0.3333333333333333, \"#9c179e\"], [0.4444444444444444, \"#bd3786\"], [0.5555555555555556, \"#d8576b\"], [0.6666666666666666, \"#ed7953\"], [0.7777777777777778, \"#fb9f3a\"], [0.8888888888888888, \"#fdca26\"], [1.0, \"#f0f921\"]]}, \"colorway\": [\"#636efa\", \"#EF553B\", \"#00cc96\", \"#ab63fa\", \"#FFA15A\", \"#19d3f3\", \"#FF6692\", \"#B6E880\", \"#FF97FF\", \"#FECB52\"], \"font\": {\"color\": \"#2a3f5f\"}, \"geo\": {\"bgcolor\": \"white\", \"lakecolor\": \"white\", \"landcolor\": \"#E5ECF6\", \"showlakes\": true, \"showland\": true, \"subunitcolor\": \"white\"}, \"hoverlabel\": {\"align\": \"left\"}, \"hovermode\": \"closest\", \"mapbox\": {\"style\": \"light\"}, \"paper_bgcolor\": \"white\", \"plot_bgcolor\": \"#E5ECF6\", \"polar\": {\"angularaxis\": {\"gridcolor\": \"white\", \"linecolor\": \"white\", \"ticks\": \"\"}, \"bgcolor\": \"#E5ECF6\", \"radialaxis\": {\"gridcolor\": \"white\", \"linecolor\": \"white\", \"ticks\": \"\"}}, \"scene\": {\"xaxis\": {\"backgroundcolor\": \"#E5ECF6\", \"gridcolor\": \"white\", \"gridwidth\": 2, \"linecolor\": \"white\", \"showbackground\": true, \"ticks\": \"\", \"zerolinecolor\": \"white\"}, \"yaxis\": {\"backgroundcolor\": \"#E5ECF6\", \"gridcolor\": \"white\", \"gridwidth\": 2, \"linecolor\": \"white\", \"showbackground\": true, \"ticks\": \"\", \"zerolinecolor\": \"white\"}, \"zaxis\": {\"backgroundcolor\": \"#E5ECF6\", \"gridcolor\": \"white\", \"gridwidth\": 2, \"linecolor\": \"white\", \"showbackground\": true, \"ticks\": \"\", \"zerolinecolor\": \"white\"}}, \"shapedefaults\": {\"line\": {\"color\": \"#2a3f5f\"}}, \"ternary\": {\"aaxis\": {\"gridcolor\": \"white\", \"linecolor\": \"white\", \"ticks\": \"\"}, \"baxis\": {\"gridcolor\": \"white\", \"linecolor\": \"white\", \"ticks\": \"\"}, \"bgcolor\": \"#E5ECF6\", \"caxis\": {\"gridcolor\": \"white\", \"linecolor\": \"white\", \"ticks\": \"\"}}, \"title\": {\"x\": 0.05}, \"xaxis\": {\"automargin\": true, \"gridcolor\": \"white\", \"linecolor\": \"white\", \"ticks\": \"\", \"title\": {\"standoff\": 15}, \"zerolinecolor\": \"white\", \"zerolinewidth\": 2}, \"yaxis\": {\"automargin\": true, \"gridcolor\": \"white\", \"linecolor\": \"white\", \"ticks\": \"\", \"title\": {\"standoff\": 15}, \"zerolinecolor\": \"white\", \"zerolinewidth\": 2}}}, \"xaxis\": {\"gridcolor\": \"rgba(203, 210, 211,.3)\", \"gridwidth\": 0.1, \"linecolor\": \"#272e3e\", \"showline\": true, \"tickformat\": \"%b %d\", \"zeroline\": false}, \"yaxis\": {\"gridcolor\": \"rgba(203, 210, 211,.3)\", \"gridwidth\": 0.1, \"linecolor\": \"#272e3e\", \"showline\": true, \"tickmode\": \"array\", \"ticktext\": [\"0\", \"500\", \"1000\", \"1500\", \"2000\", \"2500\", \"3000\", \"3500\", \"4000\"], \"tickvals\": [0, 500, 1000, 1500, 2000, 2500, 3000, 3500, 4000], \"zeroline\": false}},\n",
       "                        {\"responsive\": true}\n",
       "                    ).then(function(){\n",
       "                            \n",
       "var gd = document.getElementById('78c22989-0409-48d5-b08a-7004c52626f1');\n",
       "var x = new MutationObserver(function (mutations, observer) {{\n",
       "        var display = window.getComputedStyle(gd).display;\n",
       "        if (!display || display === 'none') {{\n",
       "            console.log([gd, 'removed!']);\n",
       "            Plotly.purge(gd);\n",
       "            observer.disconnect();\n",
       "        }}\n",
       "}});\n",
       "\n",
       "// Listen for the removal of the full notebook cells\n",
       "var notebookContainer = gd.closest('#notebook-container');\n",
       "if (notebookContainer) {{\n",
       "    x.observe(notebookContainer, {childList: true});\n",
       "}}\n",
       "\n",
       "// Listen for the clearing of the current output cell\n",
       "var outputEl = gd.closest('.output');\n",
       "if (outputEl) {{\n",
       "    x.observe(outputEl, {childList: true});\n",
       "}}\n",
       "\n",
       "                        })\n",
       "                };\n",
       "                });\n",
       "            </script>\n",
       "        </div>"
      ]
     },
     "metadata": {},
     "output_type": "display_data"
    }
   ],
   "source": [
    "# Line plot for both recovered and death cases\n",
    "# Set up tick scale based on confirmed case number\n",
    "tickList = list(np.arange(0, df_recovered['Mainland China'].max()+200, 500))\n",
    "\n",
    "# Create empty figure canvas\n",
    "fig_combine = go.Figure()\n",
    "# Add trace to the figure\n",
    "fig_combine.add_trace(go.Scatter(x=df_recovered['Date'], y=df_recovered['Total'],\n",
    "                                 mode='lines+markers',\n",
    "                                 line_shape='spline',\n",
    "                                 name='Total Recovered Cases',\n",
    "                                 line=dict(color='#168038', width=3),\n",
    "                                 marker=dict(size=8, color='#f4f4f2',\n",
    "                                               line=dict(width=1,color='#168038')),\n",
    "                                 text=[datetime.strftime(d, '%b %d %Y AEDT') for d in df_recovered['Date']],\n",
    "                                 hovertext=['Total recovered<br>{:,d} cases<br>'.format(i) for i in df_recovered['Total']],\n",
    "                                 hovertemplate='<b>%{text}</b><br></br>'+\n",
    "                                                 '%{hovertext}'+\n",
    "                                                 '<extra></extra>'))\n",
    "fig_combine.add_trace(go.Scatter(x=df_deaths['Date'], y=df_deaths['Total'],\n",
    "                                mode='lines+markers',\n",
    "                                 line_shape='spline',\n",
    "                                name='Total Death Cases',\n",
    "                                line=dict(color='#626262', width=3),\n",
    "                                marker=dict(size=8, color='#f4f4f2',\n",
    "                                            line=dict(width=1,color='#626262')),\n",
    "                                text=[datetime.strftime(d, '%b %d %Y AEDT') for d in df_deaths['Date']],\n",
    "                                hovertext=['Total death<br>{:,d} cases<br>'.format(i) for i in df_deaths['Total']],\n",
    "                                hovertemplate='<b>%{text}</b><br></br>'+\n",
    "                                              '%{hovertext}'+\n",
    "                                              '<extra></extra>'))\n",
    "# Customise layout\n",
    "fig_combine.update_layout(\n",
    "    #title=dict(\n",
    "    #    text=\"<b>Recovered Cases Timeline<b>\",\n",
    "    #    y=0.96, x=0.5, xanchor='center', yanchor='top',\n",
    "    #    font=dict(size=20, color=\"#292929\", family=\"Playfair Display\")\n",
    "    #),\n",
    "    margin=go.layout.Margin(\n",
    "        l=10,\n",
    "        r=10,\n",
    "        b=10,\n",
    "        t=5,\n",
    "        pad=0\n",
    "    ),\n",
    "    yaxis=dict(\n",
    "        showline=True, linecolor='#272e3e',\n",
    "        zeroline=False,\n",
    "        gridcolor='rgba(203, 210, 211,.3)',\n",
    "        gridwidth = .1,\n",
    "        tickmode='array',\n",
    "        # Set tick range based on the maximum number\n",
    "        tickvals=tickList,\n",
    "        # Set tick label accordingly\n",
    "        ticktext=['{:.0f}'.format(i) for i in tickList]\n",
    "    ),\n",
    "#    yaxis_title=\"Total Recovered Case Number\",\n",
    "    xaxis=dict(\n",
    "        showline=True, linecolor='#272e3e',\n",
    "        gridcolor='rgba(203, 210, 211,.3)',\n",
    "        gridwidth = .1,\n",
    "        zeroline=False\n",
    "    ),\n",
    "    xaxis_tickformat='%b %d',\n",
    "    hovermode = 'x',\n",
    "    legend_orientation=\"h\",\n",
    "#    legend=dict(x=.35, y=-.05),\n",
    "    plot_bgcolor='#f4f4f2',\n",
    "    paper_bgcolor='#cbd2d3',\n",
    "    font=dict(color='#292929')\n",
    ")\n",
    "\n",
    "fig_combine.show()"
   ]
  },
  {
   "cell_type": "code",
   "execution_count": 27,
   "metadata": {},
   "outputs": [
    {
     "data": {
      "application/vnd.plotly.v1+json": {
       "config": {
        "plotlyServerURL": "https://plot.ly"
       },
       "data": [
        {
         "hovertemplate": "<b>%{text}</b><br></br>%{hovertext}<extra></extra>",
         "hovertext": [
          "Mainland China death rate<br>2.38%",
          "Mainland China death rate<br>2.26%",
          "Mainland China death rate<br>2.18%",
          "Mainland China death rate<br>2.09%",
          "Mainland China death rate<br>2.04%",
          "Mainland China death rate<br>2.00%",
          "Mainland China death rate<br>2.02%",
          "Mainland China death rate<br>2.07%",
          "Mainland China death rate<br>2.09%",
          "Mainland China death rate<br>2.10%",
          "Mainland China death rate<br>2.31%",
          "Mainland China death rate<br>2.21%",
          "Mainland China death rate<br>2.21%",
          "Mainland China death rate<br>2.21%",
          "Mainland China death rate<br>2.43%",
          "Mainland China death rate<br>2.92%",
          "Mainland China death rate<br>2.83%",
          "Mainland China death rate<br>3.11%",
          "Mainland China death rate<br>3.01%",
          "Mainland China death rate<br>2.82%",
          "Mainland China death rate<br>3.10%",
          "Mainland China death rate<br>1.83%"
         ],
         "line": {
          "color": "#626262",
          "shape": "spline",
          "width": 3
         },
         "marker": {
          "color": "#f4f4f2",
          "line": {
           "color": "#626262",
           "width": 1
          },
          "size": 8
         },
         "mode": "lines+markers",
         "name": "Mainland China Death Rate",
         "text": [
          "Feb 11 2020 AEDT",
          "Feb 10 2020 AEDT",
          "Feb 09 2020 AEDT",
          "Feb 08 2020 AEDT",
          "Feb 07 2020 AEDT",
          "Feb 06 2020 AEDT",
          "Feb 05 2020 AEDT",
          "Feb 04 2020 AEDT",
          "Feb 03 2020 AEDT",
          "Feb 02 2020 AEDT",
          "Feb 01 2020 AEDT",
          "Jan 31 2020 AEDT",
          "Jan 30 2020 AEDT",
          "Jan 29 2020 AEDT",
          "Jan 28 2020 AEDT",
          "Jan 27 2020 AEDT",
          "Jan 26 2020 AEDT",
          "Jan 25 2020 AEDT",
          "Jan 24 2020 AEDT",
          "Jan 23 2020 AEDT",
          "Jan 22 2020 AEDT",
          "Jan 21 2020 AEDT"
         ],
         "type": "scatter",
         "x": [
          "2020-02-11T16:00:00",
          "2020-02-10T22:00:00",
          "2020-02-09T22:00:00",
          "2020-02-08T22:00:00",
          "2020-02-07T22:00:00",
          "2020-02-06T22:00:00",
          "2020-02-05T22:00:00",
          "2020-02-04T21:00:00",
          "2020-02-03T21:00:00",
          "2020-02-02T21:00:00",
          "2020-02-01T11:00:00",
          "2020-01-31T13:30:00",
          "2020-01-30T13:00:00",
          "2020-01-29T15:00:00",
          "2020-01-28T12:30:00",
          "2020-01-27T15:00:00",
          "2020-01-26T14:00:00",
          "2020-01-25T16:00:00",
          "2020-01-24T16:00:00",
          "2020-01-23T16:00:00",
          "2020-01-22T16:00:00",
          "2020-01-21T16:00:00"
         ],
         "y": [
          2.3825157114717195,
          2.25898743624829,
          2.181036798280956,
          2.0890519806986623,
          2.0393112514829896,
          2.0046288054121417,
          2.017633791265122,
          2.0748913733339847,
          2.0864639926020114,
          2.1036606463220537,
          2.30817217716781,
          2.205425553944916,
          2.2141182599635325,
          2.21105527638191,
          2.4268541619414834,
          2.9229082937522834,
          2.829711975745326,
          3.106060606060606,
          3.005780346820809,
          2.8169014084507045,
          3.096539162112933,
          1.834862385321101
         ]
        },
        {
         "hovertemplate": "<b>%{text}</b><br></br>%{hovertext}<extra></extra>",
         "hovertext": [
          "Mainland China death rate<br>0.43%",
          "Mainland China death rate<br>0.44%",
          "Mainland China death rate<br>0.54%",
          "Mainland China death rate<br>0.58%",
          "Mainland China death rate<br>0.62%",
          "Mainland China death rate<br>0.76%",
          "Mainland China death rate<br>0.87%",
          "Mainland China death rate<br>1.03%",
          "Mainland China death rate<br>0.55%",
          "Mainland China death rate<br>0.56%",
          "Mainland China death rate<br>0.00%",
          "Mainland China death rate<br>0.00%",
          "Mainland China death rate<br>0.00%",
          "Mainland China death rate<br>0.00%",
          "Mainland China death rate<br>0.00%",
          "Mainland China death rate<br>0.00%",
          "Mainland China death rate<br>0.00%",
          "Mainland China death rate<br>0.00%",
          "Mainland China death rate<br>0.00%",
          "Mainland China death rate<br>0.00%",
          "Mainland China death rate<br>0.00%",
          "Mainland China death rate<br>0.00%"
         ],
         "line": {
          "color": "#a7a7a7",
          "shape": "spline",
          "width": 3
         },
         "marker": {
          "color": "#f4f4f2",
          "line": {
           "color": "#a7a7a7",
           "width": 1
          },
          "size": 8
         },
         "mode": "lines+markers",
         "name": "Other region Death Rate",
         "text": [
          "Feb 11 2020 AEDT",
          "Feb 10 2020 AEDT",
          "Feb 09 2020 AEDT",
          "Feb 08 2020 AEDT",
          "Feb 07 2020 AEDT",
          "Feb 06 2020 AEDT",
          "Feb 05 2020 AEDT",
          "Feb 04 2020 AEDT",
          "Feb 03 2020 AEDT",
          "Feb 02 2020 AEDT",
          "Feb 01 2020 AEDT",
          "Jan 31 2020 AEDT",
          "Jan 30 2020 AEDT",
          "Jan 29 2020 AEDT",
          "Jan 28 2020 AEDT",
          "Jan 27 2020 AEDT",
          "Jan 26 2020 AEDT",
          "Jan 25 2020 AEDT",
          "Jan 24 2020 AEDT",
          "Jan 23 2020 AEDT",
          "Jan 22 2020 AEDT",
          "Jan 21 2020 AEDT"
         ],
         "type": "scatter",
         "x": [
          "2020-02-11T16:00:00",
          "2020-02-10T22:00:00",
          "2020-02-09T22:00:00",
          "2020-02-08T22:00:00",
          "2020-02-07T22:00:00",
          "2020-02-06T22:00:00",
          "2020-02-05T22:00:00",
          "2020-02-04T21:00:00",
          "2020-02-03T21:00:00",
          "2020-02-02T21:00:00",
          "2020-02-01T11:00:00",
          "2020-01-31T13:30:00",
          "2020-01-30T13:00:00",
          "2020-01-29T15:00:00",
          "2020-01-28T12:30:00",
          "2020-01-27T15:00:00",
          "2020-01-26T14:00:00",
          "2020-01-25T16:00:00",
          "2020-01-24T16:00:00",
          "2020-01-23T16:00:00",
          "2020-01-22T16:00:00",
          "2020-01-21T16:00:00"
         ],
         "y": [
          0.4319654427645789,
          0.4424778761061947,
          0.5405405405405406,
          0.5763688760806917,
          0.6230529595015576,
          0.7604562737642585,
          0.8658008658008658,
          1.0309278350515463,
          0.5524861878453038,
          0.5649717514124294,
          0,
          0,
          0,
          0,
          0,
          0,
          0,
          0,
          0,
          0,
          0,
          0
         ]
        }
       ],
       "layout": {
        "font": {
         "color": "#292929"
        },
        "hovermode": "x",
        "legend": {
         "orientation": "h"
        },
        "margin": {
         "b": 10,
         "l": 10,
         "pad": 0,
         "r": 10,
         "t": 5
        },
        "paper_bgcolor": "#cbd2d3",
        "plot_bgcolor": "#f4f4f2",
        "template": {
         "data": {
          "bar": [
           {
            "error_x": {
             "color": "#2a3f5f"
            },
            "error_y": {
             "color": "#2a3f5f"
            },
            "marker": {
             "line": {
              "color": "#E5ECF6",
              "width": 0.5
             }
            },
            "type": "bar"
           }
          ],
          "barpolar": [
           {
            "marker": {
             "line": {
              "color": "#E5ECF6",
              "width": 0.5
             }
            },
            "type": "barpolar"
           }
          ],
          "carpet": [
           {
            "aaxis": {
             "endlinecolor": "#2a3f5f",
             "gridcolor": "white",
             "linecolor": "white",
             "minorgridcolor": "white",
             "startlinecolor": "#2a3f5f"
            },
            "baxis": {
             "endlinecolor": "#2a3f5f",
             "gridcolor": "white",
             "linecolor": "white",
             "minorgridcolor": "white",
             "startlinecolor": "#2a3f5f"
            },
            "type": "carpet"
           }
          ],
          "choropleth": [
           {
            "colorbar": {
             "outlinewidth": 0,
             "ticks": ""
            },
            "type": "choropleth"
           }
          ],
          "contour": [
           {
            "colorbar": {
             "outlinewidth": 0,
             "ticks": ""
            },
            "colorscale": [
             [
              0,
              "#0d0887"
             ],
             [
              0.1111111111111111,
              "#46039f"
             ],
             [
              0.2222222222222222,
              "#7201a8"
             ],
             [
              0.3333333333333333,
              "#9c179e"
             ],
             [
              0.4444444444444444,
              "#bd3786"
             ],
             [
              0.5555555555555556,
              "#d8576b"
             ],
             [
              0.6666666666666666,
              "#ed7953"
             ],
             [
              0.7777777777777778,
              "#fb9f3a"
             ],
             [
              0.8888888888888888,
              "#fdca26"
             ],
             [
              1,
              "#f0f921"
             ]
            ],
            "type": "contour"
           }
          ],
          "contourcarpet": [
           {
            "colorbar": {
             "outlinewidth": 0,
             "ticks": ""
            },
            "type": "contourcarpet"
           }
          ],
          "heatmap": [
           {
            "colorbar": {
             "outlinewidth": 0,
             "ticks": ""
            },
            "colorscale": [
             [
              0,
              "#0d0887"
             ],
             [
              0.1111111111111111,
              "#46039f"
             ],
             [
              0.2222222222222222,
              "#7201a8"
             ],
             [
              0.3333333333333333,
              "#9c179e"
             ],
             [
              0.4444444444444444,
              "#bd3786"
             ],
             [
              0.5555555555555556,
              "#d8576b"
             ],
             [
              0.6666666666666666,
              "#ed7953"
             ],
             [
              0.7777777777777778,
              "#fb9f3a"
             ],
             [
              0.8888888888888888,
              "#fdca26"
             ],
             [
              1,
              "#f0f921"
             ]
            ],
            "type": "heatmap"
           }
          ],
          "heatmapgl": [
           {
            "colorbar": {
             "outlinewidth": 0,
             "ticks": ""
            },
            "colorscale": [
             [
              0,
              "#0d0887"
             ],
             [
              0.1111111111111111,
              "#46039f"
             ],
             [
              0.2222222222222222,
              "#7201a8"
             ],
             [
              0.3333333333333333,
              "#9c179e"
             ],
             [
              0.4444444444444444,
              "#bd3786"
             ],
             [
              0.5555555555555556,
              "#d8576b"
             ],
             [
              0.6666666666666666,
              "#ed7953"
             ],
             [
              0.7777777777777778,
              "#fb9f3a"
             ],
             [
              0.8888888888888888,
              "#fdca26"
             ],
             [
              1,
              "#f0f921"
             ]
            ],
            "type": "heatmapgl"
           }
          ],
          "histogram": [
           {
            "marker": {
             "colorbar": {
              "outlinewidth": 0,
              "ticks": ""
             }
            },
            "type": "histogram"
           }
          ],
          "histogram2d": [
           {
            "colorbar": {
             "outlinewidth": 0,
             "ticks": ""
            },
            "colorscale": [
             [
              0,
              "#0d0887"
             ],
             [
              0.1111111111111111,
              "#46039f"
             ],
             [
              0.2222222222222222,
              "#7201a8"
             ],
             [
              0.3333333333333333,
              "#9c179e"
             ],
             [
              0.4444444444444444,
              "#bd3786"
             ],
             [
              0.5555555555555556,
              "#d8576b"
             ],
             [
              0.6666666666666666,
              "#ed7953"
             ],
             [
              0.7777777777777778,
              "#fb9f3a"
             ],
             [
              0.8888888888888888,
              "#fdca26"
             ],
             [
              1,
              "#f0f921"
             ]
            ],
            "type": "histogram2d"
           }
          ],
          "histogram2dcontour": [
           {
            "colorbar": {
             "outlinewidth": 0,
             "ticks": ""
            },
            "colorscale": [
             [
              0,
              "#0d0887"
             ],
             [
              0.1111111111111111,
              "#46039f"
             ],
             [
              0.2222222222222222,
              "#7201a8"
             ],
             [
              0.3333333333333333,
              "#9c179e"
             ],
             [
              0.4444444444444444,
              "#bd3786"
             ],
             [
              0.5555555555555556,
              "#d8576b"
             ],
             [
              0.6666666666666666,
              "#ed7953"
             ],
             [
              0.7777777777777778,
              "#fb9f3a"
             ],
             [
              0.8888888888888888,
              "#fdca26"
             ],
             [
              1,
              "#f0f921"
             ]
            ],
            "type": "histogram2dcontour"
           }
          ],
          "mesh3d": [
           {
            "colorbar": {
             "outlinewidth": 0,
             "ticks": ""
            },
            "type": "mesh3d"
           }
          ],
          "parcoords": [
           {
            "line": {
             "colorbar": {
              "outlinewidth": 0,
              "ticks": ""
             }
            },
            "type": "parcoords"
           }
          ],
          "pie": [
           {
            "automargin": true,
            "type": "pie"
           }
          ],
          "scatter": [
           {
            "marker": {
             "colorbar": {
              "outlinewidth": 0,
              "ticks": ""
             }
            },
            "type": "scatter"
           }
          ],
          "scatter3d": [
           {
            "line": {
             "colorbar": {
              "outlinewidth": 0,
              "ticks": ""
             }
            },
            "marker": {
             "colorbar": {
              "outlinewidth": 0,
              "ticks": ""
             }
            },
            "type": "scatter3d"
           }
          ],
          "scattercarpet": [
           {
            "marker": {
             "colorbar": {
              "outlinewidth": 0,
              "ticks": ""
             }
            },
            "type": "scattercarpet"
           }
          ],
          "scattergeo": [
           {
            "marker": {
             "colorbar": {
              "outlinewidth": 0,
              "ticks": ""
             }
            },
            "type": "scattergeo"
           }
          ],
          "scattergl": [
           {
            "marker": {
             "colorbar": {
              "outlinewidth": 0,
              "ticks": ""
             }
            },
            "type": "scattergl"
           }
          ],
          "scattermapbox": [
           {
            "marker": {
             "colorbar": {
              "outlinewidth": 0,
              "ticks": ""
             }
            },
            "type": "scattermapbox"
           }
          ],
          "scatterpolar": [
           {
            "marker": {
             "colorbar": {
              "outlinewidth": 0,
              "ticks": ""
             }
            },
            "type": "scatterpolar"
           }
          ],
          "scatterpolargl": [
           {
            "marker": {
             "colorbar": {
              "outlinewidth": 0,
              "ticks": ""
             }
            },
            "type": "scatterpolargl"
           }
          ],
          "scatterternary": [
           {
            "marker": {
             "colorbar": {
              "outlinewidth": 0,
              "ticks": ""
             }
            },
            "type": "scatterternary"
           }
          ],
          "surface": [
           {
            "colorbar": {
             "outlinewidth": 0,
             "ticks": ""
            },
            "colorscale": [
             [
              0,
              "#0d0887"
             ],
             [
              0.1111111111111111,
              "#46039f"
             ],
             [
              0.2222222222222222,
              "#7201a8"
             ],
             [
              0.3333333333333333,
              "#9c179e"
             ],
             [
              0.4444444444444444,
              "#bd3786"
             ],
             [
              0.5555555555555556,
              "#d8576b"
             ],
             [
              0.6666666666666666,
              "#ed7953"
             ],
             [
              0.7777777777777778,
              "#fb9f3a"
             ],
             [
              0.8888888888888888,
              "#fdca26"
             ],
             [
              1,
              "#f0f921"
             ]
            ],
            "type": "surface"
           }
          ],
          "table": [
           {
            "cells": {
             "fill": {
              "color": "#EBF0F8"
             },
             "line": {
              "color": "white"
             }
            },
            "header": {
             "fill": {
              "color": "#C8D4E3"
             },
             "line": {
              "color": "white"
             }
            },
            "type": "table"
           }
          ]
         },
         "layout": {
          "annotationdefaults": {
           "arrowcolor": "#2a3f5f",
           "arrowhead": 0,
           "arrowwidth": 1
          },
          "coloraxis": {
           "colorbar": {
            "outlinewidth": 0,
            "ticks": ""
           }
          },
          "colorscale": {
           "diverging": [
            [
             0,
             "#8e0152"
            ],
            [
             0.1,
             "#c51b7d"
            ],
            [
             0.2,
             "#de77ae"
            ],
            [
             0.3,
             "#f1b6da"
            ],
            [
             0.4,
             "#fde0ef"
            ],
            [
             0.5,
             "#f7f7f7"
            ],
            [
             0.6,
             "#e6f5d0"
            ],
            [
             0.7,
             "#b8e186"
            ],
            [
             0.8,
             "#7fbc41"
            ],
            [
             0.9,
             "#4d9221"
            ],
            [
             1,
             "#276419"
            ]
           ],
           "sequential": [
            [
             0,
             "#0d0887"
            ],
            [
             0.1111111111111111,
             "#46039f"
            ],
            [
             0.2222222222222222,
             "#7201a8"
            ],
            [
             0.3333333333333333,
             "#9c179e"
            ],
            [
             0.4444444444444444,
             "#bd3786"
            ],
            [
             0.5555555555555556,
             "#d8576b"
            ],
            [
             0.6666666666666666,
             "#ed7953"
            ],
            [
             0.7777777777777778,
             "#fb9f3a"
            ],
            [
             0.8888888888888888,
             "#fdca26"
            ],
            [
             1,
             "#f0f921"
            ]
           ],
           "sequentialminus": [
            [
             0,
             "#0d0887"
            ],
            [
             0.1111111111111111,
             "#46039f"
            ],
            [
             0.2222222222222222,
             "#7201a8"
            ],
            [
             0.3333333333333333,
             "#9c179e"
            ],
            [
             0.4444444444444444,
             "#bd3786"
            ],
            [
             0.5555555555555556,
             "#d8576b"
            ],
            [
             0.6666666666666666,
             "#ed7953"
            ],
            [
             0.7777777777777778,
             "#fb9f3a"
            ],
            [
             0.8888888888888888,
             "#fdca26"
            ],
            [
             1,
             "#f0f921"
            ]
           ]
          },
          "colorway": [
           "#636efa",
           "#EF553B",
           "#00cc96",
           "#ab63fa",
           "#FFA15A",
           "#19d3f3",
           "#FF6692",
           "#B6E880",
           "#FF97FF",
           "#FECB52"
          ],
          "font": {
           "color": "#2a3f5f"
          },
          "geo": {
           "bgcolor": "white",
           "lakecolor": "white",
           "landcolor": "#E5ECF6",
           "showlakes": true,
           "showland": true,
           "subunitcolor": "white"
          },
          "hoverlabel": {
           "align": "left"
          },
          "hovermode": "closest",
          "mapbox": {
           "style": "light"
          },
          "paper_bgcolor": "white",
          "plot_bgcolor": "#E5ECF6",
          "polar": {
           "angularaxis": {
            "gridcolor": "white",
            "linecolor": "white",
            "ticks": ""
           },
           "bgcolor": "#E5ECF6",
           "radialaxis": {
            "gridcolor": "white",
            "linecolor": "white",
            "ticks": ""
           }
          },
          "scene": {
           "xaxis": {
            "backgroundcolor": "#E5ECF6",
            "gridcolor": "white",
            "gridwidth": 2,
            "linecolor": "white",
            "showbackground": true,
            "ticks": "",
            "zerolinecolor": "white"
           },
           "yaxis": {
            "backgroundcolor": "#E5ECF6",
            "gridcolor": "white",
            "gridwidth": 2,
            "linecolor": "white",
            "showbackground": true,
            "ticks": "",
            "zerolinecolor": "white"
           },
           "zaxis": {
            "backgroundcolor": "#E5ECF6",
            "gridcolor": "white",
            "gridwidth": 2,
            "linecolor": "white",
            "showbackground": true,
            "ticks": "",
            "zerolinecolor": "white"
           }
          },
          "shapedefaults": {
           "line": {
            "color": "#2a3f5f"
           }
          },
          "ternary": {
           "aaxis": {
            "gridcolor": "white",
            "linecolor": "white",
            "ticks": ""
           },
           "baxis": {
            "gridcolor": "white",
            "linecolor": "white",
            "ticks": ""
           },
           "bgcolor": "#E5ECF6",
           "caxis": {
            "gridcolor": "white",
            "linecolor": "white",
            "ticks": ""
           }
          },
          "title": {
           "x": 0.05
          },
          "xaxis": {
           "automargin": true,
           "gridcolor": "white",
           "linecolor": "white",
           "ticks": "",
           "title": {
            "standoff": 15
           },
           "zerolinecolor": "white",
           "zerolinewidth": 2
          },
          "yaxis": {
           "automargin": true,
           "gridcolor": "white",
           "linecolor": "white",
           "ticks": "",
           "title": {
            "standoff": 15
           },
           "zerolinecolor": "white",
           "zerolinewidth": 2
          }
         }
        },
        "xaxis": {
         "gridcolor": "rgba(203, 210, 211,.3)",
         "gridwidth": 0.1,
         "linecolor": "#272e3e",
         "showline": true,
         "tickformat": "%b %d",
         "zeroline": false
        },
        "yaxis": {
         "gridcolor": "rgba(203, 210, 211,.3)",
         "gridwidth": 0.1,
         "linecolor": "#272e3e",
         "showline": true,
         "tickmode": "array",
         "ticktext": [
          "0.0",
          "0.5",
          "1.0",
          "1.5",
          "2.0",
          "2.5",
          "3.0"
         ],
         "tickvals": [
          0,
          0.5,
          1,
          1.5,
          2,
          2.5,
          3
         ],
         "zeroline": false
        }
       }
      },
      "text/html": [
       "<div>\n",
       "        \n",
       "        \n",
       "            <div id=\"ef2a069f-88fe-485a-b3ad-12e66386530d\" class=\"plotly-graph-div\" style=\"height:525px; width:100%;\"></div>\n",
       "            <script type=\"text/javascript\">\n",
       "                require([\"plotly\"], function(Plotly) {\n",
       "                    window.PLOTLYENV=window.PLOTLYENV || {};\n",
       "                    \n",
       "                if (document.getElementById(\"ef2a069f-88fe-485a-b3ad-12e66386530d\")) {\n",
       "                    Plotly.newPlot(\n",
       "                        'ef2a069f-88fe-485a-b3ad-12e66386530d',\n",
       "                        [{\"hovertemplate\": \"<b>%{text}</b><br></br>%{hovertext}<extra></extra>\", \"hovertext\": [\"Mainland China death rate<br>2.38%\", \"Mainland China death rate<br>2.26%\", \"Mainland China death rate<br>2.18%\", \"Mainland China death rate<br>2.09%\", \"Mainland China death rate<br>2.04%\", \"Mainland China death rate<br>2.00%\", \"Mainland China death rate<br>2.02%\", \"Mainland China death rate<br>2.07%\", \"Mainland China death rate<br>2.09%\", \"Mainland China death rate<br>2.10%\", \"Mainland China death rate<br>2.31%\", \"Mainland China death rate<br>2.21%\", \"Mainland China death rate<br>2.21%\", \"Mainland China death rate<br>2.21%\", \"Mainland China death rate<br>2.43%\", \"Mainland China death rate<br>2.92%\", \"Mainland China death rate<br>2.83%\", \"Mainland China death rate<br>3.11%\", \"Mainland China death rate<br>3.01%\", \"Mainland China death rate<br>2.82%\", \"Mainland China death rate<br>3.10%\", \"Mainland China death rate<br>1.83%\"], \"line\": {\"color\": \"#626262\", \"shape\": \"spline\", \"width\": 3}, \"marker\": {\"color\": \"#f4f4f2\", \"line\": {\"color\": \"#626262\", \"width\": 1}, \"size\": 8}, \"mode\": \"lines+markers\", \"name\": \"Mainland China Death Rate\", \"text\": [\"Feb 11 2020 AEDT\", \"Feb 10 2020 AEDT\", \"Feb 09 2020 AEDT\", \"Feb 08 2020 AEDT\", \"Feb 07 2020 AEDT\", \"Feb 06 2020 AEDT\", \"Feb 05 2020 AEDT\", \"Feb 04 2020 AEDT\", \"Feb 03 2020 AEDT\", \"Feb 02 2020 AEDT\", \"Feb 01 2020 AEDT\", \"Jan 31 2020 AEDT\", \"Jan 30 2020 AEDT\", \"Jan 29 2020 AEDT\", \"Jan 28 2020 AEDT\", \"Jan 27 2020 AEDT\", \"Jan 26 2020 AEDT\", \"Jan 25 2020 AEDT\", \"Jan 24 2020 AEDT\", \"Jan 23 2020 AEDT\", \"Jan 22 2020 AEDT\", \"Jan 21 2020 AEDT\"], \"type\": \"scatter\", \"x\": [\"2020-02-11T16:00:00\", \"2020-02-10T22:00:00\", \"2020-02-09T22:00:00\", \"2020-02-08T22:00:00\", \"2020-02-07T22:00:00\", \"2020-02-06T22:00:00\", \"2020-02-05T22:00:00\", \"2020-02-04T21:00:00\", \"2020-02-03T21:00:00\", \"2020-02-02T21:00:00\", \"2020-02-01T11:00:00\", \"2020-01-31T13:30:00\", \"2020-01-30T13:00:00\", \"2020-01-29T15:00:00\", \"2020-01-28T12:30:00\", \"2020-01-27T15:00:00\", \"2020-01-26T14:00:00\", \"2020-01-25T16:00:00\", \"2020-01-24T16:00:00\", \"2020-01-23T16:00:00\", \"2020-01-22T16:00:00\", \"2020-01-21T16:00:00\"], \"y\": [2.3825157114717195, 2.25898743624829, 2.181036798280956, 2.0890519806986623, 2.0393112514829896, 2.0046288054121417, 2.017633791265122, 2.0748913733339847, 2.0864639926020114, 2.1036606463220537, 2.30817217716781, 2.205425553944916, 2.2141182599635325, 2.21105527638191, 2.4268541619414834, 2.9229082937522834, 2.829711975745326, 3.106060606060606, 3.005780346820809, 2.8169014084507045, 3.096539162112933, 1.834862385321101]}, {\"hovertemplate\": \"<b>%{text}</b><br></br>%{hovertext}<extra></extra>\", \"hovertext\": [\"Mainland China death rate<br>0.43%\", \"Mainland China death rate<br>0.44%\", \"Mainland China death rate<br>0.54%\", \"Mainland China death rate<br>0.58%\", \"Mainland China death rate<br>0.62%\", \"Mainland China death rate<br>0.76%\", \"Mainland China death rate<br>0.87%\", \"Mainland China death rate<br>1.03%\", \"Mainland China death rate<br>0.55%\", \"Mainland China death rate<br>0.56%\", \"Mainland China death rate<br>0.00%\", \"Mainland China death rate<br>0.00%\", \"Mainland China death rate<br>0.00%\", \"Mainland China death rate<br>0.00%\", \"Mainland China death rate<br>0.00%\", \"Mainland China death rate<br>0.00%\", \"Mainland China death rate<br>0.00%\", \"Mainland China death rate<br>0.00%\", \"Mainland China death rate<br>0.00%\", \"Mainland China death rate<br>0.00%\", \"Mainland China death rate<br>0.00%\", \"Mainland China death rate<br>0.00%\"], \"line\": {\"color\": \"#a7a7a7\", \"shape\": \"spline\", \"width\": 3}, \"marker\": {\"color\": \"#f4f4f2\", \"line\": {\"color\": \"#a7a7a7\", \"width\": 1}, \"size\": 8}, \"mode\": \"lines+markers\", \"name\": \"Other region Death Rate\", \"text\": [\"Feb 11 2020 AEDT\", \"Feb 10 2020 AEDT\", \"Feb 09 2020 AEDT\", \"Feb 08 2020 AEDT\", \"Feb 07 2020 AEDT\", \"Feb 06 2020 AEDT\", \"Feb 05 2020 AEDT\", \"Feb 04 2020 AEDT\", \"Feb 03 2020 AEDT\", \"Feb 02 2020 AEDT\", \"Feb 01 2020 AEDT\", \"Jan 31 2020 AEDT\", \"Jan 30 2020 AEDT\", \"Jan 29 2020 AEDT\", \"Jan 28 2020 AEDT\", \"Jan 27 2020 AEDT\", \"Jan 26 2020 AEDT\", \"Jan 25 2020 AEDT\", \"Jan 24 2020 AEDT\", \"Jan 23 2020 AEDT\", \"Jan 22 2020 AEDT\", \"Jan 21 2020 AEDT\"], \"type\": \"scatter\", \"x\": [\"2020-02-11T16:00:00\", \"2020-02-10T22:00:00\", \"2020-02-09T22:00:00\", \"2020-02-08T22:00:00\", \"2020-02-07T22:00:00\", \"2020-02-06T22:00:00\", \"2020-02-05T22:00:00\", \"2020-02-04T21:00:00\", \"2020-02-03T21:00:00\", \"2020-02-02T21:00:00\", \"2020-02-01T11:00:00\", \"2020-01-31T13:30:00\", \"2020-01-30T13:00:00\", \"2020-01-29T15:00:00\", \"2020-01-28T12:30:00\", \"2020-01-27T15:00:00\", \"2020-01-26T14:00:00\", \"2020-01-25T16:00:00\", \"2020-01-24T16:00:00\", \"2020-01-23T16:00:00\", \"2020-01-22T16:00:00\", \"2020-01-21T16:00:00\"], \"y\": [0.4319654427645789, 0.4424778761061947, 0.5405405405405406, 0.5763688760806917, 0.6230529595015576, 0.7604562737642585, 0.8658008658008658, 1.0309278350515463, 0.5524861878453038, 0.5649717514124294, 0.0, 0.0, 0.0, 0.0, 0.0, 0.0, 0.0, 0.0, 0.0, 0.0, 0.0, 0.0]}],\n",
       "                        {\"font\": {\"color\": \"#292929\"}, \"hovermode\": \"x\", \"legend\": {\"orientation\": \"h\"}, \"margin\": {\"b\": 10, \"l\": 10, \"pad\": 0, \"r\": 10, \"t\": 5}, \"paper_bgcolor\": \"#cbd2d3\", \"plot_bgcolor\": \"#f4f4f2\", \"template\": {\"data\": {\"bar\": [{\"error_x\": {\"color\": \"#2a3f5f\"}, \"error_y\": {\"color\": \"#2a3f5f\"}, \"marker\": {\"line\": {\"color\": \"#E5ECF6\", \"width\": 0.5}}, \"type\": \"bar\"}], \"barpolar\": [{\"marker\": {\"line\": {\"color\": \"#E5ECF6\", \"width\": 0.5}}, \"type\": \"barpolar\"}], \"carpet\": [{\"aaxis\": {\"endlinecolor\": \"#2a3f5f\", \"gridcolor\": \"white\", \"linecolor\": \"white\", \"minorgridcolor\": \"white\", \"startlinecolor\": \"#2a3f5f\"}, \"baxis\": {\"endlinecolor\": \"#2a3f5f\", \"gridcolor\": \"white\", \"linecolor\": \"white\", \"minorgridcolor\": \"white\", \"startlinecolor\": \"#2a3f5f\"}, \"type\": \"carpet\"}], \"choropleth\": [{\"colorbar\": {\"outlinewidth\": 0, \"ticks\": \"\"}, \"type\": \"choropleth\"}], \"contour\": [{\"colorbar\": {\"outlinewidth\": 0, \"ticks\": \"\"}, \"colorscale\": [[0.0, \"#0d0887\"], [0.1111111111111111, \"#46039f\"], [0.2222222222222222, \"#7201a8\"], [0.3333333333333333, \"#9c179e\"], [0.4444444444444444, \"#bd3786\"], [0.5555555555555556, \"#d8576b\"], [0.6666666666666666, \"#ed7953\"], [0.7777777777777778, \"#fb9f3a\"], [0.8888888888888888, \"#fdca26\"], [1.0, \"#f0f921\"]], \"type\": \"contour\"}], \"contourcarpet\": [{\"colorbar\": {\"outlinewidth\": 0, \"ticks\": \"\"}, \"type\": \"contourcarpet\"}], \"heatmap\": [{\"colorbar\": {\"outlinewidth\": 0, \"ticks\": \"\"}, \"colorscale\": [[0.0, \"#0d0887\"], [0.1111111111111111, \"#46039f\"], [0.2222222222222222, \"#7201a8\"], [0.3333333333333333, \"#9c179e\"], [0.4444444444444444, \"#bd3786\"], [0.5555555555555556, \"#d8576b\"], [0.6666666666666666, \"#ed7953\"], [0.7777777777777778, \"#fb9f3a\"], [0.8888888888888888, \"#fdca26\"], [1.0, \"#f0f921\"]], \"type\": \"heatmap\"}], \"heatmapgl\": [{\"colorbar\": {\"outlinewidth\": 0, \"ticks\": \"\"}, \"colorscale\": [[0.0, \"#0d0887\"], [0.1111111111111111, \"#46039f\"], [0.2222222222222222, \"#7201a8\"], [0.3333333333333333, \"#9c179e\"], [0.4444444444444444, \"#bd3786\"], [0.5555555555555556, \"#d8576b\"], [0.6666666666666666, \"#ed7953\"], [0.7777777777777778, \"#fb9f3a\"], [0.8888888888888888, \"#fdca26\"], [1.0, \"#f0f921\"]], \"type\": \"heatmapgl\"}], \"histogram\": [{\"marker\": {\"colorbar\": {\"outlinewidth\": 0, \"ticks\": \"\"}}, \"type\": \"histogram\"}], \"histogram2d\": [{\"colorbar\": {\"outlinewidth\": 0, \"ticks\": \"\"}, \"colorscale\": [[0.0, \"#0d0887\"], [0.1111111111111111, \"#46039f\"], [0.2222222222222222, \"#7201a8\"], [0.3333333333333333, \"#9c179e\"], [0.4444444444444444, \"#bd3786\"], [0.5555555555555556, \"#d8576b\"], [0.6666666666666666, \"#ed7953\"], [0.7777777777777778, \"#fb9f3a\"], [0.8888888888888888, \"#fdca26\"], [1.0, \"#f0f921\"]], \"type\": \"histogram2d\"}], \"histogram2dcontour\": [{\"colorbar\": {\"outlinewidth\": 0, \"ticks\": \"\"}, \"colorscale\": [[0.0, \"#0d0887\"], [0.1111111111111111, \"#46039f\"], [0.2222222222222222, \"#7201a8\"], [0.3333333333333333, \"#9c179e\"], [0.4444444444444444, \"#bd3786\"], [0.5555555555555556, \"#d8576b\"], [0.6666666666666666, \"#ed7953\"], [0.7777777777777778, \"#fb9f3a\"], [0.8888888888888888, \"#fdca26\"], [1.0, \"#f0f921\"]], \"type\": \"histogram2dcontour\"}], \"mesh3d\": [{\"colorbar\": {\"outlinewidth\": 0, \"ticks\": \"\"}, \"type\": \"mesh3d\"}], \"parcoords\": [{\"line\": {\"colorbar\": {\"outlinewidth\": 0, \"ticks\": \"\"}}, \"type\": \"parcoords\"}], \"pie\": [{\"automargin\": true, \"type\": \"pie\"}], \"scatter\": [{\"marker\": {\"colorbar\": {\"outlinewidth\": 0, \"ticks\": \"\"}}, \"type\": \"scatter\"}], \"scatter3d\": [{\"line\": {\"colorbar\": {\"outlinewidth\": 0, \"ticks\": \"\"}}, \"marker\": {\"colorbar\": {\"outlinewidth\": 0, \"ticks\": \"\"}}, \"type\": \"scatter3d\"}], \"scattercarpet\": [{\"marker\": {\"colorbar\": {\"outlinewidth\": 0, \"ticks\": \"\"}}, \"type\": \"scattercarpet\"}], \"scattergeo\": [{\"marker\": {\"colorbar\": {\"outlinewidth\": 0, \"ticks\": \"\"}}, \"type\": \"scattergeo\"}], \"scattergl\": [{\"marker\": {\"colorbar\": {\"outlinewidth\": 0, \"ticks\": \"\"}}, \"type\": \"scattergl\"}], \"scattermapbox\": [{\"marker\": {\"colorbar\": {\"outlinewidth\": 0, \"ticks\": \"\"}}, \"type\": \"scattermapbox\"}], \"scatterpolar\": [{\"marker\": {\"colorbar\": {\"outlinewidth\": 0, \"ticks\": \"\"}}, \"type\": \"scatterpolar\"}], \"scatterpolargl\": [{\"marker\": {\"colorbar\": {\"outlinewidth\": 0, \"ticks\": \"\"}}, \"type\": \"scatterpolargl\"}], \"scatterternary\": [{\"marker\": {\"colorbar\": {\"outlinewidth\": 0, \"ticks\": \"\"}}, \"type\": \"scatterternary\"}], \"surface\": [{\"colorbar\": {\"outlinewidth\": 0, \"ticks\": \"\"}, \"colorscale\": [[0.0, \"#0d0887\"], [0.1111111111111111, \"#46039f\"], [0.2222222222222222, \"#7201a8\"], [0.3333333333333333, \"#9c179e\"], [0.4444444444444444, \"#bd3786\"], [0.5555555555555556, \"#d8576b\"], [0.6666666666666666, \"#ed7953\"], [0.7777777777777778, \"#fb9f3a\"], [0.8888888888888888, \"#fdca26\"], [1.0, \"#f0f921\"]], \"type\": \"surface\"}], \"table\": [{\"cells\": {\"fill\": {\"color\": \"#EBF0F8\"}, \"line\": {\"color\": \"white\"}}, \"header\": {\"fill\": {\"color\": \"#C8D4E3\"}, \"line\": {\"color\": \"white\"}}, \"type\": \"table\"}]}, \"layout\": {\"annotationdefaults\": {\"arrowcolor\": \"#2a3f5f\", \"arrowhead\": 0, \"arrowwidth\": 1}, \"coloraxis\": {\"colorbar\": {\"outlinewidth\": 0, \"ticks\": \"\"}}, \"colorscale\": {\"diverging\": [[0, \"#8e0152\"], [0.1, \"#c51b7d\"], [0.2, \"#de77ae\"], [0.3, \"#f1b6da\"], [0.4, \"#fde0ef\"], [0.5, \"#f7f7f7\"], [0.6, \"#e6f5d0\"], [0.7, \"#b8e186\"], [0.8, \"#7fbc41\"], [0.9, \"#4d9221\"], [1, \"#276419\"]], \"sequential\": [[0.0, \"#0d0887\"], [0.1111111111111111, \"#46039f\"], [0.2222222222222222, \"#7201a8\"], [0.3333333333333333, \"#9c179e\"], [0.4444444444444444, \"#bd3786\"], [0.5555555555555556, \"#d8576b\"], [0.6666666666666666, \"#ed7953\"], [0.7777777777777778, \"#fb9f3a\"], [0.8888888888888888, \"#fdca26\"], [1.0, \"#f0f921\"]], \"sequentialminus\": [[0.0, \"#0d0887\"], [0.1111111111111111, \"#46039f\"], [0.2222222222222222, \"#7201a8\"], [0.3333333333333333, \"#9c179e\"], [0.4444444444444444, \"#bd3786\"], [0.5555555555555556, \"#d8576b\"], [0.6666666666666666, \"#ed7953\"], [0.7777777777777778, \"#fb9f3a\"], [0.8888888888888888, \"#fdca26\"], [1.0, \"#f0f921\"]]}, \"colorway\": [\"#636efa\", \"#EF553B\", \"#00cc96\", \"#ab63fa\", \"#FFA15A\", \"#19d3f3\", \"#FF6692\", \"#B6E880\", \"#FF97FF\", \"#FECB52\"], \"font\": {\"color\": \"#2a3f5f\"}, \"geo\": {\"bgcolor\": \"white\", \"lakecolor\": \"white\", \"landcolor\": \"#E5ECF6\", \"showlakes\": true, \"showland\": true, \"subunitcolor\": \"white\"}, \"hoverlabel\": {\"align\": \"left\"}, \"hovermode\": \"closest\", \"mapbox\": {\"style\": \"light\"}, \"paper_bgcolor\": \"white\", \"plot_bgcolor\": \"#E5ECF6\", \"polar\": {\"angularaxis\": {\"gridcolor\": \"white\", \"linecolor\": \"white\", \"ticks\": \"\"}, \"bgcolor\": \"#E5ECF6\", \"radialaxis\": {\"gridcolor\": \"white\", \"linecolor\": \"white\", \"ticks\": \"\"}}, \"scene\": {\"xaxis\": {\"backgroundcolor\": \"#E5ECF6\", \"gridcolor\": \"white\", \"gridwidth\": 2, \"linecolor\": \"white\", \"showbackground\": true, \"ticks\": \"\", \"zerolinecolor\": \"white\"}, \"yaxis\": {\"backgroundcolor\": \"#E5ECF6\", \"gridcolor\": \"white\", \"gridwidth\": 2, \"linecolor\": \"white\", \"showbackground\": true, \"ticks\": \"\", \"zerolinecolor\": \"white\"}, \"zaxis\": {\"backgroundcolor\": \"#E5ECF6\", \"gridcolor\": \"white\", \"gridwidth\": 2, \"linecolor\": \"white\", \"showbackground\": true, \"ticks\": \"\", \"zerolinecolor\": \"white\"}}, \"shapedefaults\": {\"line\": {\"color\": \"#2a3f5f\"}}, \"ternary\": {\"aaxis\": {\"gridcolor\": \"white\", \"linecolor\": \"white\", \"ticks\": \"\"}, \"baxis\": {\"gridcolor\": \"white\", \"linecolor\": \"white\", \"ticks\": \"\"}, \"bgcolor\": \"#E5ECF6\", \"caxis\": {\"gridcolor\": \"white\", \"linecolor\": \"white\", \"ticks\": \"\"}}, \"title\": {\"x\": 0.05}, \"xaxis\": {\"automargin\": true, \"gridcolor\": \"white\", \"linecolor\": \"white\", \"ticks\": \"\", \"title\": {\"standoff\": 15}, \"zerolinecolor\": \"white\", \"zerolinewidth\": 2}, \"yaxis\": {\"automargin\": true, \"gridcolor\": \"white\", \"linecolor\": \"white\", \"ticks\": \"\", \"title\": {\"standoff\": 15}, \"zerolinecolor\": \"white\", \"zerolinewidth\": 2}}}, \"xaxis\": {\"gridcolor\": \"rgba(203, 210, 211,.3)\", \"gridwidth\": 0.1, \"linecolor\": \"#272e3e\", \"showline\": true, \"tickformat\": \"%b %d\", \"zeroline\": false}, \"yaxis\": {\"gridcolor\": \"rgba(203, 210, 211,.3)\", \"gridwidth\": 0.1, \"linecolor\": \"#272e3e\", \"showline\": true, \"tickmode\": \"array\", \"ticktext\": [\"0.0\", \"0.5\", \"1.0\", \"1.5\", \"2.0\", \"2.5\", \"3.0\"], \"tickvals\": [0.0, 0.5, 1.0, 1.5, 2.0, 2.5, 3.0], \"zeroline\": false}},\n",
       "                        {\"responsive\": true}\n",
       "                    ).then(function(){\n",
       "                            \n",
       "var gd = document.getElementById('ef2a069f-88fe-485a-b3ad-12e66386530d');\n",
       "var x = new MutationObserver(function (mutations, observer) {{\n",
       "        var display = window.getComputedStyle(gd).display;\n",
       "        if (!display || display === 'none') {{\n",
       "            console.log([gd, 'removed!']);\n",
       "            Plotly.purge(gd);\n",
       "            observer.disconnect();\n",
       "        }}\n",
       "}});\n",
       "\n",
       "// Listen for the removal of the full notebook cells\n",
       "var notebookContainer = gd.closest('#notebook-container');\n",
       "if (notebookContainer) {{\n",
       "    x.observe(notebookContainer, {childList: true});\n",
       "}}\n",
       "\n",
       "// Listen for the clearing of the current output cell\n",
       "var outputEl = gd.closest('.output');\n",
       "if (outputEl) {{\n",
       "    x.observe(outputEl, {childList: true});\n",
       "}}\n",
       "\n",
       "                        })\n",
       "                };\n",
       "                });\n",
       "            </script>\n",
       "        </div>"
      ]
     },
     "metadata": {},
     "output_type": "display_data"
    }
   ],
   "source": [
    "# Line plot for death rate cases\n",
    "# Set up tick scale based on confirmed case number\n",
    "tickList = list(np.arange(0, (df_deaths['Mainland China']/df_confirmed['Mainland China']*100).max(), 0.5))\n",
    "\n",
    "# Create empty figure canvas\n",
    "fig_rate = go.Figure()\n",
    "# Add trace to the figure\n",
    "fig_rate.add_trace(go.Scatter(x=df_deaths['Date'], y=df_deaths['Mainland China']/df_confirmed['Mainland China']*100,\n",
    "                                mode='lines+markers',\n",
    "                                line_shape='spline',\n",
    "                                name='Mainland China Death Rate',\n",
    "                                line=dict(color='#626262', width=3),\n",
    "                                marker=dict(size=8, color='#f4f4f2',\n",
    "                                            line=dict(width=1,color='#626262')),\n",
    "                                text=[datetime.strftime(d, '%b %d %Y AEDT') for d in df_deaths['Date']],\n",
    "                                hovertext=['Mainland China death rate<br>{:.2f}%'.format(i) for i in df_deaths['Mainland China']/df_confirmed['Mainland China']*100],\n",
    "                                hovertemplate='<b>%{text}</b><br></br>'+\n",
    "                                              '%{hovertext}'+\n",
    "                                              '<extra></extra>'))\n",
    "fig_rate.add_trace(go.Scatter(x=df_deaths['Date'], y=df_deaths['Other locations']/df_confirmed['Other locations']*100,\n",
    "                                mode='lines+markers',\n",
    "                                line_shape='spline',\n",
    "                                name='Other region Death Rate',\n",
    "                                line=dict(color='#a7a7a7', width=3),\n",
    "                                marker=dict(size=8, color='#f4f4f2',\n",
    "                                            line=dict(width=1,color='#a7a7a7')),\n",
    "                                text=[datetime.strftime(d, '%b %d %Y AEDT') for d in df_deaths['Date']],\n",
    "                                hovertext=['Mainland China death rate<br>{:.2f}%'.format(i) for i in df_deaths['Other locations']/df_confirmed['Other locations']*100],\n",
    "                                hovertemplate='<b>%{text}</b><br></br>'+\n",
    "                                              '%{hovertext}'+\n",
    "                                              '<extra></extra>'))\n",
    "\n",
    "# Customise layout\n",
    "fig_rate.update_layout(\n",
    "    margin=go.layout.Margin(\n",
    "        l=10,\n",
    "        r=10,\n",
    "        b=10,\n",
    "        t=5,\n",
    "        pad=0\n",
    "    ),\n",
    "    yaxis=dict(\n",
    "        showline=True, linecolor='#272e3e',\n",
    "        zeroline=False,\n",
    "        gridcolor='rgba(203, 210, 211,.3)',\n",
    "        gridwidth = .1,\n",
    "        tickmode='array',\n",
    "        # Set tick range based on the maximum number\n",
    "        tickvals=tickList,\n",
    "        # Set tick label accordingly\n",
    "        ticktext=['{:.1f}'.format(i) for i in tickList]\n",
    "    ),\n",
    "#    yaxis_title=\"Total Death Case Number\",\n",
    "    xaxis=dict(\n",
    "        showline=True, linecolor='#272e3e',\n",
    "        gridcolor='rgba(203, 210, 211,.3)',\n",
    "        gridwidth = .1,\n",
    "        zeroline=False\n",
    "    ),\n",
    "    xaxis_tickformat='%b %d',\n",
    "    hovermode = 'x',\n",
    "    legend_orientation=\"h\",\n",
    "#    legend=dict(x=.35, y=-.05),\n",
    "    plot_bgcolor='#f4f4f2',\n",
    "    paper_bgcolor='#cbd2d3',\n",
    "    font=dict(color='#292929')\n",
    ")\n",
    "\n",
    "fig_rate.show()"
   ]
  },
  {
   "cell_type": "code",
   "execution_count": 31,
   "metadata": {},
   "outputs": [
    {
     "data": {
      "application/vnd.plotly.v1+json": {
       "config": {
        "plotlyServerURL": "https://plot.ly"
       },
       "data": [
        {
         "hovertemplate": "<b>%{text}</b><br><br>%{hovertext}<br><extra></extra>",
         "hovertext": [
          "Comfirmed: 31728<br>Recovered: 2222<br>Death: 974",
          "Comfirmed: 1177<br>Recovered: 181<br>Death: 1",
          "Comfirmed: 1117<br>Recovered: 250<br>Death: 0",
          "Comfirmed: 1105<br>Recovered: 198<br>Death: 7",
          "Comfirmed: 912<br>Recovered: 213<br>Death: 1",
          "Comfirmed: 860<br>Recovered: 108<br>Death: 4",
          "Comfirmed: 804<br>Recovered: 127<br>Death: 1",
          "Comfirmed: 515<br>Recovered: 84<br>Death: 0",
          "Comfirmed: 486<br>Recovered: 66<br>Death: 2",
          "Comfirmed: 486<br>Recovered: 71<br>Death: 1",
          "Comfirmed: 417<br>Recovered: 82<br>Death: 1",
          "Comfirmed: 342<br>Recovered: 48<br>Death: 3",
          "Comfirmed: 360<br>Recovered: 30<br>Death: 8",
          "Comfirmed: 302<br>Recovered: 52<br>Death: 1",
          "Comfirmed: 267<br>Recovered: 39<br>Death: 0",
          "Comfirmed: 239<br>Recovered: 41<br>Death: 2",
          "Comfirmed: 219<br>Recovered: 31<br>Death: 0",
          "Comfirmed: 215<br>Recovered: 30<br>Death: 1",
          "Comfirmed: 149<br>Recovered: 19<br>Death: 0",
          "Comfirmed: 142<br>Recovered: 19<br>Death: 3",
          "Comfirmed: 135<br>Recovered: 0<br>Death: 0",
          "Comfirmed: 122<br>Recovered: 26<br>Death: 0",
          "Comfirmed: 118<br>Recovered: 10<br>Death: 1",
          "Comfirmed: 108<br>Recovered: 13<br>Death: 0",
          "Comfirmed: 102<br>Recovered: 8<br>Death: 2",
          "Comfirmed: 86<br>Recovered: 21<br>Death: 2",
          "Comfirmed: 81<br>Recovered: 13<br>Death: 1",
          "Comfirmed: 58<br>Recovered: 5<br>Death: 0",
          "Comfirmed: 53<br>Recovered: 14<br>Death: 0",
          "Comfirmed: 55<br>Recovered: 0<br>Death: 0",
          "Comfirmed: 45<br>Recovered: 7<br>Death: 0",
          "Comfirmed: 42<br>Recovered: 0<br>Death: 1",
          "Comfirmed: 32<br>Recovered: 10<br>Death: 0",
          "Comfirmed: 28<br>Recovered: 3<br>Death: 0",
          "Comfirmed: 26<br>Recovered: 4<br>Death: 0",
          "Comfirmed: 18<br>Recovered: 3<br>Death: 0",
          "Comfirmed: 18<br>Recovered: 1<br>Death: 0",
          "Comfirmed: 18<br>Recovered: 3<br>Death: 0",
          "Comfirmed: 14<br>Recovered: 0<br>Death: 0",
          "Comfirmed: 14<br>Recovered: 3<br>Death: 0",
          "Comfirmed: 11<br>Recovered: 0<br>Death: 0",
          "Comfirmed: 10<br>Recovered: 1<br>Death: 0",
          "Comfirmed: 8<br>Recovered: 0<br>Death: 0",
          "Comfirmed: 8<br>Recovered: 0<br>Death: 0",
          "Comfirmed: 7<br>Recovered: 0<br>Death: 0",
          "Comfirmed: 5<br>Recovered: 0<br>Death: 0",
          "Comfirmed: 4<br>Recovered: 3<br>Death: 0",
          "Comfirmed: 4<br>Recovered: 2<br>Death: 0",
          "Comfirmed: 4<br>Recovered: 0<br>Death: 0",
          "Comfirmed: 3<br>Recovered: 0<br>Death: 0",
          "Comfirmed: 3<br>Recovered: 0<br>Death: 0",
          "Comfirmed: 3<br>Recovered: 2<br>Death: 1",
          "Comfirmed: 3<br>Recovered: 0<br>Death: 0",
          "Comfirmed: 2<br>Recovered: 0<br>Death: 0",
          "Comfirmed: 2<br>Recovered: 2<br>Death: 0",
          "Comfirmed: 2<br>Recovered: 0<br>Death: 0",
          "Comfirmed: 2<br>Recovered: 0<br>Death: 0",
          "Comfirmed: 1<br>Recovered: 1<br>Death: 0",
          "Comfirmed: 1<br>Recovered: 1<br>Death: 0",
          "Comfirmed: 1<br>Recovered: 1<br>Death: 0",
          "Comfirmed: 1<br>Recovered: 0<br>Death: 0",
          "Comfirmed: 1<br>Recovered: 0<br>Death: 0",
          "Comfirmed: 1<br>Recovered: 0<br>Death: 0",
          "Comfirmed: 1<br>Recovered: 0<br>Death: 0",
          "Comfirmed: 1<br>Recovered: 0<br>Death: 0",
          "Comfirmed: 1<br>Recovered: 0<br>Death: 0",
          "Comfirmed: 1<br>Recovered: 0<br>Death: 0",
          "Comfirmed: 1<br>Recovered: 0<br>Death: 0"
         ],
         "lat": [
          31.151725199999998,
          23.135769399999997,
          29.000000099999998,
          34.0000001,
          27.6662087,
          32,
          28,
          33.0000001,
          29.5585712,
          36.0000001,
          30.500000099999998,
          39.906217,
          48.000004700000005,
          31.225298499999997,
          26.5450001,
          39.0000001,
          36,
          24,
          25,
          19.2000001,
          35.444990999999995,
          37,
          27,
          40.9739116,
          39.1235635,
          38.0000001,
          42.9995032,
          43.2443242,
          37.3095528,
          41.7574769,
          1.340863,
          22.2793278,
          18.7544594,
          36.5581914,
          34.9046568,
          35.40709520000001,
          23.973937399999997,
          4.5693754,
          51.38762620000001,
          13.2904027,
          45.1562575,
          22.175760500000003,
          54.702354500000006,
          24.0002488,
          36.7014631,
          -27.468968199999996,
          -33.8548157,
          -37.814217600000006,
          55.001251,
          50.000678,
          16.387698699999998,
          12.750348599999999,
          46.3144754,
          48.278378499999995,
          40.079660600000004,
          -34.928180499999996,
          39.3262345,
          13.5066394,
          63.2467777,
          7.189522099999999,
          31.894343199999998,
          28.108392900000002,
          63.4352121,
          42.3788774,
          47.2868352,
          34.395342,
          50.8436709,
          44.4308975
         ],
         "lon": [
          112.87832220000001,
          113.19826880000001,
          119.9999999,
          113.9999999,
          111.74870630000001,
          117,
          116,
          119.9999999,
          106.5492822,
          118.9999999,
          102.4999999,
          116.3912757,
          127.99999199999999,
          121.4890497,
          117.84277800000001,
          116,
          109,
          109,
          102,
          109.5999999,
          139.636768,
          112,
          107,
          122.3263915,
          117.1980785,
          101.9999999,
          125.9816054,
          114.32516640000001,
          105.9608553,
          87.1673842,
          103.8303918,
          114.16281310000001,
          100.624804,
          127.9408564,
          136.6310496,
          95.95211570000001,
          120.9820179,
          102.2656823,
          7.0015229,
          108.42651129999999,
          5.451582900000001,
          113.5514142,
          -3.2765752999999997,
          53.999482900000004,
          -118.75599740000001,
          153.02349909999998,
          151.2164539,
          144.9631608,
          -125.00244099999999,
          -86.000977,
          73.7305913,
          122.7312101,
          11.0480288,
          46.166364200000004,
          -89.4337288,
          138.5999312,
          -4.838064900000001,
          104.869423,
          25.9209164,
          79.95485740000001,
          87.07813709999999,
          84.0917139,
          14.829086300000002,
          -72.03236600000001,
          -120.2126139,
          -111.76327549999999,
          4.3674367,
          -89.6884637
         ],
         "marker": {
          "color": "#ca261d",
          "size": [
           178.12355262569855,
           34.307433596816885,
           33.421549934136806,
           33.24154027718932,
           30.199337741083,
           29.32575659723036,
           28.35489375751565,
           22.693611435820433,
           22.045407685048602,
           22.045407685048602,
           20.42057785666214,
           18.49324200890693,
           18.973665961010276,
           17.378147196982766,
           16.34013463836819,
           15.459624833740307,
           14.798648586948742,
           14.66287829861518,
           12.206555615733702,
           11.916375287812984,
           11.61895003862225,
           11.045361017187261,
           10.862780491200215,
           10.392304845413264,
           10.099504938362077,
           9.273618495495704,
           9,
           7.615773105863909,
           7.280109889280518,
           7.416198487095663,
           6.708203932499369,
           6.48074069840786,
           5.656854249492381,
           5.291502622129181,
           5.0990195135927845,
           4.242640687119285,
           4.242640687119285,
           4.242640687119285,
           3.7416573867739413,
           3.7416573867739413,
           3.3166247903554,
           3.1622776601683795,
           2.8284271247461903,
           2.8284271247461903,
           2.6457513110645907,
           2.23606797749979,
           2,
           2,
           2,
           1.7320508075688772,
           1.7320508075688772,
           1.7320508075688772,
           1.7320508075688772,
           1.4142135623730951,
           1.4142135623730951,
           1.4142135623730951,
           1.4142135623730951,
           1,
           1,
           1,
           1,
           1,
           1,
           1,
           1,
           1,
           1,
           1
          ],
          "sizemin": 1,
          "sizemode": "area",
          "sizeref": 0.03562471052513971
         },
         "mode": "markers",
         "text": [
          "Hubei, China",
          "Guangdong, China",
          "Zhejiang, China",
          "Henan, China",
          "Hunan, China",
          "Anhui, China",
          "Jiangxi, China",
          "Jiangsu, China",
          "Chongqing, China",
          "Shandong, China",
          "Sichuan, China",
          "Beijing, China",
          "Heilongjiang, China",
          "Shanghai, China",
          "Fujian, China",
          "Hebei, China",
          "Shaanxi, China",
          "Guangxi, China",
          "Yunnan, China",
          "Hainan, China",
          "Yokohama, Japan",
          "Shanxi, China",
          "Guizhou, China",
          "Liaoning, China",
          "Tianjin, China",
          "Gansu, China",
          "Jilin, China",
          "Inner Mongolia, China",
          "Ningxia, China",
          "Xinjiang, China",
          "Singapore",
          "Hong Kong",
          "Thailand",
          "South Korea",
          "Japan",
          "Qinghai, China",
          "Taiwan",
          "Malaysia",
          "Germany",
          "Vietnam",
          "France",
          "Macau",
          "UK",
          "United Arab Emirates",
          "California, US",
          "Brisbane, Australia",
          "Sydney, Australia",
          "Melbourne, Australia",
          "British Columbia, Canada",
          "Ontario, Canada",
          "India",
          "Philippines",
          "Italy",
          "Russia",
          "Illinois, US",
          "Adelaide, Australia",
          "Spain",
          "Cambodia",
          "Finland",
          "Sri Lanka",
          "Tibet, China",
          "Nepal",
          "Sweden",
          "Massachusetts, US",
          "WA, US",
          "Arizona, US",
          "Brussels, Belgium",
          "WI, US"
         ],
         "type": "scattermapbox"
        }
       ],
       "layout": {
        "hovermode": "closest",
        "mapbox": {
         "accesstoken": "pk.eyJ1IjoicGxvdGx5bWFwYm94IiwiYSI6ImNqdnBvNDMyaTAxYzkzeW5ubWdpZ2VjbmMifQ.TXcBE-xg9BFdV2ocecc_7g",
         "bearing": 0,
         "center": {
          "lat": 31.1517252,
          "lon": 112.8783222
         },
         "pitch": 0,
         "style": "light",
         "zoom": 4
        },
        "margin": {
         "b": 10,
         "l": 10,
         "pad": 40,
         "r": 10,
         "t": 0
        },
        "paper_bgcolor": "#cbd2d3",
        "plot_bgcolor": "#151920",
        "template": {
         "data": {
          "bar": [
           {
            "error_x": {
             "color": "#2a3f5f"
            },
            "error_y": {
             "color": "#2a3f5f"
            },
            "marker": {
             "line": {
              "color": "#E5ECF6",
              "width": 0.5
             }
            },
            "type": "bar"
           }
          ],
          "barpolar": [
           {
            "marker": {
             "line": {
              "color": "#E5ECF6",
              "width": 0.5
             }
            },
            "type": "barpolar"
           }
          ],
          "carpet": [
           {
            "aaxis": {
             "endlinecolor": "#2a3f5f",
             "gridcolor": "white",
             "linecolor": "white",
             "minorgridcolor": "white",
             "startlinecolor": "#2a3f5f"
            },
            "baxis": {
             "endlinecolor": "#2a3f5f",
             "gridcolor": "white",
             "linecolor": "white",
             "minorgridcolor": "white",
             "startlinecolor": "#2a3f5f"
            },
            "type": "carpet"
           }
          ],
          "choropleth": [
           {
            "colorbar": {
             "outlinewidth": 0,
             "ticks": ""
            },
            "type": "choropleth"
           }
          ],
          "contour": [
           {
            "colorbar": {
             "outlinewidth": 0,
             "ticks": ""
            },
            "colorscale": [
             [
              0,
              "#0d0887"
             ],
             [
              0.1111111111111111,
              "#46039f"
             ],
             [
              0.2222222222222222,
              "#7201a8"
             ],
             [
              0.3333333333333333,
              "#9c179e"
             ],
             [
              0.4444444444444444,
              "#bd3786"
             ],
             [
              0.5555555555555556,
              "#d8576b"
             ],
             [
              0.6666666666666666,
              "#ed7953"
             ],
             [
              0.7777777777777778,
              "#fb9f3a"
             ],
             [
              0.8888888888888888,
              "#fdca26"
             ],
             [
              1,
              "#f0f921"
             ]
            ],
            "type": "contour"
           }
          ],
          "contourcarpet": [
           {
            "colorbar": {
             "outlinewidth": 0,
             "ticks": ""
            },
            "type": "contourcarpet"
           }
          ],
          "heatmap": [
           {
            "colorbar": {
             "outlinewidth": 0,
             "ticks": ""
            },
            "colorscale": [
             [
              0,
              "#0d0887"
             ],
             [
              0.1111111111111111,
              "#46039f"
             ],
             [
              0.2222222222222222,
              "#7201a8"
             ],
             [
              0.3333333333333333,
              "#9c179e"
             ],
             [
              0.4444444444444444,
              "#bd3786"
             ],
             [
              0.5555555555555556,
              "#d8576b"
             ],
             [
              0.6666666666666666,
              "#ed7953"
             ],
             [
              0.7777777777777778,
              "#fb9f3a"
             ],
             [
              0.8888888888888888,
              "#fdca26"
             ],
             [
              1,
              "#f0f921"
             ]
            ],
            "type": "heatmap"
           }
          ],
          "heatmapgl": [
           {
            "colorbar": {
             "outlinewidth": 0,
             "ticks": ""
            },
            "colorscale": [
             [
              0,
              "#0d0887"
             ],
             [
              0.1111111111111111,
              "#46039f"
             ],
             [
              0.2222222222222222,
              "#7201a8"
             ],
             [
              0.3333333333333333,
              "#9c179e"
             ],
             [
              0.4444444444444444,
              "#bd3786"
             ],
             [
              0.5555555555555556,
              "#d8576b"
             ],
             [
              0.6666666666666666,
              "#ed7953"
             ],
             [
              0.7777777777777778,
              "#fb9f3a"
             ],
             [
              0.8888888888888888,
              "#fdca26"
             ],
             [
              1,
              "#f0f921"
             ]
            ],
            "type": "heatmapgl"
           }
          ],
          "histogram": [
           {
            "marker": {
             "colorbar": {
              "outlinewidth": 0,
              "ticks": ""
             }
            },
            "type": "histogram"
           }
          ],
          "histogram2d": [
           {
            "colorbar": {
             "outlinewidth": 0,
             "ticks": ""
            },
            "colorscale": [
             [
              0,
              "#0d0887"
             ],
             [
              0.1111111111111111,
              "#46039f"
             ],
             [
              0.2222222222222222,
              "#7201a8"
             ],
             [
              0.3333333333333333,
              "#9c179e"
             ],
             [
              0.4444444444444444,
              "#bd3786"
             ],
             [
              0.5555555555555556,
              "#d8576b"
             ],
             [
              0.6666666666666666,
              "#ed7953"
             ],
             [
              0.7777777777777778,
              "#fb9f3a"
             ],
             [
              0.8888888888888888,
              "#fdca26"
             ],
             [
              1,
              "#f0f921"
             ]
            ],
            "type": "histogram2d"
           }
          ],
          "histogram2dcontour": [
           {
            "colorbar": {
             "outlinewidth": 0,
             "ticks": ""
            },
            "colorscale": [
             [
              0,
              "#0d0887"
             ],
             [
              0.1111111111111111,
              "#46039f"
             ],
             [
              0.2222222222222222,
              "#7201a8"
             ],
             [
              0.3333333333333333,
              "#9c179e"
             ],
             [
              0.4444444444444444,
              "#bd3786"
             ],
             [
              0.5555555555555556,
              "#d8576b"
             ],
             [
              0.6666666666666666,
              "#ed7953"
             ],
             [
              0.7777777777777778,
              "#fb9f3a"
             ],
             [
              0.8888888888888888,
              "#fdca26"
             ],
             [
              1,
              "#f0f921"
             ]
            ],
            "type": "histogram2dcontour"
           }
          ],
          "mesh3d": [
           {
            "colorbar": {
             "outlinewidth": 0,
             "ticks": ""
            },
            "type": "mesh3d"
           }
          ],
          "parcoords": [
           {
            "line": {
             "colorbar": {
              "outlinewidth": 0,
              "ticks": ""
             }
            },
            "type": "parcoords"
           }
          ],
          "pie": [
           {
            "automargin": true,
            "type": "pie"
           }
          ],
          "scatter": [
           {
            "marker": {
             "colorbar": {
              "outlinewidth": 0,
              "ticks": ""
             }
            },
            "type": "scatter"
           }
          ],
          "scatter3d": [
           {
            "line": {
             "colorbar": {
              "outlinewidth": 0,
              "ticks": ""
             }
            },
            "marker": {
             "colorbar": {
              "outlinewidth": 0,
              "ticks": ""
             }
            },
            "type": "scatter3d"
           }
          ],
          "scattercarpet": [
           {
            "marker": {
             "colorbar": {
              "outlinewidth": 0,
              "ticks": ""
             }
            },
            "type": "scattercarpet"
           }
          ],
          "scattergeo": [
           {
            "marker": {
             "colorbar": {
              "outlinewidth": 0,
              "ticks": ""
             }
            },
            "type": "scattergeo"
           }
          ],
          "scattergl": [
           {
            "marker": {
             "colorbar": {
              "outlinewidth": 0,
              "ticks": ""
             }
            },
            "type": "scattergl"
           }
          ],
          "scattermapbox": [
           {
            "marker": {
             "colorbar": {
              "outlinewidth": 0,
              "ticks": ""
             }
            },
            "type": "scattermapbox"
           }
          ],
          "scatterpolar": [
           {
            "marker": {
             "colorbar": {
              "outlinewidth": 0,
              "ticks": ""
             }
            },
            "type": "scatterpolar"
           }
          ],
          "scatterpolargl": [
           {
            "marker": {
             "colorbar": {
              "outlinewidth": 0,
              "ticks": ""
             }
            },
            "type": "scatterpolargl"
           }
          ],
          "scatterternary": [
           {
            "marker": {
             "colorbar": {
              "outlinewidth": 0,
              "ticks": ""
             }
            },
            "type": "scatterternary"
           }
          ],
          "surface": [
           {
            "colorbar": {
             "outlinewidth": 0,
             "ticks": ""
            },
            "colorscale": [
             [
              0,
              "#0d0887"
             ],
             [
              0.1111111111111111,
              "#46039f"
             ],
             [
              0.2222222222222222,
              "#7201a8"
             ],
             [
              0.3333333333333333,
              "#9c179e"
             ],
             [
              0.4444444444444444,
              "#bd3786"
             ],
             [
              0.5555555555555556,
              "#d8576b"
             ],
             [
              0.6666666666666666,
              "#ed7953"
             ],
             [
              0.7777777777777778,
              "#fb9f3a"
             ],
             [
              0.8888888888888888,
              "#fdca26"
             ],
             [
              1,
              "#f0f921"
             ]
            ],
            "type": "surface"
           }
          ],
          "table": [
           {
            "cells": {
             "fill": {
              "color": "#EBF0F8"
             },
             "line": {
              "color": "white"
             }
            },
            "header": {
             "fill": {
              "color": "#C8D4E3"
             },
             "line": {
              "color": "white"
             }
            },
            "type": "table"
           }
          ]
         },
         "layout": {
          "annotationdefaults": {
           "arrowcolor": "#2a3f5f",
           "arrowhead": 0,
           "arrowwidth": 1
          },
          "coloraxis": {
           "colorbar": {
            "outlinewidth": 0,
            "ticks": ""
           }
          },
          "colorscale": {
           "diverging": [
            [
             0,
             "#8e0152"
            ],
            [
             0.1,
             "#c51b7d"
            ],
            [
             0.2,
             "#de77ae"
            ],
            [
             0.3,
             "#f1b6da"
            ],
            [
             0.4,
             "#fde0ef"
            ],
            [
             0.5,
             "#f7f7f7"
            ],
            [
             0.6,
             "#e6f5d0"
            ],
            [
             0.7,
             "#b8e186"
            ],
            [
             0.8,
             "#7fbc41"
            ],
            [
             0.9,
             "#4d9221"
            ],
            [
             1,
             "#276419"
            ]
           ],
           "sequential": [
            [
             0,
             "#0d0887"
            ],
            [
             0.1111111111111111,
             "#46039f"
            ],
            [
             0.2222222222222222,
             "#7201a8"
            ],
            [
             0.3333333333333333,
             "#9c179e"
            ],
            [
             0.4444444444444444,
             "#bd3786"
            ],
            [
             0.5555555555555556,
             "#d8576b"
            ],
            [
             0.6666666666666666,
             "#ed7953"
            ],
            [
             0.7777777777777778,
             "#fb9f3a"
            ],
            [
             0.8888888888888888,
             "#fdca26"
            ],
            [
             1,
             "#f0f921"
            ]
           ],
           "sequentialminus": [
            [
             0,
             "#0d0887"
            ],
            [
             0.1111111111111111,
             "#46039f"
            ],
            [
             0.2222222222222222,
             "#7201a8"
            ],
            [
             0.3333333333333333,
             "#9c179e"
            ],
            [
             0.4444444444444444,
             "#bd3786"
            ],
            [
             0.5555555555555556,
             "#d8576b"
            ],
            [
             0.6666666666666666,
             "#ed7953"
            ],
            [
             0.7777777777777778,
             "#fb9f3a"
            ],
            [
             0.8888888888888888,
             "#fdca26"
            ],
            [
             1,
             "#f0f921"
            ]
           ]
          },
          "colorway": [
           "#636efa",
           "#EF553B",
           "#00cc96",
           "#ab63fa",
           "#FFA15A",
           "#19d3f3",
           "#FF6692",
           "#B6E880",
           "#FF97FF",
           "#FECB52"
          ],
          "font": {
           "color": "#2a3f5f"
          },
          "geo": {
           "bgcolor": "white",
           "lakecolor": "white",
           "landcolor": "#E5ECF6",
           "showlakes": true,
           "showland": true,
           "subunitcolor": "white"
          },
          "hoverlabel": {
           "align": "left"
          },
          "hovermode": "closest",
          "mapbox": {
           "style": "light"
          },
          "paper_bgcolor": "white",
          "plot_bgcolor": "#E5ECF6",
          "polar": {
           "angularaxis": {
            "gridcolor": "white",
            "linecolor": "white",
            "ticks": ""
           },
           "bgcolor": "#E5ECF6",
           "radialaxis": {
            "gridcolor": "white",
            "linecolor": "white",
            "ticks": ""
           }
          },
          "scene": {
           "xaxis": {
            "backgroundcolor": "#E5ECF6",
            "gridcolor": "white",
            "gridwidth": 2,
            "linecolor": "white",
            "showbackground": true,
            "ticks": "",
            "zerolinecolor": "white"
           },
           "yaxis": {
            "backgroundcolor": "#E5ECF6",
            "gridcolor": "white",
            "gridwidth": 2,
            "linecolor": "white",
            "showbackground": true,
            "ticks": "",
            "zerolinecolor": "white"
           },
           "zaxis": {
            "backgroundcolor": "#E5ECF6",
            "gridcolor": "white",
            "gridwidth": 2,
            "linecolor": "white",
            "showbackground": true,
            "ticks": "",
            "zerolinecolor": "white"
           }
          },
          "shapedefaults": {
           "line": {
            "color": "#2a3f5f"
           }
          },
          "ternary": {
           "aaxis": {
            "gridcolor": "white",
            "linecolor": "white",
            "ticks": ""
           },
           "baxis": {
            "gridcolor": "white",
            "linecolor": "white",
            "ticks": ""
           },
           "bgcolor": "#E5ECF6",
           "caxis": {
            "gridcolor": "white",
            "linecolor": "white",
            "ticks": ""
           }
          },
          "title": {
           "x": 0.05
          },
          "xaxis": {
           "automargin": true,
           "gridcolor": "white",
           "linecolor": "white",
           "ticks": "",
           "title": {
            "standoff": 15
           },
           "zerolinecolor": "white",
           "zerolinewidth": 2
          },
          "yaxis": {
           "automargin": true,
           "gridcolor": "white",
           "linecolor": "white",
           "ticks": "",
           "title": {
            "standoff": 15
           },
           "zerolinecolor": "white",
           "zerolinewidth": 2
          }
         }
        }
       }
      },
      "text/html": [
       "<div>\n",
       "        \n",
       "        \n",
       "            <div id=\"eef1eb1a-cd2b-45e0-b67f-dea14ad512b7\" class=\"plotly-graph-div\" style=\"height:525px; width:100%;\"></div>\n",
       "            <script type=\"text/javascript\">\n",
       "                require([\"plotly\"], function(Plotly) {\n",
       "                    window.PLOTLYENV=window.PLOTLYENV || {};\n",
       "                    \n",
       "                if (document.getElementById(\"eef1eb1a-cd2b-45e0-b67f-dea14ad512b7\")) {\n",
       "                    Plotly.newPlot(\n",
       "                        'eef1eb1a-cd2b-45e0-b67f-dea14ad512b7',\n",
       "                        [{\"hovertemplate\": \"<b>%{text}</b><br><br>%{hovertext}<br><extra></extra>\", \"hovertext\": [\"Comfirmed: 31728<br>Recovered: 2222<br>Death: 974\", \"Comfirmed: 1177<br>Recovered: 181<br>Death: 1\", \"Comfirmed: 1117<br>Recovered: 250<br>Death: 0\", \"Comfirmed: 1105<br>Recovered: 198<br>Death: 7\", \"Comfirmed: 912<br>Recovered: 213<br>Death: 1\", \"Comfirmed: 860<br>Recovered: 108<br>Death: 4\", \"Comfirmed: 804<br>Recovered: 127<br>Death: 1\", \"Comfirmed: 515<br>Recovered: 84<br>Death: 0\", \"Comfirmed: 486<br>Recovered: 66<br>Death: 2\", \"Comfirmed: 486<br>Recovered: 71<br>Death: 1\", \"Comfirmed: 417<br>Recovered: 82<br>Death: 1\", \"Comfirmed: 342<br>Recovered: 48<br>Death: 3\", \"Comfirmed: 360<br>Recovered: 30<br>Death: 8\", \"Comfirmed: 302<br>Recovered: 52<br>Death: 1\", \"Comfirmed: 267<br>Recovered: 39<br>Death: 0\", \"Comfirmed: 239<br>Recovered: 41<br>Death: 2\", \"Comfirmed: 219<br>Recovered: 31<br>Death: 0\", \"Comfirmed: 215<br>Recovered: 30<br>Death: 1\", \"Comfirmed: 149<br>Recovered: 19<br>Death: 0\", \"Comfirmed: 142<br>Recovered: 19<br>Death: 3\", \"Comfirmed: 135<br>Recovered: 0<br>Death: 0\", \"Comfirmed: 122<br>Recovered: 26<br>Death: 0\", \"Comfirmed: 118<br>Recovered: 10<br>Death: 1\", \"Comfirmed: 108<br>Recovered: 13<br>Death: 0\", \"Comfirmed: 102<br>Recovered: 8<br>Death: 2\", \"Comfirmed: 86<br>Recovered: 21<br>Death: 2\", \"Comfirmed: 81<br>Recovered: 13<br>Death: 1\", \"Comfirmed: 58<br>Recovered: 5<br>Death: 0\", \"Comfirmed: 53<br>Recovered: 14<br>Death: 0\", \"Comfirmed: 55<br>Recovered: 0<br>Death: 0\", \"Comfirmed: 45<br>Recovered: 7<br>Death: 0\", \"Comfirmed: 42<br>Recovered: 0<br>Death: 1\", \"Comfirmed: 32<br>Recovered: 10<br>Death: 0\", \"Comfirmed: 28<br>Recovered: 3<br>Death: 0\", \"Comfirmed: 26<br>Recovered: 4<br>Death: 0\", \"Comfirmed: 18<br>Recovered: 3<br>Death: 0\", \"Comfirmed: 18<br>Recovered: 1<br>Death: 0\", \"Comfirmed: 18<br>Recovered: 3<br>Death: 0\", \"Comfirmed: 14<br>Recovered: 0<br>Death: 0\", \"Comfirmed: 14<br>Recovered: 3<br>Death: 0\", \"Comfirmed: 11<br>Recovered: 0<br>Death: 0\", \"Comfirmed: 10<br>Recovered: 1<br>Death: 0\", \"Comfirmed: 8<br>Recovered: 0<br>Death: 0\", \"Comfirmed: 8<br>Recovered: 0<br>Death: 0\", \"Comfirmed: 7<br>Recovered: 0<br>Death: 0\", \"Comfirmed: 5<br>Recovered: 0<br>Death: 0\", \"Comfirmed: 4<br>Recovered: 3<br>Death: 0\", \"Comfirmed: 4<br>Recovered: 2<br>Death: 0\", \"Comfirmed: 4<br>Recovered: 0<br>Death: 0\", \"Comfirmed: 3<br>Recovered: 0<br>Death: 0\", \"Comfirmed: 3<br>Recovered: 0<br>Death: 0\", \"Comfirmed: 3<br>Recovered: 2<br>Death: 1\", \"Comfirmed: 3<br>Recovered: 0<br>Death: 0\", \"Comfirmed: 2<br>Recovered: 0<br>Death: 0\", \"Comfirmed: 2<br>Recovered: 2<br>Death: 0\", \"Comfirmed: 2<br>Recovered: 0<br>Death: 0\", \"Comfirmed: 2<br>Recovered: 0<br>Death: 0\", \"Comfirmed: 1<br>Recovered: 1<br>Death: 0\", \"Comfirmed: 1<br>Recovered: 1<br>Death: 0\", \"Comfirmed: 1<br>Recovered: 1<br>Death: 0\", \"Comfirmed: 1<br>Recovered: 0<br>Death: 0\", \"Comfirmed: 1<br>Recovered: 0<br>Death: 0\", \"Comfirmed: 1<br>Recovered: 0<br>Death: 0\", \"Comfirmed: 1<br>Recovered: 0<br>Death: 0\", \"Comfirmed: 1<br>Recovered: 0<br>Death: 0\", \"Comfirmed: 1<br>Recovered: 0<br>Death: 0\", \"Comfirmed: 1<br>Recovered: 0<br>Death: 0\", \"Comfirmed: 1<br>Recovered: 0<br>Death: 0\"], \"lat\": [31.151725199999998, 23.135769399999997, 29.000000099999998, 34.0000001, 27.6662087, 32.0, 28.0, 33.0000001, 29.5585712, 36.0000001, 30.500000099999998, 39.906217, 48.000004700000005, 31.225298499999997, 26.5450001, 39.0000001, 36.0, 24.0, 25.0, 19.2000001, 35.444990999999995, 37.0, 27.0, 40.9739116, 39.1235635, 38.0000001, 42.9995032, 43.2443242, 37.3095528, 41.7574769, 1.340863, 22.2793278, 18.7544594, 36.5581914, 34.9046568, 35.40709520000001, 23.973937399999997, 4.5693754, 51.38762620000001, 13.2904027, 45.1562575, 22.175760500000003, 54.702354500000006, 24.0002488, 36.7014631, -27.468968199999996, -33.8548157, -37.814217600000006, 55.001251, 50.000678, 16.387698699999998, 12.750348599999999, 46.3144754, 48.278378499999995, 40.079660600000004, -34.928180499999996, 39.3262345, 13.5066394, 63.2467777, 7.189522099999999, 31.894343199999998, 28.108392900000002, 63.4352121, 42.3788774, 47.2868352, 34.395342, 50.8436709, 44.4308975], \"lon\": [112.87832220000001, 113.19826880000001, 119.9999999, 113.9999999, 111.74870630000001, 117.0, 116.0, 119.9999999, 106.5492822, 118.9999999, 102.4999999, 116.3912757, 127.99999199999999, 121.4890497, 117.84277800000001, 116.0, 109.0, 109.0, 102.0, 109.5999999, 139.636768, 112.0, 107.0, 122.3263915, 117.1980785, 101.9999999, 125.9816054, 114.32516640000001, 105.9608553, 87.1673842, 103.8303918, 114.16281310000001, 100.624804, 127.9408564, 136.6310496, 95.95211570000001, 120.9820179, 102.2656823, 7.0015229, 108.42651129999999, 5.451582900000001, 113.5514142, -3.2765752999999997, 53.999482900000004, -118.75599740000001, 153.02349909999998, 151.2164539, 144.9631608, -125.00244099999999, -86.000977, 73.7305913, 122.7312101, 11.0480288, 46.166364200000004, -89.4337288, 138.5999312, -4.838064900000001, 104.869423, 25.9209164, 79.95485740000001, 87.07813709999999, 84.0917139, 14.829086300000002, -72.03236600000001, -120.2126139, -111.76327549999999, 4.3674367, -89.6884637], \"marker\": {\"color\": \"#ca261d\", \"size\": [178.12355262569855, 34.307433596816885, 33.421549934136806, 33.24154027718932, 30.199337741083, 29.32575659723036, 28.35489375751565, 22.693611435820433, 22.045407685048602, 22.045407685048602, 20.42057785666214, 18.49324200890693, 18.973665961010276, 17.378147196982766, 16.34013463836819, 15.459624833740307, 14.798648586948742, 14.66287829861518, 12.206555615733702, 11.916375287812984, 11.61895003862225, 11.045361017187261, 10.862780491200215, 10.392304845413264, 10.099504938362077, 9.273618495495704, 9.0, 7.615773105863909, 7.280109889280518, 7.416198487095663, 6.708203932499369, 6.48074069840786, 5.656854249492381, 5.291502622129181, 5.0990195135927845, 4.242640687119285, 4.242640687119285, 4.242640687119285, 3.7416573867739413, 3.7416573867739413, 3.3166247903554, 3.1622776601683795, 2.8284271247461903, 2.8284271247461903, 2.6457513110645907, 2.23606797749979, 2.0, 2.0, 2.0, 1.7320508075688772, 1.7320508075688772, 1.7320508075688772, 1.7320508075688772, 1.4142135623730951, 1.4142135623730951, 1.4142135623730951, 1.4142135623730951, 1.0, 1.0, 1.0, 1.0, 1.0, 1.0, 1.0, 1.0, 1.0, 1.0, 1.0], \"sizemin\": 1, \"sizemode\": \"area\", \"sizeref\": 0.03562471052513971}, \"mode\": \"markers\", \"text\": [\"Hubei, China\", \"Guangdong, China\", \"Zhejiang, China\", \"Henan, China\", \"Hunan, China\", \"Anhui, China\", \"Jiangxi, China\", \"Jiangsu, China\", \"Chongqing, China\", \"Shandong, China\", \"Sichuan, China\", \"Beijing, China\", \"Heilongjiang, China\", \"Shanghai, China\", \"Fujian, China\", \"Hebei, China\", \"Shaanxi, China\", \"Guangxi, China\", \"Yunnan, China\", \"Hainan, China\", \"Yokohama, Japan\", \"Shanxi, China\", \"Guizhou, China\", \"Liaoning, China\", \"Tianjin, China\", \"Gansu, China\", \"Jilin, China\", \"Inner Mongolia, China\", \"Ningxia, China\", \"Xinjiang, China\", \"Singapore\", \"Hong Kong\", \"Thailand\", \"South Korea\", \"Japan\", \"Qinghai, China\", \"Taiwan\", \"Malaysia\", \"Germany\", \"Vietnam\", \"France\", \"Macau\", \"UK\", \"United Arab Emirates\", \"California, US\", \"Brisbane, Australia\", \"Sydney, Australia\", \"Melbourne, Australia\", \"British Columbia, Canada\", \"Ontario, Canada\", \"India\", \"Philippines\", \"Italy\", \"Russia\", \"Illinois, US\", \"Adelaide, Australia\", \"Spain\", \"Cambodia\", \"Finland\", \"Sri Lanka\", \"Tibet, China\", \"Nepal\", \"Sweden\", \"Massachusetts, US\", \"WA, US\", \"Arizona, US\", \"Brussels, Belgium\", \"WI, US\"], \"type\": \"scattermapbox\"}],\n",
       "                        {\"hovermode\": \"closest\", \"mapbox\": {\"accesstoken\": \"pk.eyJ1IjoicGxvdGx5bWFwYm94IiwiYSI6ImNqdnBvNDMyaTAxYzkzeW5ubWdpZ2VjbmMifQ.TXcBE-xg9BFdV2ocecc_7g\", \"bearing\": 0, \"center\": {\"lat\": 31.1517252, \"lon\": 112.8783222}, \"pitch\": 0, \"style\": \"light\", \"zoom\": 4}, \"margin\": {\"b\": 10, \"l\": 10, \"pad\": 40, \"r\": 10, \"t\": 0}, \"paper_bgcolor\": \"#cbd2d3\", \"plot_bgcolor\": \"#151920\", \"template\": {\"data\": {\"bar\": [{\"error_x\": {\"color\": \"#2a3f5f\"}, \"error_y\": {\"color\": \"#2a3f5f\"}, \"marker\": {\"line\": {\"color\": \"#E5ECF6\", \"width\": 0.5}}, \"type\": \"bar\"}], \"barpolar\": [{\"marker\": {\"line\": {\"color\": \"#E5ECF6\", \"width\": 0.5}}, \"type\": \"barpolar\"}], \"carpet\": [{\"aaxis\": {\"endlinecolor\": \"#2a3f5f\", \"gridcolor\": \"white\", \"linecolor\": \"white\", \"minorgridcolor\": \"white\", \"startlinecolor\": \"#2a3f5f\"}, \"baxis\": {\"endlinecolor\": \"#2a3f5f\", \"gridcolor\": \"white\", \"linecolor\": \"white\", \"minorgridcolor\": \"white\", \"startlinecolor\": \"#2a3f5f\"}, \"type\": \"carpet\"}], \"choropleth\": [{\"colorbar\": {\"outlinewidth\": 0, \"ticks\": \"\"}, \"type\": \"choropleth\"}], \"contour\": [{\"colorbar\": {\"outlinewidth\": 0, \"ticks\": \"\"}, \"colorscale\": [[0.0, \"#0d0887\"], [0.1111111111111111, \"#46039f\"], [0.2222222222222222, \"#7201a8\"], [0.3333333333333333, \"#9c179e\"], [0.4444444444444444, \"#bd3786\"], [0.5555555555555556, \"#d8576b\"], [0.6666666666666666, \"#ed7953\"], [0.7777777777777778, \"#fb9f3a\"], [0.8888888888888888, \"#fdca26\"], [1.0, \"#f0f921\"]], \"type\": \"contour\"}], \"contourcarpet\": [{\"colorbar\": {\"outlinewidth\": 0, \"ticks\": \"\"}, \"type\": \"contourcarpet\"}], \"heatmap\": [{\"colorbar\": {\"outlinewidth\": 0, \"ticks\": \"\"}, \"colorscale\": [[0.0, \"#0d0887\"], [0.1111111111111111, \"#46039f\"], [0.2222222222222222, \"#7201a8\"], [0.3333333333333333, \"#9c179e\"], [0.4444444444444444, \"#bd3786\"], [0.5555555555555556, \"#d8576b\"], [0.6666666666666666, \"#ed7953\"], [0.7777777777777778, \"#fb9f3a\"], [0.8888888888888888, \"#fdca26\"], [1.0, \"#f0f921\"]], \"type\": \"heatmap\"}], \"heatmapgl\": [{\"colorbar\": {\"outlinewidth\": 0, \"ticks\": \"\"}, \"colorscale\": [[0.0, \"#0d0887\"], [0.1111111111111111, \"#46039f\"], [0.2222222222222222, \"#7201a8\"], [0.3333333333333333, \"#9c179e\"], [0.4444444444444444, \"#bd3786\"], [0.5555555555555556, \"#d8576b\"], [0.6666666666666666, \"#ed7953\"], [0.7777777777777778, \"#fb9f3a\"], [0.8888888888888888, \"#fdca26\"], [1.0, \"#f0f921\"]], \"type\": \"heatmapgl\"}], \"histogram\": [{\"marker\": {\"colorbar\": {\"outlinewidth\": 0, \"ticks\": \"\"}}, \"type\": \"histogram\"}], \"histogram2d\": [{\"colorbar\": {\"outlinewidth\": 0, \"ticks\": \"\"}, \"colorscale\": [[0.0, \"#0d0887\"], [0.1111111111111111, \"#46039f\"], [0.2222222222222222, \"#7201a8\"], [0.3333333333333333, \"#9c179e\"], [0.4444444444444444, \"#bd3786\"], [0.5555555555555556, \"#d8576b\"], [0.6666666666666666, \"#ed7953\"], [0.7777777777777778, \"#fb9f3a\"], [0.8888888888888888, \"#fdca26\"], [1.0, \"#f0f921\"]], \"type\": \"histogram2d\"}], \"histogram2dcontour\": [{\"colorbar\": {\"outlinewidth\": 0, \"ticks\": \"\"}, \"colorscale\": [[0.0, \"#0d0887\"], [0.1111111111111111, \"#46039f\"], [0.2222222222222222, \"#7201a8\"], [0.3333333333333333, \"#9c179e\"], [0.4444444444444444, \"#bd3786\"], [0.5555555555555556, \"#d8576b\"], [0.6666666666666666, \"#ed7953\"], [0.7777777777777778, \"#fb9f3a\"], [0.8888888888888888, \"#fdca26\"], [1.0, \"#f0f921\"]], \"type\": \"histogram2dcontour\"}], \"mesh3d\": [{\"colorbar\": {\"outlinewidth\": 0, \"ticks\": \"\"}, \"type\": \"mesh3d\"}], \"parcoords\": [{\"line\": {\"colorbar\": {\"outlinewidth\": 0, \"ticks\": \"\"}}, \"type\": \"parcoords\"}], \"pie\": [{\"automargin\": true, \"type\": \"pie\"}], \"scatter\": [{\"marker\": {\"colorbar\": {\"outlinewidth\": 0, \"ticks\": \"\"}}, \"type\": \"scatter\"}], \"scatter3d\": [{\"line\": {\"colorbar\": {\"outlinewidth\": 0, \"ticks\": \"\"}}, \"marker\": {\"colorbar\": {\"outlinewidth\": 0, \"ticks\": \"\"}}, \"type\": \"scatter3d\"}], \"scattercarpet\": [{\"marker\": {\"colorbar\": {\"outlinewidth\": 0, \"ticks\": \"\"}}, \"type\": \"scattercarpet\"}], \"scattergeo\": [{\"marker\": {\"colorbar\": {\"outlinewidth\": 0, \"ticks\": \"\"}}, \"type\": \"scattergeo\"}], \"scattergl\": [{\"marker\": {\"colorbar\": {\"outlinewidth\": 0, \"ticks\": \"\"}}, \"type\": \"scattergl\"}], \"scattermapbox\": [{\"marker\": {\"colorbar\": {\"outlinewidth\": 0, \"ticks\": \"\"}}, \"type\": \"scattermapbox\"}], \"scatterpolar\": [{\"marker\": {\"colorbar\": {\"outlinewidth\": 0, \"ticks\": \"\"}}, \"type\": \"scatterpolar\"}], \"scatterpolargl\": [{\"marker\": {\"colorbar\": {\"outlinewidth\": 0, \"ticks\": \"\"}}, \"type\": \"scatterpolargl\"}], \"scatterternary\": [{\"marker\": {\"colorbar\": {\"outlinewidth\": 0, \"ticks\": \"\"}}, \"type\": \"scatterternary\"}], \"surface\": [{\"colorbar\": {\"outlinewidth\": 0, \"ticks\": \"\"}, \"colorscale\": [[0.0, \"#0d0887\"], [0.1111111111111111, \"#46039f\"], [0.2222222222222222, \"#7201a8\"], [0.3333333333333333, \"#9c179e\"], [0.4444444444444444, \"#bd3786\"], [0.5555555555555556, \"#d8576b\"], [0.6666666666666666, \"#ed7953\"], [0.7777777777777778, \"#fb9f3a\"], [0.8888888888888888, \"#fdca26\"], [1.0, \"#f0f921\"]], \"type\": \"surface\"}], \"table\": [{\"cells\": {\"fill\": {\"color\": \"#EBF0F8\"}, \"line\": {\"color\": \"white\"}}, \"header\": {\"fill\": {\"color\": \"#C8D4E3\"}, \"line\": {\"color\": \"white\"}}, \"type\": \"table\"}]}, \"layout\": {\"annotationdefaults\": {\"arrowcolor\": \"#2a3f5f\", \"arrowhead\": 0, \"arrowwidth\": 1}, \"coloraxis\": {\"colorbar\": {\"outlinewidth\": 0, \"ticks\": \"\"}}, \"colorscale\": {\"diverging\": [[0, \"#8e0152\"], [0.1, \"#c51b7d\"], [0.2, \"#de77ae\"], [0.3, \"#f1b6da\"], [0.4, \"#fde0ef\"], [0.5, \"#f7f7f7\"], [0.6, \"#e6f5d0\"], [0.7, \"#b8e186\"], [0.8, \"#7fbc41\"], [0.9, \"#4d9221\"], [1, \"#276419\"]], \"sequential\": [[0.0, \"#0d0887\"], [0.1111111111111111, \"#46039f\"], [0.2222222222222222, \"#7201a8\"], [0.3333333333333333, \"#9c179e\"], [0.4444444444444444, \"#bd3786\"], [0.5555555555555556, \"#d8576b\"], [0.6666666666666666, \"#ed7953\"], [0.7777777777777778, \"#fb9f3a\"], [0.8888888888888888, \"#fdca26\"], [1.0, \"#f0f921\"]], \"sequentialminus\": [[0.0, \"#0d0887\"], [0.1111111111111111, \"#46039f\"], [0.2222222222222222, \"#7201a8\"], [0.3333333333333333, \"#9c179e\"], [0.4444444444444444, \"#bd3786\"], [0.5555555555555556, \"#d8576b\"], [0.6666666666666666, \"#ed7953\"], [0.7777777777777778, \"#fb9f3a\"], [0.8888888888888888, \"#fdca26\"], [1.0, \"#f0f921\"]]}, \"colorway\": [\"#636efa\", \"#EF553B\", \"#00cc96\", \"#ab63fa\", \"#FFA15A\", \"#19d3f3\", \"#FF6692\", \"#B6E880\", \"#FF97FF\", \"#FECB52\"], \"font\": {\"color\": \"#2a3f5f\"}, \"geo\": {\"bgcolor\": \"white\", \"lakecolor\": \"white\", \"landcolor\": \"#E5ECF6\", \"showlakes\": true, \"showland\": true, \"subunitcolor\": \"white\"}, \"hoverlabel\": {\"align\": \"left\"}, \"hovermode\": \"closest\", \"mapbox\": {\"style\": \"light\"}, \"paper_bgcolor\": \"white\", \"plot_bgcolor\": \"#E5ECF6\", \"polar\": {\"angularaxis\": {\"gridcolor\": \"white\", \"linecolor\": \"white\", \"ticks\": \"\"}, \"bgcolor\": \"#E5ECF6\", \"radialaxis\": {\"gridcolor\": \"white\", \"linecolor\": \"white\", \"ticks\": \"\"}}, \"scene\": {\"xaxis\": {\"backgroundcolor\": \"#E5ECF6\", \"gridcolor\": \"white\", \"gridwidth\": 2, \"linecolor\": \"white\", \"showbackground\": true, \"ticks\": \"\", \"zerolinecolor\": \"white\"}, \"yaxis\": {\"backgroundcolor\": \"#E5ECF6\", \"gridcolor\": \"white\", \"gridwidth\": 2, \"linecolor\": \"white\", \"showbackground\": true, \"ticks\": \"\", \"zerolinecolor\": \"white\"}, \"zaxis\": {\"backgroundcolor\": \"#E5ECF6\", \"gridcolor\": \"white\", \"gridwidth\": 2, \"linecolor\": \"white\", \"showbackground\": true, \"ticks\": \"\", \"zerolinecolor\": \"white\"}}, \"shapedefaults\": {\"line\": {\"color\": \"#2a3f5f\"}}, \"ternary\": {\"aaxis\": {\"gridcolor\": \"white\", \"linecolor\": \"white\", \"ticks\": \"\"}, \"baxis\": {\"gridcolor\": \"white\", \"linecolor\": \"white\", \"ticks\": \"\"}, \"bgcolor\": \"#E5ECF6\", \"caxis\": {\"gridcolor\": \"white\", \"linecolor\": \"white\", \"ticks\": \"\"}}, \"title\": {\"x\": 0.05}, \"xaxis\": {\"automargin\": true, \"gridcolor\": \"white\", \"linecolor\": \"white\", \"ticks\": \"\", \"title\": {\"standoff\": 15}, \"zerolinecolor\": \"white\", \"zerolinewidth\": 2}, \"yaxis\": {\"automargin\": true, \"gridcolor\": \"white\", \"linecolor\": \"white\", \"ticks\": \"\", \"title\": {\"standoff\": 15}, \"zerolinecolor\": \"white\", \"zerolinewidth\": 2}}}},\n",
       "                        {\"responsive\": true}\n",
       "                    ).then(function(){\n",
       "                            \n",
       "var gd = document.getElementById('eef1eb1a-cd2b-45e0-b67f-dea14ad512b7');\n",
       "var x = new MutationObserver(function (mutations, observer) {{\n",
       "        var display = window.getComputedStyle(gd).display;\n",
       "        if (!display || display === 'none') {{\n",
       "            console.log([gd, 'removed!']);\n",
       "            Plotly.purge(gd);\n",
       "            observer.disconnect();\n",
       "        }}\n",
       "}});\n",
       "\n",
       "// Listen for the removal of the full notebook cells\n",
       "var notebookContainer = gd.closest('#notebook-container');\n",
       "if (notebookContainer) {{\n",
       "    x.observe(notebookContainer, {childList: true});\n",
       "}}\n",
       "\n",
       "// Listen for the clearing of the current output cell\n",
       "var outputEl = gd.closest('.output');\n",
       "if (outputEl) {{\n",
       "    x.observe(outputEl, {childList: true});\n",
       "}}\n",
       "\n",
       "                        })\n",
       "                };\n",
       "                });\n",
       "            </script>\n",
       "        </div>"
      ]
     },
     "metadata": {},
     "output_type": "display_data"
    }
   ],
   "source": [
    "mapbox_access_token = \"pk.eyJ1IjoicGxvdGx5bWFwYm94IiwiYSI6ImNqdnBvNDMyaTAxYzkzeW5ubWdpZ2VjbmMifQ.TXcBE-xg9BFdV2ocecc_7g\"\n",
    "\n",
    "# Generate a list for hover text display\n",
    "textList=[]\n",
    "for area, region in zip(dfs[keyList[0]]['Province/State'], dfs[keyList[0]]['Country/Region']):\n",
    "    \n",
    "    if type(area) is str:\n",
    "        if region == \"Hong Kong\" or region == \"Macau\" or region == \"Taiwan\":\n",
    "            textList.append(area)\n",
    "        else:\n",
    "            textList.append(area+', '+region)\n",
    "    else:\n",
    "        textList.append(region)\n",
    "\n",
    "fig2 = go.Figure(go.Scattermapbox(\n",
    "        lat=dfs[keyList[0]]['lat'],\n",
    "        lon=dfs[keyList[0]]['lon'],\n",
    "        mode='markers',\n",
    "        marker=go.scattermapbox.Marker(\n",
    "            color='#ca261d',\n",
    "            size=[math.sqrt(i) for i in dfs[keyList[0]]['Confirmed']], \n",
    "            sizemin=1,\n",
    "            sizemode='area',\n",
    "            sizeref=2.*max([math.sqrt(i) for i in dfs[keyList[0]]['Confirmed']])/(100.**2),\n",
    "        ),\n",
    "        text=textList,\n",
    "        hovertext=['Comfirmed: {}<br>Recovered: {}<br>Death: {}'.format(i, j, k) for i, j, k in zip(dfs[keyList[0]]['Confirmed'],\n",
    "                                                                                                    dfs[keyList[0]]['Recovered'],\n",
    "                                                                                                    dfs[keyList[0]]['Deaths'])],\n",
    "    \n",
    "        hovertemplate = \"<b>%{text}</b><br><br>\" +\n",
    "                        \"%{hovertext}<br>\" +\n",
    "                        \"<extra></extra>\")\n",
    "    \n",
    "        )\n",
    "\n",
    "fig2.update_layout(\n",
    "#    title=dict(\n",
    "#        text=\"<b>Latest Coronavirus Outbreak Map<b>\",\n",
    "#        y=0.96, x=0.5, xanchor='center', yanchor='top',\n",
    "#        font=dict(size=20, color=\"#292929\", family=\"Playfair Display\")\n",
    "#    ),\n",
    "    plot_bgcolor='#151920',\n",
    "    paper_bgcolor='#cbd2d3',\n",
    "    margin=go.layout.Margin(\n",
    "        l=10,\n",
    "        r=10,\n",
    "        b=10,\n",
    "        t=0,\n",
    "        pad=40\n",
    "    ),\n",
    "    hovermode='closest',\n",
    "    mapbox=go.layout.Mapbox(\n",
    "        accesstoken=mapbox_access_token,\n",
    "        style=\"light\",\n",
    "        bearing=0,\n",
    "        center=go.layout.mapbox.Center(\n",
    "            lat=31.1517252, \n",
    "            lon=112.8783222\n",
    "        ),\n",
    "        pitch=0,\n",
    "        zoom=4\n",
    "    )\n",
    ")\n",
    "\n",
    "fig2.show()"
   ]
  },
  {
   "cell_type": "code",
   "execution_count": 32,
   "metadata": {},
   "outputs": [],
   "source": [
    "import dash\n",
    "import dash_table\n",
    "import dash_core_components as dcc\n",
    "import dash_html_components as html \n",
    "import dash_bootstrap_components as dbc\n",
    "from dash.dependencies import Input, Output"
   ]
  },
  {
   "cell_type": "code",
   "execution_count": 35,
   "metadata": {},
   "outputs": [],
   "source": [
    "app = dash.Dash(__name__, \n",
    "                assets_folder='./assets/',\n",
    "                meta_tags=[\n",
    "                    {\"name\": \"viewport\", \"content\": \"width=device-width, height=device-height, initial-scale=1.0\"}\n",
    "                ]\n",
    "      )"
   ]
  },
  {
   "cell_type": "code",
   "execution_count": 33,
   "metadata": {},
   "outputs": [
    {
     "ename": "NameError",
     "evalue": "name 'html' is not defined",
     "output_type": "error",
     "traceback": [
      "\u001b[0;31m---------------------------------------------------------------------------\u001b[0m",
      "\u001b[0;31mNameError\u001b[0m                                 Traceback (most recent call last)",
      "\u001b[0;32m<ipython-input-33-8a3ddc680369>\u001b[0m in \u001b[0;36m<module>\u001b[0;34m\u001b[0m\n\u001b[0;32m----> 1\u001b[0;31m app.layout = html.Div(style={'backgroundColor':'#f4f4f2'},\n\u001b[0m\u001b[1;32m      2\u001b[0m     children=[\n\u001b[1;32m      3\u001b[0m         html.Div(\n\u001b[1;32m      4\u001b[0m             \u001b[0mid\u001b[0m\u001b[0;34m=\u001b[0m\u001b[0;34m\"header\"\u001b[0m\u001b[0;34m,\u001b[0m\u001b[0;34m\u001b[0m\u001b[0;34m\u001b[0m\u001b[0m\n\u001b[1;32m      5\u001b[0m             children=[                          \n",
      "\u001b[0;31mNameError\u001b[0m: name 'html' is not defined"
     ]
    }
   ],
   "source": [
    "app.layout = html.Div(style={'backgroundColor':'#f4f4f2'},\n",
    "    children=[\n",
    "        html.Div(\n",
    "            id=\"header\",\n",
    "            children=[                          \n",
    "                html.H4(children=\"Wuhan Coronavirus (2019-nCoV) Outbreak Monitor\"),\n",
    "                html.P(\n",
    "                    id=\"description\",\n",
    "                    children=\"On Dec 31, 2019, the World Health Organization (WHO) was informed of \\\n",
    "                    an outbreak of “pneumonia of unknown cause” detected in Wuhan City, Hubei Province, China – the \\\n",
    "                    seventh-largest city in China with 11 million residents. As of {}, there are over {:,d} cases \\\n",
    "                    of 2019-nCoV confirmed globally.\\\n",
    "                    This dash board is developed to visualise and track the recent reported \\\n",
    "                    cases on a daily timescale.\".format(latestDate, confirmedCases),\n",
    "                ),\n",
    "                html.P(style={'fontWeight':'bold'},\n",
    "                    children=\"Last updated on {}.\".format(latestDate))\n",
    "            ]        \n",
    "        ),\n",
    "        html.Div(\n",
    "            id=\"number-plate\",\n",
    "            style={'marginLeft':'1.5%','marginRight':'1.5%','marginBottom':'.5%'},\n",
    "                 children=[\n",
    "                     html.Div(\n",
    "                         style={'width':'24.4%','backgroundColor':'#cbd2d3','display':'inline-block',\n",
    "                                'marginRight':'.8%','verticalAlign':'top'},\n",
    "                              children=[\n",
    "                                  html.H3(style={'textAlign':'center',\n",
    "                                                 'fontWeight':'bold','color':'#ffffbf'},\n",
    "                                               children=[\n",
    "                                                   html.P(style={'color':'#cbd2d3','padding':'.5rem'},\n",
    "                                                              children='x'),\n",
    "                                                   '{}'.format(daysOutbreak),\n",
    "                                               ]),\n",
    "                                  html.H5(style={'textAlign':'center',\n",
    "                                                'fontWeight':'bold','color':'#ffffbf','padding':'.1rem'},\n",
    "                                               children=\"Days Since Outbreak\")                                        \n",
    "                                       ]),\n",
    "                     html.Div(\n",
    "                         style={'width':'24.4%','backgroundColor':'#cbd2d3','display':'inline-block',\n",
    "                                'marginRight':'.8%','verticalAlign':'top'},\n",
    "                              children=[\n",
    "                                  html.H3(style={'textAlign':'center',\n",
    "                                                 'fontWeight':'bold','color':'#d7191c'},\n",
    "                                                children=[\n",
    "                                                    html.P(style={'padding':'.5rem'},\n",
    "                                                              children='+ {:,d} from yesterday ({:.1%})'.format(plusConfirmedNum, plusPercentNum1)),\n",
    "                                                    '{:,d}'.format(confirmedCases)\n",
    "                                                         ]),\n",
    "                                  html.H5(style={'textAlign':'center',\n",
    "                                                'fontWeight':'bold','color':'#d7191c','padding':'.1rem'},\n",
    "                                               children=\"Confirmed Cases\")                                        \n",
    "                                       ]),\n",
    "                     html.Div(\n",
    "                         style={'width':'24.4%','backgroundColor':'#cbd2d3','display':'inline-block',\n",
    "                                'marginRight':'.8%','verticalAlign':'top'},\n",
    "                              children=[\n",
    "                                  html.H3(style={'textAlign':'center',\n",
    "                                                       'fontWeight':'bold','color':'#1a9622'},\n",
    "                                               children=[\n",
    "                                                   html.P(style={'padding':'.5rem'},\n",
    "                                                              children='+ {:,d} from yesterday ({:.1%})'.format(plusRecoveredNum, plusPercentNum2)),\n",
    "                                                   '{:,d}'.format(recoveredCases),\n",
    "                                               ]),\n",
    "                                  html.H5(style={'textAlign':'center',\n",
    "                                                      'fontWeight':'bold','color':'#1a9622','padding':'.1rem'},\n",
    "                                               children=\"Recovered Cases\")                                        \n",
    "                                       ]),\n",
    "                     html.Div(\n",
    "                         style={'width':'24.4%','backgroundColor':'#cbd2d3','display':'inline-block',\n",
    "                                'verticalAlign':'top'},\n",
    "                              children=[\n",
    "                                  html.H3(style={'textAlign':'center',\n",
    "                                                       'fontWeight':'bold','color':'#6c6c6c'},\n",
    "                                                children=[\n",
    "                                                    html.P(style={'padding':'.5rem'},\n",
    "                                                              children='+ {:,d} from yesterday ({:.1%})'.format(plusDeathNum, plusPercentNum3)),\n",
    "                                                    '{:,d}'.format(deathsCases)\n",
    "                                                ]),\n",
    "                                  html.H5(style={'textAlign':'center',\n",
    "                                                      'fontWeight':'bold','color':'#6c6c6c','padding':'.1rem'},\n",
    "                                               children=\"Death Cases\")                                        \n",
    "                                       ])\n",
    "                          ]),\n",
    "        html.Div(\n",
    "            id='dcc-plot',\n",
    "            style={'marginLeft':'1.5%','marginRight':'1.5%','marginBottom':'.35%','marginTop':'.5%'},\n",
    "                 children=[\n",
    "                     html.Div(\n",
    "                         style={'width':'32.79%','display':'inline-block','marginRight':'.8%','verticalAlign':'top'},\n",
    "                              children=[\n",
    "                                  html.H5(style={'textAlign':'center','backgroundColor':'#cbd2d3',\n",
    "                                                 'color':'#292929','padding':'1rem','marginBottom':'0'},\n",
    "                                               children='Confirmed Case Timeline'),\n",
    "                                  dcc.Graph(style={'height':'300px'},figure=fig_confirmed)]),\n",
    "                     html.Div(\n",
    "                         style={'width':'32.79%','display':'inline-block','marginRight':'.8%','verticalAlign':'top'},\n",
    "                              children=[\n",
    "                                  html.H5(style={'textAlign':'center','backgroundColor':'#cbd2d3',\n",
    "                                                 'color':'#292929','padding':'1rem','marginBottom':'0'},\n",
    "                                               children='Recovered Case Timeline'),\n",
    "                                  dcc.Graph(style={'height':'300px'},figure=fig_combine)]),\n",
    "                     html.Div(\n",
    "                         style={'width':'32.79%','display':'inline-block','verticalAlign':'top'},\n",
    "                              children=[\n",
    "                                  html.H5(style={'textAlign':'center','backgroundColor':'#cbd2d3',\n",
    "                                                 'color':'#292929','padding':'1rem','marginBottom':'0'},\n",
    "                                               children='Death Case Timeline'),\n",
    "                                  dcc.Graph(style={'height':'300px'},figure=fig_rate)])]),\n",
    "        html.Div(\n",
    "            id='dcc-map',\n",
    "            style={'marginLeft':'1.5%','marginRight':'1.5%','marginBottom':'.5%'},\n",
    "                 children=[\n",
    "                     html.Div(style={'width':'72.6%','marginRight':'.8%','display':'inline-block','verticalAlign':'top'},\n",
    "                              children=[\n",
    "                                  html.H5(style={'textAlign':'center','backgroundColor':'#cbd2d3',\n",
    "                                                 'color':'#292929','padding':'1rem','marginBottom':'0'},\n",
    "                                               children='Latest Coronavirus Outbreak Map'),\n",
    "                                  dcc.Graph(style={'height':'500px'}, figure=fig2)]),\n",
    "                     html.Div(style={'width':'26.6%','display':'inline-block','verticalAlign':'top'},\n",
    "                              children=[\n",
    "                                  html.H5(style={'textAlign':'center','backgroundColor':'#cbd2d3',\n",
    "                                                 'color':'#292929','padding':'1rem','marginBottom':'0'},\n",
    "                                               children='Cases by Country/Regions'),\n",
    "                                  dash_table.DataTable(\n",
    "                                      columns=[{\"name\": i, \"id\": i} for i in dfSum.columns[0:4]],\n",
    "                                      data=dfSum.to_dict(\"rows\"),\n",
    "                                      row_selectable=\"single\",\n",
    "                                      selected_rows=[],\n",
    "                                      sort_action=\"native\",\n",
    "                                      style_as_list_view=True,\n",
    "                                      style_cell={\n",
    "                                          'font_family':'Arial',\n",
    "                                          'font_size':'1.5rem',\n",
    "                                          'padding':'.1rem',\n",
    "                                          'backgroundColor':'#f4f4f2'\n",
    "                                      },\n",
    "                                      fixed_rows={ 'headers': True, 'data': 0 },\n",
    "                                      style_header={\n",
    "                                        'backgroundColor': '#f4f4f2',\n",
    "                                        'fontWeight':'bold'},\n",
    "                                      style_table={\n",
    "                                          'maxHeight':'500px',\n",
    "                                          'overflowX':'scroll',\n",
    "                                      },\n",
    "                                      style_cell_conditional=[\n",
    "                                          {'if': {'column_id':'Country/Regions'},'width':'40%'},\n",
    "                                          {'if': {'column_id':'Confirmed'},'width':'20%'},\n",
    "                                          {'if': {'column_id':'Recovered'},'width':'20%'},\n",
    "                                          {'if': {'column_id':'Deaths'},'width':'20%'},\n",
    "                                          {'if': {'column_id':'Confirmed'},'color':'#d7191c'},\n",
    "                                          {'if': {'column_id':'Recovered'},'color':'#1a9622'},\n",
    "                                          {'if': {'column_id':'Deaths'},'color':'#6c6c6c'},\n",
    "                                          {'textAlign': 'center'}\n",
    "                                      ],\n",
    "                                  )\n",
    "                              ])\n",
    "                 ]),\n",
    "        html.Div(style={'marginLeft':'1.5%','marginRight':'1.5%'},\n",
    "                 children=[\n",
    "                     html.P(style={'textAlign':'center','margin':'auto'},\n",
    "                            children=[\"Data source from \", \n",
    "                                      html.A('JHU CSSE,', href='https://docs.google.com/spreadsheets/d/1yZv9w9z\\\n",
    "                                      RKwrGTaR-YzmAqMefw4wMlaXocejdxZaTs6w/htmlview?usp=sharing&sle=true#'),\n",
    "                                      html.A(' Dingxiangyuan', href='https://ncov.dxy.cn/ncovh5/view/pneumonia?sce\\\n",
    "                                      ne=2&clicktime=1579582238&enterid=1579582238&from=singlemessage&isappinstalled=0'),\n",
    "                                      \" | 🙏 Pray for China, Pray for the World 🙏 |\",\n",
    "                                      \" Developed by \",html.A('Jun', href='https://junye0798.com/'),\" with ❤️\"])])\n",
    "\n",
    "            ])\n"
   ]
  },
  {
   "cell_type": "code",
   "execution_count": 143,
   "metadata": {},
   "outputs": [
    {
     "name": "stdout",
     "output_type": "stream",
     "text": [
      " * Serving Flask app \"__main__\" (lazy loading)\n",
      " * Environment: production\n",
      "   WARNING: This is a development server. Do not use it in a production deployment.\n",
      "   Use a production WSGI server instead.\n",
      " * Debug mode: off\n"
     ]
    },
    {
     "name": "stderr",
     "output_type": "stream",
     "text": [
      " * Running on http://127.0.0.1:8882/ (Press CTRL+C to quit)\n",
      "127.0.0.1 - - [06/Feb/2020 14:21:38] \"GET / HTTP/1.1\" 200 -\n",
      "127.0.0.1 - - [06/Feb/2020 14:21:38] \"GET /_dash-component-suites/dash_renderer/prop-types@15.7.2.min.js?v=1.1.2&m=1576595738 HTTP/1.1\" 200 -\n",
      "127.0.0.1 - - [06/Feb/2020 14:21:38] \"GET /_dash-component-suites/dash_renderer/react@16.8.6.min.js?v=1.1.2&m=1576595738 HTTP/1.1\" 200 -\n",
      "127.0.0.1 - - [06/Feb/2020 14:21:38] \"GET /_dash-component-suites/dash_renderer/react-dom@16.8.6.min.js?v=1.1.2&m=1576595738 HTTP/1.1\" 200 -\n",
      "127.0.0.1 - - [06/Feb/2020 14:21:38] \"GET /_dash-component-suites/dash_html_components/dash_html_components.min.js?v=1.0.1&m=1576596177 HTTP/1.1\" 200 -\n",
      "127.0.0.1 - - [06/Feb/2020 14:21:38] \"GET /_dash-component-suites/dash_core_components/highlight.pack.js?v=1.3.1&m=1576595950 HTTP/1.1\" 200 -\n",
      "127.0.0.1 - - [06/Feb/2020 14:21:38] \"GET /_dash-component-suites/dash_bootstrap_components/_components/dash_bootstrap_components.min.js?v=0.8.2&m=1580284437 HTTP/1.1\" 200 -\n",
      "127.0.0.1 - - [06/Feb/2020 14:21:38] \"GET /_dash-component-suites/dash_renderer/dash_renderer.min.js?v=1.1.2&m=1576595738 HTTP/1.1\" 200 -\n",
      "127.0.0.1 - - [06/Feb/2020 14:21:38] \"GET /_dash-component-suites/dash_core_components/dash_core_components.min.js?v=1.3.1&m=1576595950 HTTP/1.1\" 200 -\n",
      "127.0.0.1 - - [06/Feb/2020 14:21:38] \"GET /_dash-component-suites/dash_table/bundle.js?v=4.4.1&m=1576596075 HTTP/1.1\" 200 -\n",
      "127.0.0.1 - - [06/Feb/2020 14:21:38] \"GET /_dash-component-suites/dash_core_components/plotly-1.50.1.min.js?v=1.3.1&m=1576595950 HTTP/1.1\" 200 -\n",
      "127.0.0.1 - - [06/Feb/2020 14:21:39] \"GET /_dash-dependencies HTTP/1.1\" 200 -\n",
      "127.0.0.1 - - [06/Feb/2020 14:21:39] \"GET /_dash-layout HTTP/1.1\" 200 -\n"
     ]
    }
   ],
   "source": [
    "if __name__ == '__main__':\n",
    "    app.run_server(port=8882)"
   ]
  },
  {
   "cell_type": "code",
   "execution_count": null,
   "metadata": {},
   "outputs": [],
   "source": []
  },
  {
   "cell_type": "code",
   "execution_count": 39,
   "metadata": {},
   "outputs": [
    {
     "name": "stdout",
     "output_type": "stream",
     "text": [
      " * Serving Flask app \"__main__\" (lazy loading)\n",
      " * Environment: production\n",
      "   WARNING: This is a development server. Do not use it in a production deployment.\n",
      "   Use a production WSGI server instead.\n",
      " * Debug mode: off\n"
     ]
    },
    {
     "name": "stderr",
     "output_type": "stream",
     "text": [
      " * Running on http://127.0.0.1:8882/ (Press CTRL+C to quit)\n",
      "127.0.0.1 - - [11/Feb/2020 18:09:44] \"\u001b[37mGET / HTTP/1.1\u001b[0m\" 200 -\n",
      "127.0.0.1 - - [11/Feb/2020 18:09:45] \"\u001b[37mGET /_dash-dependencies HTTP/1.1\u001b[0m\" 200 -\n",
      "127.0.0.1 - - [11/Feb/2020 18:09:45] \"\u001b[37mGET /_dash-layout HTTP/1.1\u001b[0m\" 200 -\n",
      "127.0.0.1 - - [11/Feb/2020 18:09:45] \"\u001b[37mGET /_favicon.ico?v=1.8.0 HTTP/1.1\u001b[0m\" 200 -\n",
      "127.0.0.1 - - [11/Feb/2020 18:09:45] \"\u001b[37mPOST /_dash-update-component HTTP/1.1\u001b[0m\" 200 -\n",
      "127.0.0.1 - - [11/Feb/2020 18:09:45] \"\u001b[37mPOST /_dash-update-component HTTP/1.1\u001b[0m\" 200 -\n"
     ]
    }
   ],
   "source": [
    "# This is the version with app.callback\n",
    "\n",
    "app = dash.Dash(__name__, \n",
    "                assets_folder='./assets/',\n",
    "                meta_tags=[\n",
    "                    {\"name\": \"viewport\", \"content\": \"width=device-width, height=device-height, initial-scale=1.0\"}\n",
    "                ]\n",
    "      )\n",
    "\n",
    "app.layout = html.Div(style={'backgroundColor':'#f4f4f2'},\n",
    "    children=[\n",
    "        html.Div(\n",
    "            id=\"header\",\n",
    "            children=[                          \n",
    "                html.H4(children=\"Coronavirus (2019-nCoV) Outbreak Global Cases Monitor\"),\n",
    "                html.P(\n",
    "                    id=\"description\",\n",
    "                    children=\"On Dec 31, 2019, the World Health Organization (WHO) was informed of \\\n",
    "                    an outbreak of “pneumonia of unknown cause” detected in Wuhan City, Hubei Province, China – the \\\n",
    "                    seventh-largest city in China with 11 million residents. As of {}, there are over {:,d} cases \\\n",
    "                    of 2019-nCoV confirmed globally.\\\n",
    "                    This dash board is developed to visualise and track the recent reported \\\n",
    "                    cases on a daily timescale.\".format(latestDate, confirmedCases),\n",
    "                ),\n",
    "                html.P(style={'fontWeight':'bold'},\n",
    "                    children=\"Last updated on {}.\".format(latestDate))\n",
    "            ]        \n",
    "        ),\n",
    "        html.Div(\n",
    "            id=\"number-plate\",\n",
    "            style={'marginLeft':'1.5%','marginRight':'1.5%','marginBottom':'.5%'},\n",
    "                 children=[\n",
    "                     html.Div(\n",
    "                         style={'width':'24.4%','backgroundColor':'#cbd2d3','display':'inline-block',\n",
    "                                'marginRight':'.8%','verticalAlign':'top'},\n",
    "                              children=[\n",
    "                                  html.H3(style={'textAlign':'center',\n",
    "                                                 'fontWeight':'bold','color':'#2674f6'},\n",
    "                                               children=[\n",
    "                                                   html.P(style={'color':'#cbd2d3','padding':'.5rem'},\n",
    "                                                              children='xxxx xxxx xxxx xxx xxxxx'),\n",
    "                                                   '{}'.format(daysOutbreak),\n",
    "                                               ]),\n",
    "                                  html.H5(style={'textAlign':'center','color':'#2674f6','padding':'.1rem'},\n",
    "                                               children=\"Days Since Outbreak\")                                        \n",
    "                                       ]),\n",
    "                     html.Div(\n",
    "                         style={'width':'24.4%','backgroundColor':'#cbd2d3','display':'inline-block',\n",
    "                                'marginRight':'.8%','verticalAlign':'top'},\n",
    "                              children=[\n",
    "                                  html.H3(style={'textAlign':'center',\n",
    "                                                 'fontWeight':'bold','color':'#d7191c'},\n",
    "                                                children=[\n",
    "                                                    html.P(style={'padding':'.5rem'},\n",
    "                                                              children='+ {:,d} from past 24h ({:.1%})'.format(plusConfirmedNum, plusPercentNum1)),\n",
    "                                                    '{:,d}'.format(confirmedCases)\n",
    "                                                         ]),\n",
    "                                  html.H5(style={'textAlign':'center','color':'#d7191c','padding':'.1rem'},\n",
    "                                               children=\"Confirmed Cases\")                                        \n",
    "                                       ]),\n",
    "                     html.Div(\n",
    "                         style={'width':'24.4%','backgroundColor':'#cbd2d3','display':'inline-block',\n",
    "                                'marginRight':'.8%','verticalAlign':'top'},\n",
    "                              children=[\n",
    "                                  html.H3(style={'textAlign':'center',\n",
    "                                                       'fontWeight':'bold','color':'#1a9622'},\n",
    "                                               children=[\n",
    "                                                   html.P(style={'padding':'.5rem'},\n",
    "                                                              children='+ {:,d} from past 24h ({:.1%})'.format(plusRecoveredNum, plusPercentNum2)),\n",
    "                                                   '{:,d}'.format(recoveredCases),\n",
    "                                               ]),\n",
    "                                  html.H5(style={'textAlign':'center','color':'#1a9622','padding':'.1rem'},\n",
    "                                               children=\"Recovered Cases\")                                        \n",
    "                                       ]),\n",
    "                     html.Div(\n",
    "                         style={'width':'24.4%','backgroundColor':'#cbd2d3','display':'inline-block',\n",
    "                                'verticalAlign':'top'},\n",
    "                              children=[\n",
    "                                  html.H3(style={'textAlign':'center',\n",
    "                                                       'fontWeight':'bold','color':'#6c6c6c'},\n",
    "                                                children=[\n",
    "                                                    html.P(style={'padding':'.5rem'},\n",
    "                                                              children='+ {:,d} from past 24h ({:.1%})'.format(plusDeathNum, plusPercentNum3)),\n",
    "                                                    '{:,d}'.format(deathsCases)\n",
    "                                                ]),\n",
    "                                  html.H5(style={'textAlign':'center','color':'#6c6c6c','padding':'.1rem'},\n",
    "                                               children=\"Death Cases\")                                        \n",
    "                                       ])\n",
    "                          ]),\n",
    "        html.Div(\n",
    "            id='dcc-plot',\n",
    "            style={'marginLeft':'1.5%','marginRight':'1.5%','marginBottom':'.35%','marginTop':'.5%'},\n",
    "                 children=[\n",
    "                     html.Div(\n",
    "                         style={'width':'32.79%','display':'inline-block','marginRight':'.8%','verticalAlign':'top'},\n",
    "                              children=[\n",
    "                                  html.H5(style={'textAlign':'center','backgroundColor':'#cbd2d3',\n",
    "                                                 'color':'#292929','padding':'1rem','marginBottom':'0'},\n",
    "                                               children='Confirmed Case Timeline'),\n",
    "                                  dcc.Graph(style={'height':'300px'},figure=fig_confirmed)]),\n",
    "                     html.Div(\n",
    "                         style={'width':'32.79%','display':'inline-block','marginRight':'.8%','verticalAlign':'top'},\n",
    "                              children=[\n",
    "                                  html.H5(style={'textAlign':'center','backgroundColor':'#cbd2d3',\n",
    "                                                 'color':'#292929','padding':'1rem','marginBottom':'0'},\n",
    "                                               children='Recovered/Death Case Timeline'),\n",
    "                                  dcc.Graph(style={'height':'300px'},figure=fig_combine)]),\n",
    "                     html.Div(\n",
    "                         style={'width':'32.79%','display':'inline-block','verticalAlign':'top'},\n",
    "                              children=[\n",
    "                                  html.H5(style={'textAlign':'center','backgroundColor':'#cbd2d3',\n",
    "                                                 'color':'#292929','padding':'1rem','marginBottom':'0'},\n",
    "                                               children='Death Rate Timeline'),\n",
    "                                  dcc.Graph(style={'height':'300px'},figure=fig_rate)])]),\n",
    "        html.Div(\n",
    "            id='dcc-map',\n",
    "            style={'marginLeft':'1.5%','marginRight':'1.5%','marginBottom':'.5%'},\n",
    "                 children=[\n",
    "                     html.Div(style={'width':'66.41%','marginRight':'.8%','display':'inline-block','verticalAlign':'top'},\n",
    "                              children=[\n",
    "                                  html.H5(style={'textAlign':'center','backgroundColor':'#cbd2d3',\n",
    "                                                 'color':'#292929','padding':'1rem','marginBottom':'0'},\n",
    "                                               children='Latest Coronavirus Outbreak Map'),\n",
    "                                  dcc.Graph(\n",
    "                                      id='datatable-interact-map',\n",
    "                                      style={'height':'500px'},\n",
    "                                  )\n",
    "                              ]),\n",
    "                     html.Div(style={'width':'32.79%','display':'inline-block','verticalAlign':'top'},\n",
    "                              children=[\n",
    "                                  html.H5(style={'textAlign':'center','backgroundColor':'#cbd2d3',\n",
    "                                                 'color':'#292929','padding':'1rem','marginBottom':'0'},\n",
    "                                               children='Cases by Country/Regions'),\n",
    "                                  dash_table.DataTable(\n",
    "                                      id='datatable-interact-location',\n",
    "                                      # Don't show coordinates\n",
    "                                      columns=[{\"name\": i, \"id\": i} for i in dfSum.columns[0:4]],\n",
    "                                      # But still store coordinates in the table for interactivity\n",
    "                                      data=dfSum.to_dict(\"rows\"),\n",
    "                                      row_selectable=\"single\",\n",
    "                                      #selected_rows=[],\n",
    "                                      sort_action=\"native\",\n",
    "                                      style_as_list_view=True,\n",
    "                                      style_cell={\n",
    "                                          'font_family':'Arial',\n",
    "                                          'font_size':'1.5rem',\n",
    "                                          'padding':'.1rem',\n",
    "                                          'backgroundColor':'#f4f4f2',\n",
    "                                      },\n",
    "                                      fixed_rows={'headers':True,'data':0},\n",
    "                                      style_table={\n",
    "                                          'maxHeight':'500px',\n",
    "                                          #'overflowY':'scroll',\n",
    "                                          'overflowX':'scroll',\n",
    "                                      },\n",
    "                                      style_header={\n",
    "                                        'backgroundColor':'#f4f4f2',\n",
    "                                        'fontWeight':'bold'},\n",
    "                                      style_cell_conditional=[\n",
    "                                          {'if': {'column_id':'Country/Regions'},'width':'40%'},\n",
    "                                          {'if': {'column_id':'Confirmed'},'width':'20%'},\n",
    "                                          {'if': {'column_id':'Recovered'},'width':'20%'},\n",
    "                                          {'if': {'column_id':'Deaths'},'width':'20%'},\n",
    "                                          {'if': {'column_id':'Confirmed'},'color':'#d7191c'},\n",
    "                                          {'if': {'column_id':'Recovered'},'color':'#1a9622'},\n",
    "                                          {'if': {'column_id':'Deaths'},'color':'#6c6c6c'},\n",
    "                                          {'textAlign': 'center'}\n",
    "                                      ],\n",
    "                                  )\n",
    "                              ])\n",
    "                 ]),\n",
    "        html.Div(style={'marginLeft':'1.5%','marginRight':'1.5%'},\n",
    "                 children=[\n",
    "                     html.P(style={'textAlign':'center','margin':'auto'},\n",
    "                            children=[\"Data source from \",\n",
    "                                      html.A('Dingxiangyuan, ', href='https://ncov.dxy.cn/ncovh5/view/pneumonia?sce\\\n",
    "                                      ne=2&clicktime=1579582238&enterid=1579582238&from=singlemessage&isappinstalled=0'),\n",
    "                                      html.A('Tencent News, ', href='https://news.qq.com//zt2020/page/feiyan.htm#charts'),\n",
    "                                      'and ', \n",
    "                                      html.A('JHU CSSE', href='https://docs.google.com/spreadsheets/d/1yZv9w9z\\\n",
    "                                      RKwrGTaR-YzmAqMefw4wMlaXocejdxZaTs6w/htmlview?usp=sharing&sle=true#'),\n",
    "                                      \" | 🙏 Pray for China, Pray for the World 🙏 |\",\n",
    "                                      \" Developed by \",html.A('Jun', href='https://junye0798.com/'),\" with ❤️\"])])\n",
    "\n",
    "            ])\n",
    "\n",
    "@app.callback(\n",
    "    Output('datatable-interact-map', 'figure'),\n",
    "    [Input('datatable-interact-location', 'derived_virtual_selected_rows')]\n",
    ")\n",
    "\n",
    "def update_figures(derived_virtual_selected_rows):\n",
    "    # When the table is first rendered, `derived_virtual_data` and\n",
    "    # `derived_virtual_selected_rows` will be `None`. This is due to an\n",
    "    # idiosyncracy in Dash (unsupplied properties are always None and Dash\n",
    "    # calls the dependent callbacks when the component is first rendered).\n",
    "    # So, if `rows` is `None`, then the component was just rendered\n",
    "    # and its value will be the same as the component's dataframe.\n",
    "    # Instead of setting `None` in here, you could also set\n",
    "    # `derived_virtual_data=df.to_rows('dict')` when you initialize\n",
    "    # the component.\n",
    "    if derived_virtual_selected_rows is None:\n",
    "        derived_virtual_selected_rows = []\n",
    "        \n",
    "    dff = dfSum\n",
    "        \n",
    "    mapbox_access_token = \"pk.eyJ1IjoicGxvdGx5bWFwYm94IiwiYSI6ImNqdnBvNDMyaTAxYzkzeW5ubWdpZ2VjbmMifQ.TXcBE-xg9BFdV2ocecc_7g\"\n",
    "\n",
    "    # Generate a list for hover text display\n",
    "    textList=[]\n",
    "    for area, region in zip(dfs[keyList[0]]['Province/State'], dfs[keyList[0]]['Country/Region']):\n",
    "        \n",
    "        if type(area) is str:\n",
    "            if region == \"Hong Kong\" or region == \"Macau\" or region == \"Taiwan\":\n",
    "                textList.append(area)\n",
    "            else:\n",
    "                textList.append(area+', '+region)\n",
    "        else:\n",
    "            textList.append(region)\n",
    "\n",
    "    fig2 = go.Figure(go.Scattermapbox(\n",
    "        lat=dfs[keyList[0]]['lat'],\n",
    "        lon=dfs[keyList[0]]['lon'],\n",
    "        mode='markers',\n",
    "        marker=go.scattermapbox.Marker(\n",
    "            color='#ca261d',\n",
    "            size=dfs[keyList[0]]['Confirmed'].tolist(), \n",
    "            sizemin=4,\n",
    "            sizemode='area',\n",
    "            sizeref=2.*max(dfs[keyList[0]]['Confirmed'].tolist())/(150.**2),\n",
    "        ),\n",
    "        text=textList,\n",
    "        hovertext=['Comfirmed: {}<br>Recovered: {}<br>Death: {}'.format(i, j, k) for i, j, k in zip(dfs[keyList[0]]['Confirmed'],\n",
    "                                                                                                    dfs[keyList[0]]['Recovered'],\n",
    "                                                                                                    dfs[keyList[0]]['Deaths'])],\n",
    "        hovertemplate = \"<b>%{text}</b><br><br>\" +\n",
    "                        \"%{hovertext}<br>\" +\n",
    "                        \"<extra></extra>\")\n",
    "    )\n",
    "    fig2.update_layout(\n",
    "        plot_bgcolor='#151920',\n",
    "        paper_bgcolor='#cbd2d3',\n",
    "        margin=go.layout.Margin(l=10,r=10,b=10,t=0,pad=40),\n",
    "        hovermode='closest',\n",
    "        transition = {'duration':1000},\n",
    "        mapbox=go.layout.Mapbox(\n",
    "            accesstoken=mapbox_access_token,\n",
    "            style=\"light\",\n",
    "            # The direction you're facing, measured clockwise as an angle from true north on a compass\n",
    "            bearing=0,\n",
    "            center=go.layout.mapbox.Center(\n",
    "                lat=3.684188 if len(derived_virtual_selected_rows)==0 else dff['lat'][derived_virtual_selected_rows[0]], \n",
    "                lon=148.374024 if len(derived_virtual_selected_rows)==0 else dff['lon'][derived_virtual_selected_rows[0]]\n",
    "            ),\n",
    "            pitch=0,\n",
    "            zoom=1.2 if len(derived_virtual_selected_rows)==0 else 4\n",
    "        )\n",
    "    )\n",
    "\n",
    "    return fig2\n",
    "\n",
    "if __name__ == '__main__':\n",
    "    app.run_server(port=8882)"
   ]
  },
  {
   "cell_type": "code",
   "execution_count": null,
   "metadata": {},
   "outputs": [],
   "source": []
  },
  {
   "cell_type": "code",
   "execution_count": null,
   "metadata": {},
   "outputs": [],
   "source": []
  }
 ],
 "metadata": {
  "kernelspec": {
   "display_name": "Python 3",
   "language": "python",
   "name": "python3"
  },
  "language_info": {
   "codemirror_mode": {
    "name": "ipython",
    "version": 3
   },
   "file_extension": ".py",
   "mimetype": "text/x-python",
   "name": "python",
   "nbconvert_exporter": "python",
   "pygments_lexer": "ipython3",
   "version": "3.6.9"
  },
  "toc": {
   "base_numbering": 1,
   "nav_menu": {},
   "number_sections": true,
   "sideBar": true,
   "skip_h1_title": false,
   "title_cell": "Table of Contents",
   "title_sidebar": "Contents",
   "toc_cell": false,
   "toc_position": {},
   "toc_section_display": true,
   "toc_window_display": false
  },
  "varInspector": {
   "cols": {
    "lenName": 16,
    "lenType": 16,
    "lenVar": 40
   },
   "kernels_config": {
    "python": {
     "delete_cmd_postfix": "",
     "delete_cmd_prefix": "del ",
     "library": "var_list.py",
     "varRefreshCmd": "print(var_dic_list())"
    },
    "r": {
     "delete_cmd_postfix": ") ",
     "delete_cmd_prefix": "rm(",
     "library": "var_list.r",
     "varRefreshCmd": "cat(var_dic_list()) "
    }
   },
   "types_to_exclude": [
    "module",
    "function",
    "builtin_function_or_method",
    "instance",
    "_Feature"
   ],
   "window_display": false
  }
 },
 "nbformat": 4,
 "nbformat_minor": 2
}
